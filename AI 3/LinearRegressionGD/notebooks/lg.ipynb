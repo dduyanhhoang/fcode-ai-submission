{
 "cells": [
  {
   "cell_type": "code",
   "execution_count": 9,
   "id": "31495d8635346150",
   "metadata": {
    "ExecuteTime": {
     "end_time": "2024-10-02T09:50:12.393323Z",
     "start_time": "2024-10-02T09:50:11.550986Z"
    }
   },
   "outputs": [
    {
     "name": "stdout",
     "output_type": "stream",
     "text": [
      "Requirement already satisfied: pandas in /home/dasus/anaconda3/envs/fcai03/lib/python3.12/site-packages (from -r ../requirements.txt (line 1)) (2.2.3)\r\n",
      "Requirement already satisfied: numpy in /home/dasus/anaconda3/envs/fcai03/lib/python3.12/site-packages (from -r ../requirements.txt (line 2)) (2.1.1)\r\n",
      "Requirement already satisfied: seaborn in /home/dasus/anaconda3/envs/fcai03/lib/python3.12/site-packages (from -r ../requirements.txt (line 3)) (0.13.2)\r\n",
      "Requirement already satisfied: matplotlib in /home/dasus/anaconda3/envs/fcai03/lib/python3.12/site-packages (from -r ../requirements.txt (line 4)) (3.9.2)\r\n",
      "Requirement already satisfied: jupyter in /home/dasus/anaconda3/envs/fcai03/lib/python3.12/site-packages (from -r ../requirements.txt (line 5)) (1.1.1)\r\n",
      "Requirement already satisfied: scikit-learn in /home/dasus/anaconda3/envs/fcai03/lib/python3.12/site-packages (from -r ../requirements.txt (line 6)) (1.5.2)\r\n",
      "Requirement already satisfied: python-dateutil>=2.8.2 in /home/dasus/anaconda3/envs/fcai03/lib/python3.12/site-packages (from pandas->-r ../requirements.txt (line 1)) (2.9.0.post0)\r\n",
      "Requirement already satisfied: pytz>=2020.1 in /home/dasus/anaconda3/envs/fcai03/lib/python3.12/site-packages (from pandas->-r ../requirements.txt (line 1)) (2024.2)\r\n",
      "Requirement already satisfied: tzdata>=2022.7 in /home/dasus/anaconda3/envs/fcai03/lib/python3.12/site-packages (from pandas->-r ../requirements.txt (line 1)) (2024.2)\r\n",
      "Requirement already satisfied: contourpy>=1.0.1 in /home/dasus/anaconda3/envs/fcai03/lib/python3.12/site-packages (from matplotlib->-r ../requirements.txt (line 4)) (1.3.0)\r\n",
      "Requirement already satisfied: cycler>=0.10 in /home/dasus/anaconda3/envs/fcai03/lib/python3.12/site-packages (from matplotlib->-r ../requirements.txt (line 4)) (0.12.1)\r\n",
      "Requirement already satisfied: fonttools>=4.22.0 in /home/dasus/anaconda3/envs/fcai03/lib/python3.12/site-packages (from matplotlib->-r ../requirements.txt (line 4)) (4.54.1)\r\n",
      "Requirement already satisfied: kiwisolver>=1.3.1 in /home/dasus/anaconda3/envs/fcai03/lib/python3.12/site-packages (from matplotlib->-r ../requirements.txt (line 4)) (1.4.7)\r\n",
      "Requirement already satisfied: packaging>=20.0 in /home/dasus/anaconda3/envs/fcai03/lib/python3.12/site-packages (from matplotlib->-r ../requirements.txt (line 4)) (24.1)\r\n",
      "Requirement already satisfied: pillow>=8 in /home/dasus/anaconda3/envs/fcai03/lib/python3.12/site-packages (from matplotlib->-r ../requirements.txt (line 4)) (10.4.0)\r\n",
      "Requirement already satisfied: pyparsing>=2.3.1 in /home/dasus/anaconda3/envs/fcai03/lib/python3.12/site-packages (from matplotlib->-r ../requirements.txt (line 4)) (3.1.4)\r\n",
      "Requirement already satisfied: notebook in /home/dasus/anaconda3/envs/fcai03/lib/python3.12/site-packages (from jupyter->-r ../requirements.txt (line 5)) (7.2.2)\r\n",
      "Requirement already satisfied: jupyter-console in /home/dasus/anaconda3/envs/fcai03/lib/python3.12/site-packages (from jupyter->-r ../requirements.txt (line 5)) (6.6.3)\r\n",
      "Requirement already satisfied: nbconvert in /home/dasus/anaconda3/envs/fcai03/lib/python3.12/site-packages (from jupyter->-r ../requirements.txt (line 5)) (7.16.4)\r\n",
      "Requirement already satisfied: ipykernel in /home/dasus/anaconda3/envs/fcai03/lib/python3.12/site-packages (from jupyter->-r ../requirements.txt (line 5)) (6.29.5)\r\n",
      "Requirement already satisfied: ipywidgets in /home/dasus/anaconda3/envs/fcai03/lib/python3.12/site-packages (from jupyter->-r ../requirements.txt (line 5)) (8.1.5)\r\n",
      "Requirement already satisfied: jupyterlab in /home/dasus/anaconda3/envs/fcai03/lib/python3.12/site-packages (from jupyter->-r ../requirements.txt (line 5)) (4.2.5)\r\n",
      "Requirement already satisfied: scipy>=1.6.0 in /home/dasus/anaconda3/envs/fcai03/lib/python3.12/site-packages (from scikit-learn->-r ../requirements.txt (line 6)) (1.14.1)\r\n",
      "Requirement already satisfied: joblib>=1.2.0 in /home/dasus/anaconda3/envs/fcai03/lib/python3.12/site-packages (from scikit-learn->-r ../requirements.txt (line 6)) (1.4.2)\r\n",
      "Requirement already satisfied: threadpoolctl>=3.1.0 in /home/dasus/anaconda3/envs/fcai03/lib/python3.12/site-packages (from scikit-learn->-r ../requirements.txt (line 6)) (3.5.0)\r\n",
      "Requirement already satisfied: six>=1.5 in /home/dasus/anaconda3/envs/fcai03/lib/python3.12/site-packages (from python-dateutil>=2.8.2->pandas->-r ../requirements.txt (line 1)) (1.16.0)\r\n",
      "Requirement already satisfied: comm>=0.1.1 in /home/dasus/anaconda3/envs/fcai03/lib/python3.12/site-packages (from ipykernel->jupyter->-r ../requirements.txt (line 5)) (0.2.2)\r\n",
      "Requirement already satisfied: debugpy>=1.6.5 in /home/dasus/anaconda3/envs/fcai03/lib/python3.12/site-packages (from ipykernel->jupyter->-r ../requirements.txt (line 5)) (1.8.6)\r\n",
      "Requirement already satisfied: ipython>=7.23.1 in /home/dasus/anaconda3/envs/fcai03/lib/python3.12/site-packages (from ipykernel->jupyter->-r ../requirements.txt (line 5)) (8.27.0)\r\n",
      "Requirement already satisfied: jupyter-client>=6.1.12 in /home/dasus/anaconda3/envs/fcai03/lib/python3.12/site-packages (from ipykernel->jupyter->-r ../requirements.txt (line 5)) (8.6.3)\r\n",
      "Requirement already satisfied: jupyter-core!=5.0.*,>=4.12 in /home/dasus/anaconda3/envs/fcai03/lib/python3.12/site-packages (from ipykernel->jupyter->-r ../requirements.txt (line 5)) (5.7.2)\r\n",
      "Requirement already satisfied: matplotlib-inline>=0.1 in /home/dasus/anaconda3/envs/fcai03/lib/python3.12/site-packages (from ipykernel->jupyter->-r ../requirements.txt (line 5)) (0.1.7)\r\n",
      "Requirement already satisfied: nest-asyncio in /home/dasus/anaconda3/envs/fcai03/lib/python3.12/site-packages (from ipykernel->jupyter->-r ../requirements.txt (line 5)) (1.6.0)\r\n",
      "Requirement already satisfied: psutil in /home/dasus/anaconda3/envs/fcai03/lib/python3.12/site-packages (from ipykernel->jupyter->-r ../requirements.txt (line 5)) (6.0.0)\r\n",
      "Requirement already satisfied: pyzmq>=24 in /home/dasus/anaconda3/envs/fcai03/lib/python3.12/site-packages (from ipykernel->jupyter->-r ../requirements.txt (line 5)) (26.2.0)\r\n",
      "Requirement already satisfied: tornado>=6.1 in /home/dasus/anaconda3/envs/fcai03/lib/python3.12/site-packages (from ipykernel->jupyter->-r ../requirements.txt (line 5)) (6.4.1)\r\n",
      "Requirement already satisfied: traitlets>=5.4.0 in /home/dasus/anaconda3/envs/fcai03/lib/python3.12/site-packages (from ipykernel->jupyter->-r ../requirements.txt (line 5)) (5.14.3)\r\n",
      "Requirement already satisfied: widgetsnbextension~=4.0.12 in /home/dasus/anaconda3/envs/fcai03/lib/python3.12/site-packages (from ipywidgets->jupyter->-r ../requirements.txt (line 5)) (4.0.13)\r\n",
      "Requirement already satisfied: jupyterlab-widgets~=3.0.12 in /home/dasus/anaconda3/envs/fcai03/lib/python3.12/site-packages (from ipywidgets->jupyter->-r ../requirements.txt (line 5)) (3.0.13)\r\n",
      "Requirement already satisfied: prompt-toolkit>=3.0.30 in /home/dasus/anaconda3/envs/fcai03/lib/python3.12/site-packages (from jupyter-console->jupyter->-r ../requirements.txt (line 5)) (3.0.48)\r\n",
      "Requirement already satisfied: pygments in /home/dasus/anaconda3/envs/fcai03/lib/python3.12/site-packages (from jupyter-console->jupyter->-r ../requirements.txt (line 5)) (2.18.0)\r\n",
      "Requirement already satisfied: async-lru>=1.0.0 in /home/dasus/anaconda3/envs/fcai03/lib/python3.12/site-packages (from jupyterlab->jupyter->-r ../requirements.txt (line 5)) (2.0.4)\r\n",
      "Requirement already satisfied: httpx>=0.25.0 in /home/dasus/anaconda3/envs/fcai03/lib/python3.12/site-packages (from jupyterlab->jupyter->-r ../requirements.txt (line 5)) (0.27.2)\r\n",
      "Requirement already satisfied: jinja2>=3.0.3 in /home/dasus/anaconda3/envs/fcai03/lib/python3.12/site-packages (from jupyterlab->jupyter->-r ../requirements.txt (line 5)) (3.1.4)\r\n",
      "Requirement already satisfied: jupyter-lsp>=2.0.0 in /home/dasus/anaconda3/envs/fcai03/lib/python3.12/site-packages (from jupyterlab->jupyter->-r ../requirements.txt (line 5)) (2.2.5)\r\n",
      "Requirement already satisfied: jupyter-server<3,>=2.4.0 in /home/dasus/anaconda3/envs/fcai03/lib/python3.12/site-packages (from jupyterlab->jupyter->-r ../requirements.txt (line 5)) (2.14.2)\r\n",
      "Requirement already satisfied: jupyterlab-server<3,>=2.27.1 in /home/dasus/anaconda3/envs/fcai03/lib/python3.12/site-packages (from jupyterlab->jupyter->-r ../requirements.txt (line 5)) (2.27.3)\r\n",
      "Requirement already satisfied: notebook-shim>=0.2 in /home/dasus/anaconda3/envs/fcai03/lib/python3.12/site-packages (from jupyterlab->jupyter->-r ../requirements.txt (line 5)) (0.2.4)\r\n",
      "Requirement already satisfied: setuptools>=40.1.0 in /home/dasus/anaconda3/envs/fcai03/lib/python3.12/site-packages (from jupyterlab->jupyter->-r ../requirements.txt (line 5)) (75.1.0)\r\n",
      "Requirement already satisfied: beautifulsoup4 in /home/dasus/anaconda3/envs/fcai03/lib/python3.12/site-packages (from nbconvert->jupyter->-r ../requirements.txt (line 5)) (4.12.3)\r\n",
      "Requirement already satisfied: bleach!=5.0.0 in /home/dasus/anaconda3/envs/fcai03/lib/python3.12/site-packages (from nbconvert->jupyter->-r ../requirements.txt (line 5)) (6.1.0)\r\n",
      "Requirement already satisfied: defusedxml in /home/dasus/anaconda3/envs/fcai03/lib/python3.12/site-packages (from nbconvert->jupyter->-r ../requirements.txt (line 5)) (0.7.1)\r\n",
      "Requirement already satisfied: jupyterlab-pygments in /home/dasus/anaconda3/envs/fcai03/lib/python3.12/site-packages (from nbconvert->jupyter->-r ../requirements.txt (line 5)) (0.3.0)\r\n",
      "Requirement already satisfied: markupsafe>=2.0 in /home/dasus/anaconda3/envs/fcai03/lib/python3.12/site-packages (from nbconvert->jupyter->-r ../requirements.txt (line 5)) (2.1.5)\r\n",
      "Requirement already satisfied: mistune<4,>=2.0.3 in /home/dasus/anaconda3/envs/fcai03/lib/python3.12/site-packages (from nbconvert->jupyter->-r ../requirements.txt (line 5)) (3.0.2)\r\n",
      "Requirement already satisfied: nbclient>=0.5.0 in /home/dasus/anaconda3/envs/fcai03/lib/python3.12/site-packages (from nbconvert->jupyter->-r ../requirements.txt (line 5)) (0.10.0)\r\n",
      "Requirement already satisfied: nbformat>=5.7 in /home/dasus/anaconda3/envs/fcai03/lib/python3.12/site-packages (from nbconvert->jupyter->-r ../requirements.txt (line 5)) (5.10.4)\r\n",
      "Requirement already satisfied: pandocfilters>=1.4.1 in /home/dasus/anaconda3/envs/fcai03/lib/python3.12/site-packages (from nbconvert->jupyter->-r ../requirements.txt (line 5)) (1.5.1)\r\n",
      "Requirement already satisfied: tinycss2 in /home/dasus/anaconda3/envs/fcai03/lib/python3.12/site-packages (from nbconvert->jupyter->-r ../requirements.txt (line 5)) (1.3.0)\r\n",
      "Requirement already satisfied: webencodings in /home/dasus/anaconda3/envs/fcai03/lib/python3.12/site-packages (from bleach!=5.0.0->nbconvert->jupyter->-r ../requirements.txt (line 5)) (0.5.1)\r\n",
      "Requirement already satisfied: anyio in /home/dasus/anaconda3/envs/fcai03/lib/python3.12/site-packages (from httpx>=0.25.0->jupyterlab->jupyter->-r ../requirements.txt (line 5)) (4.6.0)\r\n",
      "Requirement already satisfied: certifi in /home/dasus/anaconda3/envs/fcai03/lib/python3.12/site-packages (from httpx>=0.25.0->jupyterlab->jupyter->-r ../requirements.txt (line 5)) (2024.8.30)\r\n",
      "Requirement already satisfied: httpcore==1.* in /home/dasus/anaconda3/envs/fcai03/lib/python3.12/site-packages (from httpx>=0.25.0->jupyterlab->jupyter->-r ../requirements.txt (line 5)) (1.0.6)\r\n",
      "Requirement already satisfied: idna in /home/dasus/anaconda3/envs/fcai03/lib/python3.12/site-packages (from httpx>=0.25.0->jupyterlab->jupyter->-r ../requirements.txt (line 5)) (3.10)\r\n",
      "Requirement already satisfied: sniffio in /home/dasus/anaconda3/envs/fcai03/lib/python3.12/site-packages (from httpx>=0.25.0->jupyterlab->jupyter->-r ../requirements.txt (line 5)) (1.3.1)\r\n",
      "Requirement already satisfied: h11<0.15,>=0.13 in /home/dasus/anaconda3/envs/fcai03/lib/python3.12/site-packages (from httpcore==1.*->httpx>=0.25.0->jupyterlab->jupyter->-r ../requirements.txt (line 5)) (0.14.0)\r\n",
      "Requirement already satisfied: decorator in /home/dasus/anaconda3/envs/fcai03/lib/python3.12/site-packages (from ipython>=7.23.1->ipykernel->jupyter->-r ../requirements.txt (line 5)) (5.1.1)\r\n",
      "Requirement already satisfied: jedi>=0.16 in /home/dasus/anaconda3/envs/fcai03/lib/python3.12/site-packages (from ipython>=7.23.1->ipykernel->jupyter->-r ../requirements.txt (line 5)) (0.19.1)\r\n",
      "Requirement already satisfied: stack-data in /home/dasus/anaconda3/envs/fcai03/lib/python3.12/site-packages (from ipython>=7.23.1->ipykernel->jupyter->-r ../requirements.txt (line 5)) (0.6.3)\r\n",
      "Requirement already satisfied: pexpect>4.3 in /home/dasus/anaconda3/envs/fcai03/lib/python3.12/site-packages (from ipython>=7.23.1->ipykernel->jupyter->-r ../requirements.txt (line 5)) (4.9.0)\r\n",
      "Requirement already satisfied: platformdirs>=2.5 in /home/dasus/anaconda3/envs/fcai03/lib/python3.12/site-packages (from jupyter-core!=5.0.*,>=4.12->ipykernel->jupyter->-r ../requirements.txt (line 5)) (4.3.6)\r\n",
      "Requirement already satisfied: argon2-cffi>=21.1 in /home/dasus/anaconda3/envs/fcai03/lib/python3.12/site-packages (from jupyter-server<3,>=2.4.0->jupyterlab->jupyter->-r ../requirements.txt (line 5)) (23.1.0)\r\n",
      "Requirement already satisfied: jupyter-events>=0.9.0 in /home/dasus/anaconda3/envs/fcai03/lib/python3.12/site-packages (from jupyter-server<3,>=2.4.0->jupyterlab->jupyter->-r ../requirements.txt (line 5)) (0.10.0)\r\n",
      "Requirement already satisfied: jupyter-server-terminals>=0.4.4 in /home/dasus/anaconda3/envs/fcai03/lib/python3.12/site-packages (from jupyter-server<3,>=2.4.0->jupyterlab->jupyter->-r ../requirements.txt (line 5)) (0.5.3)\r\n",
      "Requirement already satisfied: overrides>=5.0 in /home/dasus/anaconda3/envs/fcai03/lib/python3.12/site-packages (from jupyter-server<3,>=2.4.0->jupyterlab->jupyter->-r ../requirements.txt (line 5)) (7.7.0)\r\n",
      "Requirement already satisfied: prometheus-client>=0.9 in /home/dasus/anaconda3/envs/fcai03/lib/python3.12/site-packages (from jupyter-server<3,>=2.4.0->jupyterlab->jupyter->-r ../requirements.txt (line 5)) (0.21.0)\r\n",
      "Requirement already satisfied: send2trash>=1.8.2 in /home/dasus/anaconda3/envs/fcai03/lib/python3.12/site-packages (from jupyter-server<3,>=2.4.0->jupyterlab->jupyter->-r ../requirements.txt (line 5)) (1.8.3)\r\n",
      "Requirement already satisfied: terminado>=0.8.3 in /home/dasus/anaconda3/envs/fcai03/lib/python3.12/site-packages (from jupyter-server<3,>=2.4.0->jupyterlab->jupyter->-r ../requirements.txt (line 5)) (0.18.1)\r\n",
      "Requirement already satisfied: websocket-client>=1.7 in /home/dasus/anaconda3/envs/fcai03/lib/python3.12/site-packages (from jupyter-server<3,>=2.4.0->jupyterlab->jupyter->-r ../requirements.txt (line 5)) (1.8.0)\r\n",
      "Requirement already satisfied: babel>=2.10 in /home/dasus/anaconda3/envs/fcai03/lib/python3.12/site-packages (from jupyterlab-server<3,>=2.27.1->jupyterlab->jupyter->-r ../requirements.txt (line 5)) (2.16.0)\r\n",
      "Requirement already satisfied: json5>=0.9.0 in /home/dasus/anaconda3/envs/fcai03/lib/python3.12/site-packages (from jupyterlab-server<3,>=2.27.1->jupyterlab->jupyter->-r ../requirements.txt (line 5)) (0.9.25)\r\n",
      "Requirement already satisfied: jsonschema>=4.18.0 in /home/dasus/anaconda3/envs/fcai03/lib/python3.12/site-packages (from jupyterlab-server<3,>=2.27.1->jupyterlab->jupyter->-r ../requirements.txt (line 5)) (4.23.0)\r\n",
      "Requirement already satisfied: requests>=2.31 in /home/dasus/anaconda3/envs/fcai03/lib/python3.12/site-packages (from jupyterlab-server<3,>=2.27.1->jupyterlab->jupyter->-r ../requirements.txt (line 5)) (2.32.3)\r\n",
      "Requirement already satisfied: fastjsonschema>=2.15 in /home/dasus/anaconda3/envs/fcai03/lib/python3.12/site-packages (from nbformat>=5.7->nbconvert->jupyter->-r ../requirements.txt (line 5)) (2.20.0)\r\n",
      "Requirement already satisfied: wcwidth in /home/dasus/anaconda3/envs/fcai03/lib/python3.12/site-packages (from prompt-toolkit>=3.0.30->jupyter-console->jupyter->-r ../requirements.txt (line 5)) (0.2.13)\r\n",
      "Requirement already satisfied: soupsieve>1.2 in /home/dasus/anaconda3/envs/fcai03/lib/python3.12/site-packages (from beautifulsoup4->nbconvert->jupyter->-r ../requirements.txt (line 5)) (2.6)\r\n",
      "Requirement already satisfied: argon2-cffi-bindings in /home/dasus/anaconda3/envs/fcai03/lib/python3.12/site-packages (from argon2-cffi>=21.1->jupyter-server<3,>=2.4.0->jupyterlab->jupyter->-r ../requirements.txt (line 5)) (21.2.0)\r\n",
      "Requirement already satisfied: parso<0.9.0,>=0.8.3 in /home/dasus/anaconda3/envs/fcai03/lib/python3.12/site-packages (from jedi>=0.16->ipython>=7.23.1->ipykernel->jupyter->-r ../requirements.txt (line 5)) (0.8.4)\r\n",
      "Requirement already satisfied: attrs>=22.2.0 in /home/dasus/anaconda3/envs/fcai03/lib/python3.12/site-packages (from jsonschema>=4.18.0->jupyterlab-server<3,>=2.27.1->jupyterlab->jupyter->-r ../requirements.txt (line 5)) (24.2.0)\r\n",
      "Requirement already satisfied: jsonschema-specifications>=2023.03.6 in /home/dasus/anaconda3/envs/fcai03/lib/python3.12/site-packages (from jsonschema>=4.18.0->jupyterlab-server<3,>=2.27.1->jupyterlab->jupyter->-r ../requirements.txt (line 5)) (2023.12.1)\r\n",
      "Requirement already satisfied: referencing>=0.28.4 in /home/dasus/anaconda3/envs/fcai03/lib/python3.12/site-packages (from jsonschema>=4.18.0->jupyterlab-server<3,>=2.27.1->jupyterlab->jupyter->-r ../requirements.txt (line 5)) (0.35.1)\r\n",
      "Requirement already satisfied: rpds-py>=0.7.1 in /home/dasus/anaconda3/envs/fcai03/lib/python3.12/site-packages (from jsonschema>=4.18.0->jupyterlab-server<3,>=2.27.1->jupyterlab->jupyter->-r ../requirements.txt (line 5)) (0.20.0)\r\n",
      "Requirement already satisfied: python-json-logger>=2.0.4 in /home/dasus/anaconda3/envs/fcai03/lib/python3.12/site-packages (from jupyter-events>=0.9.0->jupyter-server<3,>=2.4.0->jupyterlab->jupyter->-r ../requirements.txt (line 5)) (2.0.7)\r\n",
      "Requirement already satisfied: pyyaml>=5.3 in /home/dasus/anaconda3/envs/fcai03/lib/python3.12/site-packages (from jupyter-events>=0.9.0->jupyter-server<3,>=2.4.0->jupyterlab->jupyter->-r ../requirements.txt (line 5)) (6.0.2)\r\n",
      "Requirement already satisfied: rfc3339-validator in /home/dasus/anaconda3/envs/fcai03/lib/python3.12/site-packages (from jupyter-events>=0.9.0->jupyter-server<3,>=2.4.0->jupyterlab->jupyter->-r ../requirements.txt (line 5)) (0.1.4)\r\n",
      "Requirement already satisfied: rfc3986-validator>=0.1.1 in /home/dasus/anaconda3/envs/fcai03/lib/python3.12/site-packages (from jupyter-events>=0.9.0->jupyter-server<3,>=2.4.0->jupyterlab->jupyter->-r ../requirements.txt (line 5)) (0.1.1)\r\n",
      "Requirement already satisfied: ptyprocess>=0.5 in /home/dasus/anaconda3/envs/fcai03/lib/python3.12/site-packages (from pexpect>4.3->ipython>=7.23.1->ipykernel->jupyter->-r ../requirements.txt (line 5)) (0.7.0)\r\n",
      "Requirement already satisfied: charset-normalizer<4,>=2 in /home/dasus/anaconda3/envs/fcai03/lib/python3.12/site-packages (from requests>=2.31->jupyterlab-server<3,>=2.27.1->jupyterlab->jupyter->-r ../requirements.txt (line 5)) (3.3.2)\r\n",
      "Requirement already satisfied: urllib3<3,>=1.21.1 in /home/dasus/anaconda3/envs/fcai03/lib/python3.12/site-packages (from requests>=2.31->jupyterlab-server<3,>=2.27.1->jupyterlab->jupyter->-r ../requirements.txt (line 5)) (2.2.3)\r\n",
      "Requirement already satisfied: executing>=1.2.0 in /home/dasus/anaconda3/envs/fcai03/lib/python3.12/site-packages (from stack-data->ipython>=7.23.1->ipykernel->jupyter->-r ../requirements.txt (line 5)) (2.1.0)\r\n",
      "Requirement already satisfied: asttokens>=2.1.0 in /home/dasus/anaconda3/envs/fcai03/lib/python3.12/site-packages (from stack-data->ipython>=7.23.1->ipykernel->jupyter->-r ../requirements.txt (line 5)) (2.4.1)\r\n",
      "Requirement already satisfied: pure-eval in /home/dasus/anaconda3/envs/fcai03/lib/python3.12/site-packages (from stack-data->ipython>=7.23.1->ipykernel->jupyter->-r ../requirements.txt (line 5)) (0.2.3)\r\n",
      "Requirement already satisfied: fqdn in /home/dasus/anaconda3/envs/fcai03/lib/python3.12/site-packages (from jsonschema[format-nongpl]>=4.18.0->jupyter-events>=0.9.0->jupyter-server<3,>=2.4.0->jupyterlab->jupyter->-r ../requirements.txt (line 5)) (1.5.1)\r\n",
      "Requirement already satisfied: isoduration in /home/dasus/anaconda3/envs/fcai03/lib/python3.12/site-packages (from jsonschema[format-nongpl]>=4.18.0->jupyter-events>=0.9.0->jupyter-server<3,>=2.4.0->jupyterlab->jupyter->-r ../requirements.txt (line 5)) (20.11.0)\r\n",
      "Requirement already satisfied: jsonpointer>1.13 in /home/dasus/anaconda3/envs/fcai03/lib/python3.12/site-packages (from jsonschema[format-nongpl]>=4.18.0->jupyter-events>=0.9.0->jupyter-server<3,>=2.4.0->jupyterlab->jupyter->-r ../requirements.txt (line 5)) (3.0.0)\r\n",
      "Requirement already satisfied: uri-template in /home/dasus/anaconda3/envs/fcai03/lib/python3.12/site-packages (from jsonschema[format-nongpl]>=4.18.0->jupyter-events>=0.9.0->jupyter-server<3,>=2.4.0->jupyterlab->jupyter->-r ../requirements.txt (line 5)) (1.3.0)\r\n",
      "Requirement already satisfied: webcolors>=24.6.0 in /home/dasus/anaconda3/envs/fcai03/lib/python3.12/site-packages (from jsonschema[format-nongpl]>=4.18.0->jupyter-events>=0.9.0->jupyter-server<3,>=2.4.0->jupyterlab->jupyter->-r ../requirements.txt (line 5)) (24.8.0)\r\n",
      "Requirement already satisfied: cffi>=1.0.1 in /home/dasus/anaconda3/envs/fcai03/lib/python3.12/site-packages (from argon2-cffi-bindings->argon2-cffi>=21.1->jupyter-server<3,>=2.4.0->jupyterlab->jupyter->-r ../requirements.txt (line 5)) (1.17.1)\r\n",
      "Requirement already satisfied: pycparser in /home/dasus/anaconda3/envs/fcai03/lib/python3.12/site-packages (from cffi>=1.0.1->argon2-cffi-bindings->argon2-cffi>=21.1->jupyter-server<3,>=2.4.0->jupyterlab->jupyter->-r ../requirements.txt (line 5)) (2.22)\r\n",
      "Requirement already satisfied: arrow>=0.15.0 in /home/dasus/anaconda3/envs/fcai03/lib/python3.12/site-packages (from isoduration->jsonschema[format-nongpl]>=4.18.0->jupyter-events>=0.9.0->jupyter-server<3,>=2.4.0->jupyterlab->jupyter->-r ../requirements.txt (line 5)) (1.3.0)\r\n",
      "Requirement already satisfied: types-python-dateutil>=2.8.10 in /home/dasus/anaconda3/envs/fcai03/lib/python3.12/site-packages (from arrow>=0.15.0->isoduration->jsonschema[format-nongpl]>=4.18.0->jupyter-events>=0.9.0->jupyter-server<3,>=2.4.0->jupyterlab->jupyter->-r ../requirements.txt (line 5)) (2.9.0.20240906)\r\n"
     ]
    }
   ],
   "source": [
    "!pip install -r ../requirements.txt"
   ]
  },
  {
   "cell_type": "code",
   "execution_count": 1,
   "id": "initial_id",
   "metadata": {
    "ExecuteTime": {
     "end_time": "2024-10-02T09:37:11.511202Z",
     "start_time": "2024-10-02T09:37:11.434624Z"
    },
    "collapsed": true
   },
   "outputs": [],
   "source": [
    "import numpy as np"
   ]
  },
  {
   "cell_type": "code",
   "execution_count": 2,
   "id": "fce976bd7a8d9e4d",
   "metadata": {
    "ExecuteTime": {
     "end_time": "2024-10-02T09:37:11.537196Z",
     "start_time": "2024-10-02T09:37:11.527702Z"
    }
   },
   "outputs": [],
   "source": [
    "class LinearRegressionGD:\n",
    "    def __init__(self, learning_rate=0.01, momentum=0.9, n_iters=1000):\n",
    "        self.learning_rate = learning_rate\n",
    "        self.momentum = momentum\n",
    "        self.n_iters = n_iters\n",
    "        self.weights = None\n",
    "        self.bias = None\n",
    "        self.velocity_w = None\n",
    "        self.velocity_b = None\n",
    "\n",
    "    def fit(self, X, y):\n",
    "        n_samples, n_features = X.shape\n",
    "\n",
    "        self.weights = np.zeros(n_features)\n",
    "        self.bias = 0\n",
    "\n",
    "        self.velocity_w = np.zeros(n_features)\n",
    "        self.velocity_b = 0\n",
    "\n",
    "        for _ in range(self.n_iters):\n",
    "            y_predicted = np.dot(X, self.weights) + self.bias\n",
    "\n",
    "            dw = (1 / n_samples) * np.dot(X.T, (y_predicted - y))\n",
    "            db = (1 / n_samples) * np.sum(y_predicted - y)\n",
    "\n",
    "            self.velocity_w = self.momentum * self.velocity_w - self.learning_rate * dw\n",
    "            self.velocity_b = self.momentum * self.velocity_b - self.learning_rate * db\n",
    "\n",
    "            self.weights += self.velocity_w\n",
    "            self.bias += self.velocity_b\n",
    "\n",
    "    def predict(self, X):\n",
    "        return np.dot(X, self.weights) + self.bias"
   ]
  },
  {
   "cell_type": "code",
   "execution_count": 3,
   "id": "8edad3c05a00c56a",
   "metadata": {
    "ExecuteTime": {
     "end_time": "2024-10-02T09:37:11.599274Z",
     "start_time": "2024-10-02T09:37:11.591323Z"
    }
   },
   "outputs": [],
   "source": [
    "# Generate synthetic data\n",
    "np.random.seed(42)\n",
    "X = 2 * np.random.rand(100, 1)  # 100 samples, 1 feature\n",
    "y = 4 + 3 * X.squeeze() + np.random.randn(100)  # y = 4 + 3x + Gaussian noise\n",
    "\n",
    "y = y.reshape(-1)"
   ]
  },
  {
   "cell_type": "code",
   "execution_count": 4,
   "id": "bfedb254f5cbd56e",
   "metadata": {
    "ExecuteTime": {
     "end_time": "2024-10-02T09:37:12.173147Z",
     "start_time": "2024-10-02T09:37:11.634678Z"
    }
   },
   "outputs": [],
   "source": [
    "from sklearn.model_selection import train_test_split\n",
    "\n",
    "# Split data (80% training, 20% testing)\n",
    "X_train, X_test, y_train, y_test = train_test_split(X, y, test_size=0.2, random_state=42)"
   ]
  },
  {
   "cell_type": "code",
   "execution_count": 5,
   "id": "983febd08e58f77a",
   "metadata": {
    "ExecuteTime": {
     "end_time": "2024-10-02T09:37:12.195515Z",
     "start_time": "2024-10-02T09:37:12.181231Z"
    }
   },
   "outputs": [],
   "source": [
    "model = LinearRegressionGD(learning_rate=0.1, momentum=0.9, n_iters=1000)\n",
    "model.fit(X_train, y_train)"
   ]
  },
  {
   "cell_type": "code",
   "execution_count": 6,
   "id": "f79215184a6a9747",
   "metadata": {
    "ExecuteTime": {
     "end_time": "2024-10-02T09:37:12.225741Z",
     "start_time": "2024-10-02T09:37:12.223101Z"
    }
   },
   "outputs": [],
   "source": [
    "y_pred = model.predict(X_test)"
   ]
  },
  {
   "cell_type": "code",
   "execution_count": 7,
   "id": "315462b49e9ca5e6",
   "metadata": {
    "ExecuteTime": {
     "end_time": "2024-10-02T09:37:12.272689Z",
     "start_time": "2024-10-02T09:37:12.268723Z"
    }
   },
   "outputs": [
    {
     "name": "stdout",
     "output_type": "stream",
     "text": [
      "Mean Squared Error: 0.6537\n"
     ]
    }
   ],
   "source": [
    "from sklearn.metrics import mean_squared_error\n",
    "\n",
    "mse = mean_squared_error(y_test, y_pred)\n",
    "print(f\"Mean Squared Error: {mse:.4f}\")"
   ]
  },
  {
   "cell_type": "code",
   "execution_count": 8,
   "id": "84c6539197684597",
   "metadata": {
    "ExecuteTime": {
     "end_time": "2024-10-02T09:37:12.687630Z",
     "start_time": "2024-10-02T09:37:12.380575Z"
    }
   },
   "outputs": [
    {
     "data": {
      "image/png": "[encoded data removed]",
      "text/plain": [
       "<Figure size 640x480 with 1 Axes>"
      ]
     },
     "metadata": {},
     "output_type": "display_data"
    }
   ],
   "source": [
    "import matplotlib.pyplot as plt\n",
    "\n",
    "plt.scatter(X_test, y_test, color='blue', label='Actual')\n",
    "plt.scatter(X_test, y_pred, color='red', label='Predicted')\n",
    "plt.xlabel('Feature')\n",
    "plt.ylabel('Target')\n",
    "plt.title('Linear Regression Prediction')\n",
    "plt.legend()\n",
    "plt.show()\n"
   ]
  },
  {
   "cell_type": "code",
   "execution_count": null,
   "id": "65511f47dd5f69b7",
   "metadata": {
    "ExecuteTime": {
     "end_time": "2024-10-02T09:37:12.699252Z",
     "start_time": "2024-10-02T09:37:12.697449Z"
    }
   },
   "outputs": [],
   "source": []
  }
 ],
 "metadata": {
  "kernelspec": {
   "display_name": "Python 3",
   "language": "python",
   "name": "python3"
  },
  "language_info": {
   "codemirror_mode": {
    "name": "ipython",
    "version": 2
   },
   "file_extension": ".py",
   "mimetype": "text/x-python",
   "name": "python",
   "nbconvert_exporter": "python",
   "pygments_lexer": "ipython2",
   "version": "2.7.6"
  }
 },
 "nbformat": 4,
 "nbformat_minor": 5
}
