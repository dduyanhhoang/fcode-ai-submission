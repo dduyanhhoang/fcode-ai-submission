{
 "cells": [
  {
   "metadata": {},
   "cell_type": "markdown",
   "source": [
    "# Preparation\n",
    "## Install depedencies"
   ],
   "id": "75a3d3ea4dcfe10e"
  },
  {
   "cell_type": "code",
   "id": "initial_id",
   "metadata": {
    "collapsed": true,
    "ExecuteTime": {
     "end_time": "2024-10-02T10:07:05.853312Z",
     "start_time": "2024-10-02T10:07:04.954314Z"
    }
   },
   "source": "!pip install -r ../requirements.txt",
   "outputs": [
    {
     "name": "stdout",
     "output_type": "stream",
     "text": [
      "Requirement already satisfied: pandas in /home/dasus/anaconda3/envs/fcai03/lib/python3.12/site-packages (from -r ../requirements.txt (line 1)) (2.2.3)\r\n",
      "Requirement already satisfied: numpy in /home/dasus/anaconda3/envs/fcai03/lib/python3.12/site-packages (from -r ../requirements.txt (line 2)) (2.1.1)\r\n",
      "Requirement already satisfied: seaborn in /home/dasus/anaconda3/envs/fcai03/lib/python3.12/site-packages (from -r ../requirements.txt (line 3)) (0.13.2)\r\n",
      "Requirement already satisfied: matplotlib in /home/dasus/anaconda3/envs/fcai03/lib/python3.12/site-packages (from -r ../requirements.txt (line 4)) (3.9.2)\r\n",
      "Requirement already satisfied: jupyter in /home/dasus/anaconda3/envs/fcai03/lib/python3.12/site-packages (from -r ../requirements.txt (line 5)) (1.1.1)\r\n",
      "Requirement already satisfied: scikit-learn in /home/dasus/anaconda3/envs/fcai03/lib/python3.12/site-packages (from -r ../requirements.txt (line 6)) (1.5.2)\r\n",
      "Requirement already satisfied: python-dateutil>=2.8.2 in /home/dasus/anaconda3/envs/fcai03/lib/python3.12/site-packages (from pandas->-r ../requirements.txt (line 1)) (2.9.0.post0)\r\n",
      "Requirement already satisfied: pytz>=2020.1 in /home/dasus/anaconda3/envs/fcai03/lib/python3.12/site-packages (from pandas->-r ../requirements.txt (line 1)) (2024.2)\r\n",
      "Requirement already satisfied: tzdata>=2022.7 in /home/dasus/anaconda3/envs/fcai03/lib/python3.12/site-packages (from pandas->-r ../requirements.txt (line 1)) (2024.2)\r\n",
      "Requirement already satisfied: contourpy>=1.0.1 in /home/dasus/anaconda3/envs/fcai03/lib/python3.12/site-packages (from matplotlib->-r ../requirements.txt (line 4)) (1.3.0)\r\n",
      "Requirement already satisfied: cycler>=0.10 in /home/dasus/anaconda3/envs/fcai03/lib/python3.12/site-packages (from matplotlib->-r ../requirements.txt (line 4)) (0.12.1)\r\n",
      "Requirement already satisfied: fonttools>=4.22.0 in /home/dasus/anaconda3/envs/fcai03/lib/python3.12/site-packages (from matplotlib->-r ../requirements.txt (line 4)) (4.54.1)\r\n",
      "Requirement already satisfied: kiwisolver>=1.3.1 in /home/dasus/anaconda3/envs/fcai03/lib/python3.12/site-packages (from matplotlib->-r ../requirements.txt (line 4)) (1.4.7)\r\n",
      "Requirement already satisfied: packaging>=20.0 in /home/dasus/anaconda3/envs/fcai03/lib/python3.12/site-packages (from matplotlib->-r ../requirements.txt (line 4)) (24.1)\r\n",
      "Requirement already satisfied: pillow>=8 in /home/dasus/anaconda3/envs/fcai03/lib/python3.12/site-packages (from matplotlib->-r ../requirements.txt (line 4)) (10.4.0)\r\n",
      "Requirement already satisfied: pyparsing>=2.3.1 in /home/dasus/anaconda3/envs/fcai03/lib/python3.12/site-packages (from matplotlib->-r ../requirements.txt (line 4)) (3.1.4)\r\n",
      "Requirement already satisfied: notebook in /home/dasus/anaconda3/envs/fcai03/lib/python3.12/site-packages (from jupyter->-r ../requirements.txt (line 5)) (7.2.2)\r\n",
      "Requirement already satisfied: jupyter-console in /home/dasus/anaconda3/envs/fcai03/lib/python3.12/site-packages (from jupyter->-r ../requirements.txt (line 5)) (6.6.3)\r\n",
      "Requirement already satisfied: nbconvert in /home/dasus/anaconda3/envs/fcai03/lib/python3.12/site-packages (from jupyter->-r ../requirements.txt (line 5)) (7.16.4)\r\n",
      "Requirement already satisfied: ipykernel in /home/dasus/anaconda3/envs/fcai03/lib/python3.12/site-packages (from jupyter->-r ../requirements.txt (line 5)) (6.29.5)\r\n",
      "Requirement already satisfied: ipywidgets in /home/dasus/anaconda3/envs/fcai03/lib/python3.12/site-packages (from jupyter->-r ../requirements.txt (line 5)) (8.1.5)\r\n",
      "Requirement already satisfied: jupyterlab in /home/dasus/anaconda3/envs/fcai03/lib/python3.12/site-packages (from jupyter->-r ../requirements.txt (line 5)) (4.2.5)\r\n",
      "Requirement already satisfied: scipy>=1.6.0 in /home/dasus/anaconda3/envs/fcai03/lib/python3.12/site-packages (from scikit-learn->-r ../requirements.txt (line 6)) (1.14.1)\r\n",
      "Requirement already satisfied: joblib>=1.2.0 in /home/dasus/anaconda3/envs/fcai03/lib/python3.12/site-packages (from scikit-learn->-r ../requirements.txt (line 6)) (1.4.2)\r\n",
      "Requirement already satisfied: threadpoolctl>=3.1.0 in /home/dasus/anaconda3/envs/fcai03/lib/python3.12/site-packages (from scikit-learn->-r ../requirements.txt (line 6)) (3.5.0)\r\n",
      "Requirement already satisfied: six>=1.5 in /home/dasus/anaconda3/envs/fcai03/lib/python3.12/site-packages (from python-dateutil>=2.8.2->pandas->-r ../requirements.txt (line 1)) (1.16.0)\r\n",
      "Requirement already satisfied: comm>=0.1.1 in /home/dasus/anaconda3/envs/fcai03/lib/python3.12/site-packages (from ipykernel->jupyter->-r ../requirements.txt (line 5)) (0.2.2)\r\n",
      "Requirement already satisfied: debugpy>=1.6.5 in /home/dasus/anaconda3/envs/fcai03/lib/python3.12/site-packages (from ipykernel->jupyter->-r ../requirements.txt (line 5)) (1.8.6)\r\n",
      "Requirement already satisfied: ipython>=7.23.1 in /home/dasus/anaconda3/envs/fcai03/lib/python3.12/site-packages (from ipykernel->jupyter->-r ../requirements.txt (line 5)) (8.27.0)\r\n",
      "Requirement already satisfied: jupyter-client>=6.1.12 in /home/dasus/anaconda3/envs/fcai03/lib/python3.12/site-packages (from ipykernel->jupyter->-r ../requirements.txt (line 5)) (8.6.3)\r\n",
      "Requirement already satisfied: jupyter-core!=5.0.*,>=4.12 in /home/dasus/anaconda3/envs/fcai03/lib/python3.12/site-packages (from ipykernel->jupyter->-r ../requirements.txt (line 5)) (5.7.2)\r\n",
      "Requirement already satisfied: matplotlib-inline>=0.1 in /home/dasus/anaconda3/envs/fcai03/lib/python3.12/site-packages (from ipykernel->jupyter->-r ../requirements.txt (line 5)) (0.1.7)\r\n",
      "Requirement already satisfied: nest-asyncio in /home/dasus/anaconda3/envs/fcai03/lib/python3.12/site-packages (from ipykernel->jupyter->-r ../requirements.txt (line 5)) (1.6.0)\r\n",
      "Requirement already satisfied: psutil in /home/dasus/anaconda3/envs/fcai03/lib/python3.12/site-packages (from ipykernel->jupyter->-r ../requirements.txt (line 5)) (6.0.0)\r\n",
      "Requirement already satisfied: pyzmq>=24 in /home/dasus/anaconda3/envs/fcai03/lib/python3.12/site-packages (from ipykernel->jupyter->-r ../requirements.txt (line 5)) (26.2.0)\r\n",
      "Requirement already satisfied: tornado>=6.1 in /home/dasus/anaconda3/envs/fcai03/lib/python3.12/site-packages (from ipykernel->jupyter->-r ../requirements.txt (line 5)) (6.4.1)\r\n",
      "Requirement already satisfied: traitlets>=5.4.0 in /home/dasus/anaconda3/envs/fcai03/lib/python3.12/site-packages (from ipykernel->jupyter->-r ../requirements.txt (line 5)) (5.14.3)\r\n",
      "Requirement already satisfied: widgetsnbextension~=4.0.12 in /home/dasus/anaconda3/envs/fcai03/lib/python3.12/site-packages (from ipywidgets->jupyter->-r ../requirements.txt (line 5)) (4.0.13)\r\n",
      "Requirement already satisfied: jupyterlab-widgets~=3.0.12 in /home/dasus/anaconda3/envs/fcai03/lib/python3.12/site-packages (from ipywidgets->jupyter->-r ../requirements.txt (line 5)) (3.0.13)\r\n",
      "Requirement already satisfied: prompt-toolkit>=3.0.30 in /home/dasus/anaconda3/envs/fcai03/lib/python3.12/site-packages (from jupyter-console->jupyter->-r ../requirements.txt (line 5)) (3.0.48)\r\n",
      "Requirement already satisfied: pygments in /home/dasus/anaconda3/envs/fcai03/lib/python3.12/site-packages (from jupyter-console->jupyter->-r ../requirements.txt (line 5)) (2.18.0)\r\n",
      "Requirement already satisfied: async-lru>=1.0.0 in /home/dasus/anaconda3/envs/fcai03/lib/python3.12/site-packages (from jupyterlab->jupyter->-r ../requirements.txt (line 5)) (2.0.4)\r\n",
      "Requirement already satisfied: httpx>=0.25.0 in /home/dasus/anaconda3/envs/fcai03/lib/python3.12/site-packages (from jupyterlab->jupyter->-r ../requirements.txt (line 5)) (0.27.2)\r\n",
      "Requirement already satisfied: jinja2>=3.0.3 in /home/dasus/anaconda3/envs/fcai03/lib/python3.12/site-packages (from jupyterlab->jupyter->-r ../requirements.txt (line 5)) (3.1.4)\r\n",
      "Requirement already satisfied: jupyter-lsp>=2.0.0 in /home/dasus/anaconda3/envs/fcai03/lib/python3.12/site-packages (from jupyterlab->jupyter->-r ../requirements.txt (line 5)) (2.2.5)\r\n",
      "Requirement already satisfied: jupyter-server<3,>=2.4.0 in /home/dasus/anaconda3/envs/fcai03/lib/python3.12/site-packages (from jupyterlab->jupyter->-r ../requirements.txt (line 5)) (2.14.2)\r\n",
      "Requirement already satisfied: jupyterlab-server<3,>=2.27.1 in /home/dasus/anaconda3/envs/fcai03/lib/python3.12/site-packages (from jupyterlab->jupyter->-r ../requirements.txt (line 5)) (2.27.3)\r\n",
      "Requirement already satisfied: notebook-shim>=0.2 in /home/dasus/anaconda3/envs/fcai03/lib/python3.12/site-packages (from jupyterlab->jupyter->-r ../requirements.txt (line 5)) (0.2.4)\r\n",
      "Requirement already satisfied: setuptools>=40.1.0 in /home/dasus/anaconda3/envs/fcai03/lib/python3.12/site-packages (from jupyterlab->jupyter->-r ../requirements.txt (line 5)) (75.1.0)\r\n",
      "Requirement already satisfied: beautifulsoup4 in /home/dasus/anaconda3/envs/fcai03/lib/python3.12/site-packages (from nbconvert->jupyter->-r ../requirements.txt (line 5)) (4.12.3)\r\n",
      "Requirement already satisfied: bleach!=5.0.0 in /home/dasus/anaconda3/envs/fcai03/lib/python3.12/site-packages (from nbconvert->jupyter->-r ../requirements.txt (line 5)) (6.1.0)\r\n",
      "Requirement already satisfied: defusedxml in /home/dasus/anaconda3/envs/fcai03/lib/python3.12/site-packages (from nbconvert->jupyter->-r ../requirements.txt (line 5)) (0.7.1)\r\n",
      "Requirement already satisfied: jupyterlab-pygments in /home/dasus/anaconda3/envs/fcai03/lib/python3.12/site-packages (from nbconvert->jupyter->-r ../requirements.txt (line 5)) (0.3.0)\r\n",
      "Requirement already satisfied: markupsafe>=2.0 in /home/dasus/anaconda3/envs/fcai03/lib/python3.12/site-packages (from nbconvert->jupyter->-r ../requirements.txt (line 5)) (2.1.5)\r\n",
      "Requirement already satisfied: mistune<4,>=2.0.3 in /home/dasus/anaconda3/envs/fcai03/lib/python3.12/site-packages (from nbconvert->jupyter->-r ../requirements.txt (line 5)) (3.0.2)\r\n",
      "Requirement already satisfied: nbclient>=0.5.0 in /home/dasus/anaconda3/envs/fcai03/lib/python3.12/site-packages (from nbconvert->jupyter->-r ../requirements.txt (line 5)) (0.10.0)\r\n",
      "Requirement already satisfied: nbformat>=5.7 in /home/dasus/anaconda3/envs/fcai03/lib/python3.12/site-packages (from nbconvert->jupyter->-r ../requirements.txt (line 5)) (5.10.4)\r\n",
      "Requirement already satisfied: pandocfilters>=1.4.1 in /home/dasus/anaconda3/envs/fcai03/lib/python3.12/site-packages (from nbconvert->jupyter->-r ../requirements.txt (line 5)) (1.5.1)\r\n",
      "Requirement already satisfied: tinycss2 in /home/dasus/anaconda3/envs/fcai03/lib/python3.12/site-packages (from nbconvert->jupyter->-r ../requirements.txt (line 5)) (1.3.0)\r\n",
      "Requirement already satisfied: webencodings in /home/dasus/anaconda3/envs/fcai03/lib/python3.12/site-packages (from bleach!=5.0.0->nbconvert->jupyter->-r ../requirements.txt (line 5)) (0.5.1)\r\n",
      "Requirement already satisfied: anyio in /home/dasus/anaconda3/envs/fcai03/lib/python3.12/site-packages (from httpx>=0.25.0->jupyterlab->jupyter->-r ../requirements.txt (line 5)) (4.6.0)\r\n",
      "Requirement already satisfied: certifi in /home/dasus/anaconda3/envs/fcai03/lib/python3.12/site-packages (from httpx>=0.25.0->jupyterlab->jupyter->-r ../requirements.txt (line 5)) (2024.8.30)\r\n",
      "Requirement already satisfied: httpcore==1.* in /home/dasus/anaconda3/envs/fcai03/lib/python3.12/site-packages (from httpx>=0.25.0->jupyterlab->jupyter->-r ../requirements.txt (line 5)) (1.0.6)\r\n",
      "Requirement already satisfied: idna in /home/dasus/anaconda3/envs/fcai03/lib/python3.12/site-packages (from httpx>=0.25.0->jupyterlab->jupyter->-r ../requirements.txt (line 5)) (3.10)\r\n",
      "Requirement already satisfied: sniffio in /home/dasus/anaconda3/envs/fcai03/lib/python3.12/site-packages (from httpx>=0.25.0->jupyterlab->jupyter->-r ../requirements.txt (line 5)) (1.3.1)\r\n",
      "Requirement already satisfied: h11<0.15,>=0.13 in /home/dasus/anaconda3/envs/fcai03/lib/python3.12/site-packages (from httpcore==1.*->httpx>=0.25.0->jupyterlab->jupyter->-r ../requirements.txt (line 5)) (0.14.0)\r\n",
      "Requirement already satisfied: decorator in /home/dasus/anaconda3/envs/fcai03/lib/python3.12/site-packages (from ipython>=7.23.1->ipykernel->jupyter->-r ../requirements.txt (line 5)) (5.1.1)\r\n",
      "Requirement already satisfied: jedi>=0.16 in /home/dasus/anaconda3/envs/fcai03/lib/python3.12/site-packages (from ipython>=7.23.1->ipykernel->jupyter->-r ../requirements.txt (line 5)) (0.19.1)\r\n",
      "Requirement already satisfied: stack-data in /home/dasus/anaconda3/envs/fcai03/lib/python3.12/site-packages (from ipython>=7.23.1->ipykernel->jupyter->-r ../requirements.txt (line 5)) (0.6.3)\r\n",
      "Requirement already satisfied: pexpect>4.3 in /home/dasus/anaconda3/envs/fcai03/lib/python3.12/site-packages (from ipython>=7.23.1->ipykernel->jupyter->-r ../requirements.txt (line 5)) (4.9.0)\r\n",
      "Requirement already satisfied: platformdirs>=2.5 in /home/dasus/anaconda3/envs/fcai03/lib/python3.12/site-packages (from jupyter-core!=5.0.*,>=4.12->ipykernel->jupyter->-r ../requirements.txt (line 5)) (4.3.6)\r\n",
      "Requirement already satisfied: argon2-cffi>=21.1 in /home/dasus/anaconda3/envs/fcai03/lib/python3.12/site-packages (from jupyter-server<3,>=2.4.0->jupyterlab->jupyter->-r ../requirements.txt (line 5)) (23.1.0)\r\n",
      "Requirement already satisfied: jupyter-events>=0.9.0 in /home/dasus/anaconda3/envs/fcai03/lib/python3.12/site-packages (from jupyter-server<3,>=2.4.0->jupyterlab->jupyter->-r ../requirements.txt (line 5)) (0.10.0)\r\n",
      "Requirement already satisfied: jupyter-server-terminals>=0.4.4 in /home/dasus/anaconda3/envs/fcai03/lib/python3.12/site-packages (from jupyter-server<3,>=2.4.0->jupyterlab->jupyter->-r ../requirements.txt (line 5)) (0.5.3)\r\n",
      "Requirement already satisfied: overrides>=5.0 in /home/dasus/anaconda3/envs/fcai03/lib/python3.12/site-packages (from jupyter-server<3,>=2.4.0->jupyterlab->jupyter->-r ../requirements.txt (line 5)) (7.7.0)\r\n",
      "Requirement already satisfied: prometheus-client>=0.9 in /home/dasus/anaconda3/envs/fcai03/lib/python3.12/site-packages (from jupyter-server<3,>=2.4.0->jupyterlab->jupyter->-r ../requirements.txt (line 5)) (0.21.0)\r\n",
      "Requirement already satisfied: send2trash>=1.8.2 in /home/dasus/anaconda3/envs/fcai03/lib/python3.12/site-packages (from jupyter-server<3,>=2.4.0->jupyterlab->jupyter->-r ../requirements.txt (line 5)) (1.8.3)\r\n",
      "Requirement already satisfied: terminado>=0.8.3 in /home/dasus/anaconda3/envs/fcai03/lib/python3.12/site-packages (from jupyter-server<3,>=2.4.0->jupyterlab->jupyter->-r ../requirements.txt (line 5)) (0.18.1)\r\n",
      "Requirement already satisfied: websocket-client>=1.7 in /home/dasus/anaconda3/envs/fcai03/lib/python3.12/site-packages (from jupyter-server<3,>=2.4.0->jupyterlab->jupyter->-r ../requirements.txt (line 5)) (1.8.0)\r\n",
      "Requirement already satisfied: babel>=2.10 in /home/dasus/anaconda3/envs/fcai03/lib/python3.12/site-packages (from jupyterlab-server<3,>=2.27.1->jupyterlab->jupyter->-r ../requirements.txt (line 5)) (2.16.0)\r\n",
      "Requirement already satisfied: json5>=0.9.0 in /home/dasus/anaconda3/envs/fcai03/lib/python3.12/site-packages (from jupyterlab-server<3,>=2.27.1->jupyterlab->jupyter->-r ../requirements.txt (line 5)) (0.9.25)\r\n",
      "Requirement already satisfied: jsonschema>=4.18.0 in /home/dasus/anaconda3/envs/fcai03/lib/python3.12/site-packages (from jupyterlab-server<3,>=2.27.1->jupyterlab->jupyter->-r ../requirements.txt (line 5)) (4.23.0)\r\n",
      "Requirement already satisfied: requests>=2.31 in /home/dasus/anaconda3/envs/fcai03/lib/python3.12/site-packages (from jupyterlab-server<3,>=2.27.1->jupyterlab->jupyter->-r ../requirements.txt (line 5)) (2.32.3)\r\n",
      "Requirement already satisfied: fastjsonschema>=2.15 in /home/dasus/anaconda3/envs/fcai03/lib/python3.12/site-packages (from nbformat>=5.7->nbconvert->jupyter->-r ../requirements.txt (line 5)) (2.20.0)\r\n",
      "Requirement already satisfied: wcwidth in /home/dasus/anaconda3/envs/fcai03/lib/python3.12/site-packages (from prompt-toolkit>=3.0.30->jupyter-console->jupyter->-r ../requirements.txt (line 5)) (0.2.13)\r\n",
      "Requirement already satisfied: soupsieve>1.2 in /home/dasus/anaconda3/envs/fcai03/lib/python3.12/site-packages (from beautifulsoup4->nbconvert->jupyter->-r ../requirements.txt (line 5)) (2.6)\r\n",
      "Requirement already satisfied: argon2-cffi-bindings in /home/dasus/anaconda3/envs/fcai03/lib/python3.12/site-packages (from argon2-cffi>=21.1->jupyter-server<3,>=2.4.0->jupyterlab->jupyter->-r ../requirements.txt (line 5)) (21.2.0)\r\n",
      "Requirement already satisfied: parso<0.9.0,>=0.8.3 in /home/dasus/anaconda3/envs/fcai03/lib/python3.12/site-packages (from jedi>=0.16->ipython>=7.23.1->ipykernel->jupyter->-r ../requirements.txt (line 5)) (0.8.4)\r\n",
      "Requirement already satisfied: attrs>=22.2.0 in /home/dasus/anaconda3/envs/fcai03/lib/python3.12/site-packages (from jsonschema>=4.18.0->jupyterlab-server<3,>=2.27.1->jupyterlab->jupyter->-r ../requirements.txt (line 5)) (24.2.0)\r\n",
      "Requirement already satisfied: jsonschema-specifications>=2023.03.6 in /home/dasus/anaconda3/envs/fcai03/lib/python3.12/site-packages (from jsonschema>=4.18.0->jupyterlab-server<3,>=2.27.1->jupyterlab->jupyter->-r ../requirements.txt (line 5)) (2023.12.1)\r\n",
      "Requirement already satisfied: referencing>=0.28.4 in /home/dasus/anaconda3/envs/fcai03/lib/python3.12/site-packages (from jsonschema>=4.18.0->jupyterlab-server<3,>=2.27.1->jupyterlab->jupyter->-r ../requirements.txt (line 5)) (0.35.1)\r\n",
      "Requirement already satisfied: rpds-py>=0.7.1 in /home/dasus/anaconda3/envs/fcai03/lib/python3.12/site-packages (from jsonschema>=4.18.0->jupyterlab-server<3,>=2.27.1->jupyterlab->jupyter->-r ../requirements.txt (line 5)) (0.20.0)\r\n",
      "Requirement already satisfied: python-json-logger>=2.0.4 in /home/dasus/anaconda3/envs/fcai03/lib/python3.12/site-packages (from jupyter-events>=0.9.0->jupyter-server<3,>=2.4.0->jupyterlab->jupyter->-r ../requirements.txt (line 5)) (2.0.7)\r\n",
      "Requirement already satisfied: pyyaml>=5.3 in /home/dasus/anaconda3/envs/fcai03/lib/python3.12/site-packages (from jupyter-events>=0.9.0->jupyter-server<3,>=2.4.0->jupyterlab->jupyter->-r ../requirements.txt (line 5)) (6.0.2)\r\n",
      "Requirement already satisfied: rfc3339-validator in /home/dasus/anaconda3/envs/fcai03/lib/python3.12/site-packages (from jupyter-events>=0.9.0->jupyter-server<3,>=2.4.0->jupyterlab->jupyter->-r ../requirements.txt (line 5)) (0.1.4)\r\n",
      "Requirement already satisfied: rfc3986-validator>=0.1.1 in /home/dasus/anaconda3/envs/fcai03/lib/python3.12/site-packages (from jupyter-events>=0.9.0->jupyter-server<3,>=2.4.0->jupyterlab->jupyter->-r ../requirements.txt (line 5)) (0.1.1)\r\n",
      "Requirement already satisfied: ptyprocess>=0.5 in /home/dasus/anaconda3/envs/fcai03/lib/python3.12/site-packages (from pexpect>4.3->ipython>=7.23.1->ipykernel->jupyter->-r ../requirements.txt (line 5)) (0.7.0)\r\n",
      "Requirement already satisfied: charset-normalizer<4,>=2 in /home/dasus/anaconda3/envs/fcai03/lib/python3.12/site-packages (from requests>=2.31->jupyterlab-server<3,>=2.27.1->jupyterlab->jupyter->-r ../requirements.txt (line 5)) (3.3.2)\r\n",
      "Requirement already satisfied: urllib3<3,>=1.21.1 in /home/dasus/anaconda3/envs/fcai03/lib/python3.12/site-packages (from requests>=2.31->jupyterlab-server<3,>=2.27.1->jupyterlab->jupyter->-r ../requirements.txt (line 5)) (2.2.3)\r\n",
      "Requirement already satisfied: executing>=1.2.0 in /home/dasus/anaconda3/envs/fcai03/lib/python3.12/site-packages (from stack-data->ipython>=7.23.1->ipykernel->jupyter->-r ../requirements.txt (line 5)) (2.1.0)\r\n",
      "Requirement already satisfied: asttokens>=2.1.0 in /home/dasus/anaconda3/envs/fcai03/lib/python3.12/site-packages (from stack-data->ipython>=7.23.1->ipykernel->jupyter->-r ../requirements.txt (line 5)) (2.4.1)\r\n",
      "Requirement already satisfied: pure-eval in /home/dasus/anaconda3/envs/fcai03/lib/python3.12/site-packages (from stack-data->ipython>=7.23.1->ipykernel->jupyter->-r ../requirements.txt (line 5)) (0.2.3)\r\n",
      "Requirement already satisfied: fqdn in /home/dasus/anaconda3/envs/fcai03/lib/python3.12/site-packages (from jsonschema[format-nongpl]>=4.18.0->jupyter-events>=0.9.0->jupyter-server<3,>=2.4.0->jupyterlab->jupyter->-r ../requirements.txt (line 5)) (1.5.1)\r\n",
      "Requirement already satisfied: isoduration in /home/dasus/anaconda3/envs/fcai03/lib/python3.12/site-packages (from jsonschema[format-nongpl]>=4.18.0->jupyter-events>=0.9.0->jupyter-server<3,>=2.4.0->jupyterlab->jupyter->-r ../requirements.txt (line 5)) (20.11.0)\r\n",
      "Requirement already satisfied: jsonpointer>1.13 in /home/dasus/anaconda3/envs/fcai03/lib/python3.12/site-packages (from jsonschema[format-nongpl]>=4.18.0->jupyter-events>=0.9.0->jupyter-server<3,>=2.4.0->jupyterlab->jupyter->-r ../requirements.txt (line 5)) (3.0.0)\r\n",
      "Requirement already satisfied: uri-template in /home/dasus/anaconda3/envs/fcai03/lib/python3.12/site-packages (from jsonschema[format-nongpl]>=4.18.0->jupyter-events>=0.9.0->jupyter-server<3,>=2.4.0->jupyterlab->jupyter->-r ../requirements.txt (line 5)) (1.3.0)\r\n",
      "Requirement already satisfied: webcolors>=24.6.0 in /home/dasus/anaconda3/envs/fcai03/lib/python3.12/site-packages (from jsonschema[format-nongpl]>=4.18.0->jupyter-events>=0.9.0->jupyter-server<3,>=2.4.0->jupyterlab->jupyter->-r ../requirements.txt (line 5)) (24.8.0)\r\n",
      "Requirement already satisfied: cffi>=1.0.1 in /home/dasus/anaconda3/envs/fcai03/lib/python3.12/site-packages (from argon2-cffi-bindings->argon2-cffi>=21.1->jupyter-server<3,>=2.4.0->jupyterlab->jupyter->-r ../requirements.txt (line 5)) (1.17.1)\r\n",
      "Requirement already satisfied: pycparser in /home/dasus/anaconda3/envs/fcai03/lib/python3.12/site-packages (from cffi>=1.0.1->argon2-cffi-bindings->argon2-cffi>=21.1->jupyter-server<3,>=2.4.0->jupyterlab->jupyter->-r ../requirements.txt (line 5)) (2.22)\r\n",
      "Requirement already satisfied: arrow>=0.15.0 in /home/dasus/anaconda3/envs/fcai03/lib/python3.12/site-packages (from isoduration->jsonschema[format-nongpl]>=4.18.0->jupyter-events>=0.9.0->jupyter-server<3,>=2.4.0->jupyterlab->jupyter->-r ../requirements.txt (line 5)) (1.3.0)\r\n",
      "Requirement already satisfied: types-python-dateutil>=2.8.10 in /home/dasus/anaconda3/envs/fcai03/lib/python3.12/site-packages (from arrow>=0.15.0->isoduration->jsonschema[format-nongpl]>=4.18.0->jupyter-events>=0.9.0->jupyter-server<3,>=2.4.0->jupyterlab->jupyter->-r ../requirements.txt (line 5)) (2.9.0.20240906)\r\n"
     ]
    }
   ],
   "execution_count": 1
  },
  {
   "metadata": {},
   "cell_type": "markdown",
   "source": "## Load the data and model",
   "id": "90f71a5f17515e0b"
  },
  {
   "metadata": {
    "ExecuteTime": {
     "end_time": "2024-10-02T10:07:05.860455Z",
     "start_time": "2024-10-02T10:07:05.857653Z"
    }
   },
   "cell_type": "code",
   "source": "customers_purchasing_behaviors_path = '../data/customers_purchasing_behaviors.csv'",
   "id": "46ce13655922d48e",
   "outputs": [],
   "execution_count": 2
  },
  {
   "metadata": {
    "ExecuteTime": {
     "end_time": "2024-10-02T10:07:05.996646Z",
     "start_time": "2024-10-02T10:07:05.915545Z"
    }
   },
   "cell_type": "code",
   "source": [
    "import sys\n",
    "import os\n",
    "\n",
    "notebook_dir = os.path.dirname(os.path.abspath(\"__file__\"))\n",
    "sys.path.append(os.path.join(notebook_dir, '..'))\n",
    "from src.LinearRegressionGD import LinearRegressionGD"
   ],
   "id": "86736d8f48455fb",
   "outputs": [],
   "execution_count": 3
  },
  {
   "metadata": {
    "ExecuteTime": {
     "end_time": "2024-10-02T10:07:06.636613Z",
     "start_time": "2024-10-02T10:07:06.025537Z"
    }
   },
   "cell_type": "code",
   "source": [
    "import numpy as np\n",
    "import pandas as pd\n",
    "from sklearn.model_selection import train_test_split\n",
    "from sklearn.preprocessing import StandardScaler\n",
    "from sklearn.metrics import mean_squared_error, r2_score\n",
    "import matplotlib.pyplot as plt"
   ],
   "id": "9f50eb26c290c5e4",
   "outputs": [],
   "execution_count": 4
  },
  {
   "metadata": {
    "ExecuteTime": {
     "end_time": "2024-10-02T10:07:06.647829Z",
     "start_time": "2024-10-02T10:07:06.641553Z"
    }
   },
   "cell_type": "code",
   "source": "cpb = pd.read_csv(customers_purchasing_behaviors_path)",
   "id": "a852ff652cd7c136",
   "outputs": [],
   "execution_count": 5
  },
  {
   "metadata": {},
   "cell_type": "markdown",
   "source": "# Quick EDA",
   "id": "6f2c2a26b606755c"
  },
  {
   "metadata": {
    "ExecuteTime": {
     "end_time": "2024-10-02T10:07:06.697462Z",
     "start_time": "2024-10-02T10:07:06.688968Z"
    }
   },
   "cell_type": "code",
   "source": "cpb",
   "id": "d425ed903bd38f13",
   "outputs": [
    {
     "data": {
      "text/plain": [
       "     user_id  age  annual_income  purchase_amount  loyalty_score region  \\\n",
       "0          1   25          45000              200            4.5  North   \n",
       "1          2   34          55000              350            7.0  South   \n",
       "2          3   45          65000              500            8.0   West   \n",
       "3          4   22          30000              150            3.0   East   \n",
       "4          5   29          47000              220            4.8  North   \n",
       "..       ...  ...            ...              ...            ...    ...   \n",
       "233      234   40          60000              450            7.2   West   \n",
       "234      235   38          59000              430            6.9  North   \n",
       "235      236   54          74000              630            9.4  South   \n",
       "236      237   32          52000              360            5.8   West   \n",
       "237      238   31          51000              340            5.6  North   \n",
       "\n",
       "     purchase_frequency  \n",
       "0                    12  \n",
       "1                    18  \n",
       "2                    22  \n",
       "3                    10  \n",
       "4                    13  \n",
       "..                  ...  \n",
       "233                  20  \n",
       "234                  20  \n",
       "235                  27  \n",
       "236                  18  \n",
       "237                  17  \n",
       "\n",
       "[238 rows x 7 columns]"
      ],
      "text/html": [
       "<div>\n",
       "<style scoped>\n",
       "    .dataframe tbody tr th:only-of-type {\n",
       "        vertical-align: middle;\n",
       "    }\n",
       "\n",
       "    .dataframe tbody tr th {\n",
       "        vertical-align: top;\n",
       "    }\n",
       "\n",
       "    .dataframe thead th {\n",
       "        text-align: right;\n",
       "    }\n",
       "</style>\n",
       "<table border=\"1\" class=\"dataframe\">\n",
       "  <thead>\n",
       "    <tr style=\"text-align: right;\">\n",
       "      <th></th>\n",
       "      <th>user_id</th>\n",
       "      <th>age</th>\n",
       "      <th>annual_income</th>\n",
       "      <th>purchase_amount</th>\n",
       "      <th>loyalty_score</th>\n",
       "      <th>region</th>\n",
       "      <th>purchase_frequency</th>\n",
       "    </tr>\n",
       "  </thead>\n",
       "  <tbody>\n",
       "    <tr>\n",
       "      <th>0</th>\n",
       "      <td>1</td>\n",
       "      <td>25</td>\n",
       "      <td>45000</td>\n",
       "      <td>200</td>\n",
       "      <td>4.5</td>\n",
       "      <td>North</td>\n",
       "      <td>12</td>\n",
       "    </tr>\n",
       "    <tr>\n",
       "      <th>1</th>\n",
       "      <td>2</td>\n",
       "      <td>34</td>\n",
       "      <td>55000</td>\n",
       "      <td>350</td>\n",
       "      <td>7.0</td>\n",
       "      <td>South</td>\n",
       "      <td>18</td>\n",
       "    </tr>\n",
       "    <tr>\n",
       "      <th>2</th>\n",
       "      <td>3</td>\n",
       "      <td>45</td>\n",
       "      <td>65000</td>\n",
       "      <td>500</td>\n",
       "      <td>8.0</td>\n",
       "      <td>West</td>\n",
       "      <td>22</td>\n",
       "    </tr>\n",
       "    <tr>\n",
       "      <th>3</th>\n",
       "      <td>4</td>\n",
       "      <td>22</td>\n",
       "      <td>30000</td>\n",
       "      <td>150</td>\n",
       "      <td>3.0</td>\n",
       "      <td>East</td>\n",
       "      <td>10</td>\n",
       "    </tr>\n",
       "    <tr>\n",
       "      <th>4</th>\n",
       "      <td>5</td>\n",
       "      <td>29</td>\n",
       "      <td>47000</td>\n",
       "      <td>220</td>\n",
       "      <td>4.8</td>\n",
       "      <td>North</td>\n",
       "      <td>13</td>\n",
       "    </tr>\n",
       "    <tr>\n",
       "      <th>...</th>\n",
       "      <td>...</td>\n",
       "      <td>...</td>\n",
       "      <td>...</td>\n",
       "      <td>...</td>\n",
       "      <td>...</td>\n",
       "      <td>...</td>\n",
       "      <td>...</td>\n",
       "    </tr>\n",
       "    <tr>\n",
       "      <th>233</th>\n",
       "      <td>234</td>\n",
       "      <td>40</td>\n",
       "      <td>60000</td>\n",
       "      <td>450</td>\n",
       "      <td>7.2</td>\n",
       "      <td>West</td>\n",
       "      <td>20</td>\n",
       "    </tr>\n",
       "    <tr>\n",
       "      <th>234</th>\n",
       "      <td>235</td>\n",
       "      <td>38</td>\n",
       "      <td>59000</td>\n",
       "      <td>430</td>\n",
       "      <td>6.9</td>\n",
       "      <td>North</td>\n",
       "      <td>20</td>\n",
       "    </tr>\n",
       "    <tr>\n",
       "      <th>235</th>\n",
       "      <td>236</td>\n",
       "      <td>54</td>\n",
       "      <td>74000</td>\n",
       "      <td>630</td>\n",
       "      <td>9.4</td>\n",
       "      <td>South</td>\n",
       "      <td>27</td>\n",
       "    </tr>\n",
       "    <tr>\n",
       "      <th>236</th>\n",
       "      <td>237</td>\n",
       "      <td>32</td>\n",
       "      <td>52000</td>\n",
       "      <td>360</td>\n",
       "      <td>5.8</td>\n",
       "      <td>West</td>\n",
       "      <td>18</td>\n",
       "    </tr>\n",
       "    <tr>\n",
       "      <th>237</th>\n",
       "      <td>238</td>\n",
       "      <td>31</td>\n",
       "      <td>51000</td>\n",
       "      <td>340</td>\n",
       "      <td>5.6</td>\n",
       "      <td>North</td>\n",
       "      <td>17</td>\n",
       "    </tr>\n",
       "  </tbody>\n",
       "</table>\n",
       "<p>238 rows × 7 columns</p>\n",
       "</div>"
      ]
     },
     "execution_count": 6,
     "metadata": {},
     "output_type": "execute_result"
    }
   ],
   "execution_count": 6
  },
  {
   "metadata": {
    "ExecuteTime": {
     "end_time": "2024-10-02T10:07:06.770727Z",
     "start_time": "2024-10-02T10:07:06.766681Z"
    }
   },
   "cell_type": "code",
   "source": "cpb = cpb.drop('user_id', axis=1)",
   "id": "5170e4089960dd78",
   "outputs": [],
   "execution_count": 7
  },
  {
   "metadata": {
    "ExecuteTime": {
     "end_time": "2024-10-02T10:07:06.813827Z",
     "start_time": "2024-10-02T10:07:06.808848Z"
    }
   },
   "cell_type": "code",
   "source": "cpb.isnull().sum()",
   "id": "e5958375ad15bc72",
   "outputs": [
    {
     "data": {
      "text/plain": [
       "age                   0\n",
       "annual_income         0\n",
       "purchase_amount       0\n",
       "loyalty_score         0\n",
       "region                0\n",
       "purchase_frequency    0\n",
       "dtype: int64"
      ]
     },
     "execution_count": 8,
     "metadata": {},
     "output_type": "execute_result"
    }
   ],
   "execution_count": 8
  },
  {
   "metadata": {
    "ExecuteTime": {
     "end_time": "2024-10-02T10:07:06.857036Z",
     "start_time": "2024-10-02T10:07:06.850827Z"
    }
   },
   "cell_type": "code",
   "source": "cpb = pd.get_dummies(cpb, columns=['region'], drop_first=True)",
   "id": "906a9b83cc654fb8",
   "outputs": [],
   "execution_count": 9
  },
  {
   "metadata": {
    "ExecuteTime": {
     "end_time": "2024-10-02T10:07:06.901207Z",
     "start_time": "2024-10-02T10:07:06.896231Z"
    }
   },
   "cell_type": "code",
   "source": [
    "y = cpb['purchase_amount'].values\n",
    "X = cpb.drop('purchase_amount', axis=1).values\n"
   ],
   "id": "a951f589f8c740cc",
   "outputs": [],
   "execution_count": 10
  },
  {
   "metadata": {
    "ExecuteTime": {
     "end_time": "2024-10-02T10:07:06.949871Z",
     "start_time": "2024-10-02T10:07:06.945932Z"
    }
   },
   "cell_type": "code",
   "source": [
    "scaler = StandardScaler()\n",
    "X = scaler.fit_transform(X)"
   ],
   "id": "6694b6c26d0137e0",
   "outputs": [],
   "execution_count": 11
  },
  {
   "metadata": {
    "ExecuteTime": {
     "end_time": "2024-10-02T10:07:06.977560Z",
     "start_time": "2024-10-02T10:07:06.974788Z"
    }
   },
   "cell_type": "code",
   "source": "X_train, X_test, y_train, y_test = train_test_split(X, y, test_size=0.2, random_state=42)",
   "id": "86470152d503028b",
   "outputs": [],
   "execution_count": 12
  },
  {
   "metadata": {},
   "cell_type": "markdown",
   "source": "# Apply the LRGD",
   "id": "f0dd1c7b7c05538d"
  },
  {
   "metadata": {
    "ExecuteTime": {
     "end_time": "2024-10-02T10:07:07.035719Z",
     "start_time": "2024-10-02T10:07:07.021776Z"
    }
   },
   "cell_type": "code",
   "source": [
    "model = LinearRegressionGD(learning_rate=0.01, momentum=0.9, n_iters=1000)\n",
    "model.fit(X_train, y_train)"
   ],
   "id": "81cb42a37859faa4",
   "outputs": [],
   "execution_count": 13
  },
  {
   "metadata": {
    "ExecuteTime": {
     "end_time": "2024-10-02T10:07:07.076855Z",
     "start_time": "2024-10-02T10:07:07.073028Z"
    }
   },
   "cell_type": "code",
   "source": "y_pred = model.predict(X_test)",
   "id": "8fe84ac5ba376f67",
   "outputs": [],
   "execution_count": 14
  },
  {
   "metadata": {
    "ExecuteTime": {
     "end_time": "2024-10-02T10:07:07.126028Z",
     "start_time": "2024-10-02T10:07:07.121160Z"
    }
   },
   "cell_type": "code",
   "source": [
    "mse = mean_squared_error(y_test, y_pred)\n",
    "print(f\"Mean Squared Error: {mse:.4f}\")\n",
    "\n",
    "r2 = r2_score(y_test, y_pred)\n",
    "print(f\"R-squared Score: {r2:.4f}\")\n"
   ],
   "id": "4649a2e105c76a98",
   "outputs": [
    {
     "name": "stdout",
     "output_type": "stream",
     "text": [
      "Mean Squared Error: 112.1938\n",
      "R-squared Score: 0.9950\n"
     ]
    }
   ],
   "execution_count": 15
  },
  {
   "metadata": {
    "ExecuteTime": {
     "end_time": "2024-10-02T10:07:07.252461Z",
     "start_time": "2024-10-02T10:07:07.175188Z"
    }
   },
   "cell_type": "code",
   "source": [
    "plt.scatter(y_test, y_pred)\n",
    "plt.xlabel('Actual Purchase Amount')\n",
    "plt.ylabel('Predicted Purchase Amount')\n",
    "plt.title('Actual vs Predicted Purchase Amount')\n",
    "plt.plot([min(y_test), max(y_test)], [min(y_test), max(y_test)], 'r')\n",
    "plt.show()"
   ],
   "id": "2ae3d904609f96b8",
   "outputs": [
    {
     "data": {
      "text/plain": [
       "<Figure size 640x480 with 1 Axes>"
      ],
      "image/png": "[encoded data removed]"
     },
     "metadata": {},
     "output_type": "display_data"
    }
   ],
   "execution_count": 16
  },
  {
   "metadata": {
    "ExecuteTime": {
     "end_time": "2024-10-02T10:07:07.267657Z",
     "start_time": "2024-10-02T10:07:07.264976Z"
    }
   },
   "cell_type": "code",
   "source": "",
   "id": "40a01221b848120",
   "outputs": [],
   "execution_count": null
  }
 ],
 "metadata": {
  "kernelspec": {
   "display_name": "Python 3",
   "language": "python",
   "name": "python3"
  },
  "language_info": {
   "codemirror_mode": {
    "name": "ipython",
    "version": 2
   },
   "file_extension": ".py",
   "mimetype": "text/x-python",
   "name": "python",
   "nbconvert_exporter": "python",
   "pygments_lexer": "ipython2",
   "version": "2.7.6"
  }
 },
 "nbformat": 4,
 "nbformat_minor": 5
}
