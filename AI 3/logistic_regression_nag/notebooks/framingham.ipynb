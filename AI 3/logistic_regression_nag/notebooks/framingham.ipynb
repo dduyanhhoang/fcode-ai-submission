{
 "cells": [
  {
   "metadata": {},
   "cell_type": "markdown",
   "source": "# Set up requirements and load data",
   "id": "ec2b37d111d808b2"
  },
  {
   "metadata": {
    "ExecuteTime": {
     "end_time": "2024-10-03T12:21:38.566133Z",
     "start_time": "2024-10-03T12:21:37.734158Z"
    }
   },
   "cell_type": "code",
   "source": "!pip install -r ../requirements.txt",
   "id": "c64d72a4ffb0c1c0",
   "outputs": [
    {
     "name": "stdout",
     "output_type": "stream",
     "text": [
      "Requirement already satisfied: pandas in /home/dasus/anaconda3/envs/fcai03/lib/python3.12/site-packages (from -r ../requirements.txt (line 1)) (2.2.3)\r\n",
      "Requirement already satisfied: numpy in /home/dasus/anaconda3/envs/fcai03/lib/python3.12/site-packages (from -r ../requirements.txt (line 2)) (2.1.1)\r\n",
      "Requirement already satisfied: seaborn in /home/dasus/anaconda3/envs/fcai03/lib/python3.12/site-packages (from -r ../requirements.txt (line 3)) (0.13.2)\r\n",
      "Requirement already satisfied: matplotlib in /home/dasus/anaconda3/envs/fcai03/lib/python3.12/site-packages (from -r ../requirements.txt (line 4)) (3.9.2)\r\n",
      "Requirement already satisfied: jupyter in /home/dasus/anaconda3/envs/fcai03/lib/python3.12/site-packages (from -r ../requirements.txt (line 5)) (1.1.1)\r\n",
      "Requirement already satisfied: scikit-learn in /home/dasus/anaconda3/envs/fcai03/lib/python3.12/site-packages (from -r ../requirements.txt (line 6)) (1.5.2)\r\n",
      "Requirement already satisfied: python-dateutil>=2.8.2 in /home/dasus/anaconda3/envs/fcai03/lib/python3.12/site-packages (from pandas->-r ../requirements.txt (line 1)) (2.9.0.post0)\r\n",
      "Requirement already satisfied: pytz>=2020.1 in /home/dasus/anaconda3/envs/fcai03/lib/python3.12/site-packages (from pandas->-r ../requirements.txt (line 1)) (2024.2)\r\n",
      "Requirement already satisfied: tzdata>=2022.7 in /home/dasus/anaconda3/envs/fcai03/lib/python3.12/site-packages (from pandas->-r ../requirements.txt (line 1)) (2024.2)\r\n",
      "Requirement already satisfied: contourpy>=1.0.1 in /home/dasus/anaconda3/envs/fcai03/lib/python3.12/site-packages (from matplotlib->-r ../requirements.txt (line 4)) (1.3.0)\r\n",
      "Requirement already satisfied: cycler>=0.10 in /home/dasus/anaconda3/envs/fcai03/lib/python3.12/site-packages (from matplotlib->-r ../requirements.txt (line 4)) (0.12.1)\r\n",
      "Requirement already satisfied: fonttools>=4.22.0 in /home/dasus/anaconda3/envs/fcai03/lib/python3.12/site-packages (from matplotlib->-r ../requirements.txt (line 4)) (4.54.1)\r\n",
      "Requirement already satisfied: kiwisolver>=1.3.1 in /home/dasus/anaconda3/envs/fcai03/lib/python3.12/site-packages (from matplotlib->-r ../requirements.txt (line 4)) (1.4.7)\r\n",
      "Requirement already satisfied: packaging>=20.0 in /home/dasus/anaconda3/envs/fcai03/lib/python3.12/site-packages (from matplotlib->-r ../requirements.txt (line 4)) (24.1)\r\n",
      "Requirement already satisfied: pillow>=8 in /home/dasus/anaconda3/envs/fcai03/lib/python3.12/site-packages (from matplotlib->-r ../requirements.txt (line 4)) (10.4.0)\r\n",
      "Requirement already satisfied: pyparsing>=2.3.1 in /home/dasus/anaconda3/envs/fcai03/lib/python3.12/site-packages (from matplotlib->-r ../requirements.txt (line 4)) (3.1.4)\r\n",
      "Requirement already satisfied: notebook in /home/dasus/anaconda3/envs/fcai03/lib/python3.12/site-packages (from jupyter->-r ../requirements.txt (line 5)) (7.2.2)\r\n",
      "Requirement already satisfied: jupyter-console in /home/dasus/anaconda3/envs/fcai03/lib/python3.12/site-packages (from jupyter->-r ../requirements.txt (line 5)) (6.6.3)\r\n",
      "Requirement already satisfied: nbconvert in /home/dasus/anaconda3/envs/fcai03/lib/python3.12/site-packages (from jupyter->-r ../requirements.txt (line 5)) (7.16.4)\r\n",
      "Requirement already satisfied: ipykernel in /home/dasus/anaconda3/envs/fcai03/lib/python3.12/site-packages (from jupyter->-r ../requirements.txt (line 5)) (6.29.5)\r\n",
      "Requirement already satisfied: ipywidgets in /home/dasus/anaconda3/envs/fcai03/lib/python3.12/site-packages (from jupyter->-r ../requirements.txt (line 5)) (8.1.5)\r\n",
      "Requirement already satisfied: jupyterlab in /home/dasus/anaconda3/envs/fcai03/lib/python3.12/site-packages (from jupyter->-r ../requirements.txt (line 5)) (4.2.5)\r\n",
      "Requirement already satisfied: scipy>=1.6.0 in /home/dasus/anaconda3/envs/fcai03/lib/python3.12/site-packages (from scikit-learn->-r ../requirements.txt (line 6)) (1.14.1)\r\n",
      "Requirement already satisfied: joblib>=1.2.0 in /home/dasus/anaconda3/envs/fcai03/lib/python3.12/site-packages (from scikit-learn->-r ../requirements.txt (line 6)) (1.4.2)\r\n",
      "Requirement already satisfied: threadpoolctl>=3.1.0 in /home/dasus/anaconda3/envs/fcai03/lib/python3.12/site-packages (from scikit-learn->-r ../requirements.txt (line 6)) (3.5.0)\r\n",
      "Requirement already satisfied: six>=1.5 in /home/dasus/anaconda3/envs/fcai03/lib/python3.12/site-packages (from python-dateutil>=2.8.2->pandas->-r ../requirements.txt (line 1)) (1.16.0)\r\n",
      "Requirement already satisfied: comm>=0.1.1 in /home/dasus/anaconda3/envs/fcai03/lib/python3.12/site-packages (from ipykernel->jupyter->-r ../requirements.txt (line 5)) (0.2.2)\r\n",
      "Requirement already satisfied: debugpy>=1.6.5 in /home/dasus/anaconda3/envs/fcai03/lib/python3.12/site-packages (from ipykernel->jupyter->-r ../requirements.txt (line 5)) (1.8.6)\r\n",
      "Requirement already satisfied: ipython>=7.23.1 in /home/dasus/anaconda3/envs/fcai03/lib/python3.12/site-packages (from ipykernel->jupyter->-r ../requirements.txt (line 5)) (8.27.0)\r\n",
      "Requirement already satisfied: jupyter-client>=6.1.12 in /home/dasus/anaconda3/envs/fcai03/lib/python3.12/site-packages (from ipykernel->jupyter->-r ../requirements.txt (line 5)) (8.6.3)\r\n",
      "Requirement already satisfied: jupyter-core!=5.0.*,>=4.12 in /home/dasus/anaconda3/envs/fcai03/lib/python3.12/site-packages (from ipykernel->jupyter->-r ../requirements.txt (line 5)) (5.7.2)\r\n",
      "Requirement already satisfied: matplotlib-inline>=0.1 in /home/dasus/anaconda3/envs/fcai03/lib/python3.12/site-packages (from ipykernel->jupyter->-r ../requirements.txt (line 5)) (0.1.7)\r\n",
      "Requirement already satisfied: nest-asyncio in /home/dasus/anaconda3/envs/fcai03/lib/python3.12/site-packages (from ipykernel->jupyter->-r ../requirements.txt (line 5)) (1.6.0)\r\n",
      "Requirement already satisfied: psutil in /home/dasus/anaconda3/envs/fcai03/lib/python3.12/site-packages (from ipykernel->jupyter->-r ../requirements.txt (line 5)) (6.0.0)\r\n",
      "Requirement already satisfied: pyzmq>=24 in /home/dasus/anaconda3/envs/fcai03/lib/python3.12/site-packages (from ipykernel->jupyter->-r ../requirements.txt (line 5)) (26.2.0)\r\n",
      "Requirement already satisfied: tornado>=6.1 in /home/dasus/anaconda3/envs/fcai03/lib/python3.12/site-packages (from ipykernel->jupyter->-r ../requirements.txt (line 5)) (6.4.1)\r\n",
      "Requirement already satisfied: traitlets>=5.4.0 in /home/dasus/anaconda3/envs/fcai03/lib/python3.12/site-packages (from ipykernel->jupyter->-r ../requirements.txt (line 5)) (5.14.3)\r\n",
      "Requirement already satisfied: widgetsnbextension~=4.0.12 in /home/dasus/anaconda3/envs/fcai03/lib/python3.12/site-packages (from ipywidgets->jupyter->-r ../requirements.txt (line 5)) (4.0.13)\r\n",
      "Requirement already satisfied: jupyterlab-widgets~=3.0.12 in /home/dasus/anaconda3/envs/fcai03/lib/python3.12/site-packages (from ipywidgets->jupyter->-r ../requirements.txt (line 5)) (3.0.13)\r\n",
      "Requirement already satisfied: prompt-toolkit>=3.0.30 in /home/dasus/anaconda3/envs/fcai03/lib/python3.12/site-packages (from jupyter-console->jupyter->-r ../requirements.txt (line 5)) (3.0.48)\r\n",
      "Requirement already satisfied: pygments in /home/dasus/anaconda3/envs/fcai03/lib/python3.12/site-packages (from jupyter-console->jupyter->-r ../requirements.txt (line 5)) (2.18.0)\r\n",
      "Requirement already satisfied: async-lru>=1.0.0 in /home/dasus/anaconda3/envs/fcai03/lib/python3.12/site-packages (from jupyterlab->jupyter->-r ../requirements.txt (line 5)) (2.0.4)\r\n",
      "Requirement already satisfied: httpx>=0.25.0 in /home/dasus/anaconda3/envs/fcai03/lib/python3.12/site-packages (from jupyterlab->jupyter->-r ../requirements.txt (line 5)) (0.27.2)\r\n",
      "Requirement already satisfied: jinja2>=3.0.3 in /home/dasus/anaconda3/envs/fcai03/lib/python3.12/site-packages (from jupyterlab->jupyter->-r ../requirements.txt (line 5)) (3.1.4)\r\n",
      "Requirement already satisfied: jupyter-lsp>=2.0.0 in /home/dasus/anaconda3/envs/fcai03/lib/python3.12/site-packages (from jupyterlab->jupyter->-r ../requirements.txt (line 5)) (2.2.5)\r\n",
      "Requirement already satisfied: jupyter-server<3,>=2.4.0 in /home/dasus/anaconda3/envs/fcai03/lib/python3.12/site-packages (from jupyterlab->jupyter->-r ../requirements.txt (line 5)) (2.14.2)\r\n",
      "Requirement already satisfied: jupyterlab-server<3,>=2.27.1 in /home/dasus/anaconda3/envs/fcai03/lib/python3.12/site-packages (from jupyterlab->jupyter->-r ../requirements.txt (line 5)) (2.27.3)\r\n",
      "Requirement already satisfied: notebook-shim>=0.2 in /home/dasus/anaconda3/envs/fcai03/lib/python3.12/site-packages (from jupyterlab->jupyter->-r ../requirements.txt (line 5)) (0.2.4)\r\n",
      "Requirement already satisfied: setuptools>=40.1.0 in /home/dasus/anaconda3/envs/fcai03/lib/python3.12/site-packages (from jupyterlab->jupyter->-r ../requirements.txt (line 5)) (75.1.0)\r\n",
      "Requirement already satisfied: beautifulsoup4 in /home/dasus/anaconda3/envs/fcai03/lib/python3.12/site-packages (from nbconvert->jupyter->-r ../requirements.txt (line 5)) (4.12.3)\r\n",
      "Requirement already satisfied: bleach!=5.0.0 in /home/dasus/anaconda3/envs/fcai03/lib/python3.12/site-packages (from nbconvert->jupyter->-r ../requirements.txt (line 5)) (6.1.0)\r\n",
      "Requirement already satisfied: defusedxml in /home/dasus/anaconda3/envs/fcai03/lib/python3.12/site-packages (from nbconvert->jupyter->-r ../requirements.txt (line 5)) (0.7.1)\r\n",
      "Requirement already satisfied: jupyterlab-pygments in /home/dasus/anaconda3/envs/fcai03/lib/python3.12/site-packages (from nbconvert->jupyter->-r ../requirements.txt (line 5)) (0.3.0)\r\n",
      "Requirement already satisfied: markupsafe>=2.0 in /home/dasus/anaconda3/envs/fcai03/lib/python3.12/site-packages (from nbconvert->jupyter->-r ../requirements.txt (line 5)) (2.1.5)\r\n",
      "Requirement already satisfied: mistune<4,>=2.0.3 in /home/dasus/anaconda3/envs/fcai03/lib/python3.12/site-packages (from nbconvert->jupyter->-r ../requirements.txt (line 5)) (3.0.2)\r\n",
      "Requirement already satisfied: nbclient>=0.5.0 in /home/dasus/anaconda3/envs/fcai03/lib/python3.12/site-packages (from nbconvert->jupyter->-r ../requirements.txt (line 5)) (0.10.0)\r\n",
      "Requirement already satisfied: nbformat>=5.7 in /home/dasus/anaconda3/envs/fcai03/lib/python3.12/site-packages (from nbconvert->jupyter->-r ../requirements.txt (line 5)) (5.10.4)\r\n",
      "Requirement already satisfied: pandocfilters>=1.4.1 in /home/dasus/anaconda3/envs/fcai03/lib/python3.12/site-packages (from nbconvert->jupyter->-r ../requirements.txt (line 5)) (1.5.1)\r\n",
      "Requirement already satisfied: tinycss2 in /home/dasus/anaconda3/envs/fcai03/lib/python3.12/site-packages (from nbconvert->jupyter->-r ../requirements.txt (line 5)) (1.3.0)\r\n",
      "Requirement already satisfied: webencodings in /home/dasus/anaconda3/envs/fcai03/lib/python3.12/site-packages (from bleach!=5.0.0->nbconvert->jupyter->-r ../requirements.txt (line 5)) (0.5.1)\r\n",
      "Requirement already satisfied: anyio in /home/dasus/anaconda3/envs/fcai03/lib/python3.12/site-packages (from httpx>=0.25.0->jupyterlab->jupyter->-r ../requirements.txt (line 5)) (4.6.0)\r\n",
      "Requirement already satisfied: certifi in /home/dasus/anaconda3/envs/fcai03/lib/python3.12/site-packages (from httpx>=0.25.0->jupyterlab->jupyter->-r ../requirements.txt (line 5)) (2024.8.30)\r\n",
      "Requirement already satisfied: httpcore==1.* in /home/dasus/anaconda3/envs/fcai03/lib/python3.12/site-packages (from httpx>=0.25.0->jupyterlab->jupyter->-r ../requirements.txt (line 5)) (1.0.6)\r\n",
      "Requirement already satisfied: idna in /home/dasus/anaconda3/envs/fcai03/lib/python3.12/site-packages (from httpx>=0.25.0->jupyterlab->jupyter->-r ../requirements.txt (line 5)) (3.10)\r\n",
      "Requirement already satisfied: sniffio in /home/dasus/anaconda3/envs/fcai03/lib/python3.12/site-packages (from httpx>=0.25.0->jupyterlab->jupyter->-r ../requirements.txt (line 5)) (1.3.1)\r\n",
      "Requirement already satisfied: h11<0.15,>=0.13 in /home/dasus/anaconda3/envs/fcai03/lib/python3.12/site-packages (from httpcore==1.*->httpx>=0.25.0->jupyterlab->jupyter->-r ../requirements.txt (line 5)) (0.14.0)\r\n",
      "Requirement already satisfied: decorator in /home/dasus/anaconda3/envs/fcai03/lib/python3.12/site-packages (from ipython>=7.23.1->ipykernel->jupyter->-r ../requirements.txt (line 5)) (5.1.1)\r\n",
      "Requirement already satisfied: jedi>=0.16 in /home/dasus/anaconda3/envs/fcai03/lib/python3.12/site-packages (from ipython>=7.23.1->ipykernel->jupyter->-r ../requirements.txt (line 5)) (0.19.1)\r\n",
      "Requirement already satisfied: stack-data in /home/dasus/anaconda3/envs/fcai03/lib/python3.12/site-packages (from ipython>=7.23.1->ipykernel->jupyter->-r ../requirements.txt (line 5)) (0.6.3)\r\n",
      "Requirement already satisfied: pexpect>4.3 in /home/dasus/anaconda3/envs/fcai03/lib/python3.12/site-packages (from ipython>=7.23.1->ipykernel->jupyter->-r ../requirements.txt (line 5)) (4.9.0)\r\n",
      "Requirement already satisfied: platformdirs>=2.5 in /home/dasus/anaconda3/envs/fcai03/lib/python3.12/site-packages (from jupyter-core!=5.0.*,>=4.12->ipykernel->jupyter->-r ../requirements.txt (line 5)) (4.3.6)\r\n",
      "Requirement already satisfied: argon2-cffi>=21.1 in /home/dasus/anaconda3/envs/fcai03/lib/python3.12/site-packages (from jupyter-server<3,>=2.4.0->jupyterlab->jupyter->-r ../requirements.txt (line 5)) (23.1.0)\r\n",
      "Requirement already satisfied: jupyter-events>=0.9.0 in /home/dasus/anaconda3/envs/fcai03/lib/python3.12/site-packages (from jupyter-server<3,>=2.4.0->jupyterlab->jupyter->-r ../requirements.txt (line 5)) (0.10.0)\r\n",
      "Requirement already satisfied: jupyter-server-terminals>=0.4.4 in /home/dasus/anaconda3/envs/fcai03/lib/python3.12/site-packages (from jupyter-server<3,>=2.4.0->jupyterlab->jupyter->-r ../requirements.txt (line 5)) (0.5.3)\r\n",
      "Requirement already satisfied: overrides>=5.0 in /home/dasus/anaconda3/envs/fcai03/lib/python3.12/site-packages (from jupyter-server<3,>=2.4.0->jupyterlab->jupyter->-r ../requirements.txt (line 5)) (7.7.0)\r\n",
      "Requirement already satisfied: prometheus-client>=0.9 in /home/dasus/anaconda3/envs/fcai03/lib/python3.12/site-packages (from jupyter-server<3,>=2.4.0->jupyterlab->jupyter->-r ../requirements.txt (line 5)) (0.21.0)\r\n",
      "Requirement already satisfied: send2trash>=1.8.2 in /home/dasus/anaconda3/envs/fcai03/lib/python3.12/site-packages (from jupyter-server<3,>=2.4.0->jupyterlab->jupyter->-r ../requirements.txt (line 5)) (1.8.3)\r\n",
      "Requirement already satisfied: terminado>=0.8.3 in /home/dasus/anaconda3/envs/fcai03/lib/python3.12/site-packages (from jupyter-server<3,>=2.4.0->jupyterlab->jupyter->-r ../requirements.txt (line 5)) (0.18.1)\r\n",
      "Requirement already satisfied: websocket-client>=1.7 in /home/dasus/anaconda3/envs/fcai03/lib/python3.12/site-packages (from jupyter-server<3,>=2.4.0->jupyterlab->jupyter->-r ../requirements.txt (line 5)) (1.8.0)\r\n",
      "Requirement already satisfied: babel>=2.10 in /home/dasus/anaconda3/envs/fcai03/lib/python3.12/site-packages (from jupyterlab-server<3,>=2.27.1->jupyterlab->jupyter->-r ../requirements.txt (line 5)) (2.16.0)\r\n",
      "Requirement already satisfied: json5>=0.9.0 in /home/dasus/anaconda3/envs/fcai03/lib/python3.12/site-packages (from jupyterlab-server<3,>=2.27.1->jupyterlab->jupyter->-r ../requirements.txt (line 5)) (0.9.25)\r\n",
      "Requirement already satisfied: jsonschema>=4.18.0 in /home/dasus/anaconda3/envs/fcai03/lib/python3.12/site-packages (from jupyterlab-server<3,>=2.27.1->jupyterlab->jupyter->-r ../requirements.txt (line 5)) (4.23.0)\r\n",
      "Requirement already satisfied: requests>=2.31 in /home/dasus/anaconda3/envs/fcai03/lib/python3.12/site-packages (from jupyterlab-server<3,>=2.27.1->jupyterlab->jupyter->-r ../requirements.txt (line 5)) (2.32.3)\r\n",
      "Requirement already satisfied: fastjsonschema>=2.15 in /home/dasus/anaconda3/envs/fcai03/lib/python3.12/site-packages (from nbformat>=5.7->nbconvert->jupyter->-r ../requirements.txt (line 5)) (2.20.0)\r\n",
      "Requirement already satisfied: wcwidth in /home/dasus/anaconda3/envs/fcai03/lib/python3.12/site-packages (from prompt-toolkit>=3.0.30->jupyter-console->jupyter->-r ../requirements.txt (line 5)) (0.2.13)\r\n",
      "Requirement already satisfied: soupsieve>1.2 in /home/dasus/anaconda3/envs/fcai03/lib/python3.12/site-packages (from beautifulsoup4->nbconvert->jupyter->-r ../requirements.txt (line 5)) (2.6)\r\n",
      "Requirement already satisfied: argon2-cffi-bindings in /home/dasus/anaconda3/envs/fcai03/lib/python3.12/site-packages (from argon2-cffi>=21.1->jupyter-server<3,>=2.4.0->jupyterlab->jupyter->-r ../requirements.txt (line 5)) (21.2.0)\r\n",
      "Requirement already satisfied: parso<0.9.0,>=0.8.3 in /home/dasus/anaconda3/envs/fcai03/lib/python3.12/site-packages (from jedi>=0.16->ipython>=7.23.1->ipykernel->jupyter->-r ../requirements.txt (line 5)) (0.8.4)\r\n",
      "Requirement already satisfied: attrs>=22.2.0 in /home/dasus/anaconda3/envs/fcai03/lib/python3.12/site-packages (from jsonschema>=4.18.0->jupyterlab-server<3,>=2.27.1->jupyterlab->jupyter->-r ../requirements.txt (line 5)) (24.2.0)\r\n",
      "Requirement already satisfied: jsonschema-specifications>=2023.03.6 in /home/dasus/anaconda3/envs/fcai03/lib/python3.12/site-packages (from jsonschema>=4.18.0->jupyterlab-server<3,>=2.27.1->jupyterlab->jupyter->-r ../requirements.txt (line 5)) (2023.12.1)\r\n",
      "Requirement already satisfied: referencing>=0.28.4 in /home/dasus/anaconda3/envs/fcai03/lib/python3.12/site-packages (from jsonschema>=4.18.0->jupyterlab-server<3,>=2.27.1->jupyterlab->jupyter->-r ../requirements.txt (line 5)) (0.35.1)\r\n",
      "Requirement already satisfied: rpds-py>=0.7.1 in /home/dasus/anaconda3/envs/fcai03/lib/python3.12/site-packages (from jsonschema>=4.18.0->jupyterlab-server<3,>=2.27.1->jupyterlab->jupyter->-r ../requirements.txt (line 5)) (0.20.0)\r\n",
      "Requirement already satisfied: python-json-logger>=2.0.4 in /home/dasus/anaconda3/envs/fcai03/lib/python3.12/site-packages (from jupyter-events>=0.9.0->jupyter-server<3,>=2.4.0->jupyterlab->jupyter->-r ../requirements.txt (line 5)) (2.0.7)\r\n",
      "Requirement already satisfied: pyyaml>=5.3 in /home/dasus/anaconda3/envs/fcai03/lib/python3.12/site-packages (from jupyter-events>=0.9.0->jupyter-server<3,>=2.4.0->jupyterlab->jupyter->-r ../requirements.txt (line 5)) (6.0.2)\r\n",
      "Requirement already satisfied: rfc3339-validator in /home/dasus/anaconda3/envs/fcai03/lib/python3.12/site-packages (from jupyter-events>=0.9.0->jupyter-server<3,>=2.4.0->jupyterlab->jupyter->-r ../requirements.txt (line 5)) (0.1.4)\r\n",
      "Requirement already satisfied: rfc3986-validator>=0.1.1 in /home/dasus/anaconda3/envs/fcai03/lib/python3.12/site-packages (from jupyter-events>=0.9.0->jupyter-server<3,>=2.4.0->jupyterlab->jupyter->-r ../requirements.txt (line 5)) (0.1.1)\r\n",
      "Requirement already satisfied: ptyprocess>=0.5 in /home/dasus/anaconda3/envs/fcai03/lib/python3.12/site-packages (from pexpect>4.3->ipython>=7.23.1->ipykernel->jupyter->-r ../requirements.txt (line 5)) (0.7.0)\r\n",
      "Requirement already satisfied: charset-normalizer<4,>=2 in /home/dasus/anaconda3/envs/fcai03/lib/python3.12/site-packages (from requests>=2.31->jupyterlab-server<3,>=2.27.1->jupyterlab->jupyter->-r ../requirements.txt (line 5)) (3.3.2)\r\n",
      "Requirement already satisfied: urllib3<3,>=1.21.1 in /home/dasus/anaconda3/envs/fcai03/lib/python3.12/site-packages (from requests>=2.31->jupyterlab-server<3,>=2.27.1->jupyterlab->jupyter->-r ../requirements.txt (line 5)) (2.2.3)\r\n",
      "Requirement already satisfied: executing>=1.2.0 in /home/dasus/anaconda3/envs/fcai03/lib/python3.12/site-packages (from stack-data->ipython>=7.23.1->ipykernel->jupyter->-r ../requirements.txt (line 5)) (2.1.0)\r\n",
      "Requirement already satisfied: asttokens>=2.1.0 in /home/dasus/anaconda3/envs/fcai03/lib/python3.12/site-packages (from stack-data->ipython>=7.23.1->ipykernel->jupyter->-r ../requirements.txt (line 5)) (2.4.1)\r\n",
      "Requirement already satisfied: pure-eval in /home/dasus/anaconda3/envs/fcai03/lib/python3.12/site-packages (from stack-data->ipython>=7.23.1->ipykernel->jupyter->-r ../requirements.txt (line 5)) (0.2.3)\r\n",
      "Requirement already satisfied: fqdn in /home/dasus/anaconda3/envs/fcai03/lib/python3.12/site-packages (from jsonschema[format-nongpl]>=4.18.0->jupyter-events>=0.9.0->jupyter-server<3,>=2.4.0->jupyterlab->jupyter->-r ../requirements.txt (line 5)) (1.5.1)\r\n",
      "Requirement already satisfied: isoduration in /home/dasus/anaconda3/envs/fcai03/lib/python3.12/site-packages (from jsonschema[format-nongpl]>=4.18.0->jupyter-events>=0.9.0->jupyter-server<3,>=2.4.0->jupyterlab->jupyter->-r ../requirements.txt (line 5)) (20.11.0)\r\n",
      "Requirement already satisfied: jsonpointer>1.13 in /home/dasus/anaconda3/envs/fcai03/lib/python3.12/site-packages (from jsonschema[format-nongpl]>=4.18.0->jupyter-events>=0.9.0->jupyter-server<3,>=2.4.0->jupyterlab->jupyter->-r ../requirements.txt (line 5)) (3.0.0)\r\n",
      "Requirement already satisfied: uri-template in /home/dasus/anaconda3/envs/fcai03/lib/python3.12/site-packages (from jsonschema[format-nongpl]>=4.18.0->jupyter-events>=0.9.0->jupyter-server<3,>=2.4.0->jupyterlab->jupyter->-r ../requirements.txt (line 5)) (1.3.0)\r\n",
      "Requirement already satisfied: webcolors>=24.6.0 in /home/dasus/anaconda3/envs/fcai03/lib/python3.12/site-packages (from jsonschema[format-nongpl]>=4.18.0->jupyter-events>=0.9.0->jupyter-server<3,>=2.4.0->jupyterlab->jupyter->-r ../requirements.txt (line 5)) (24.8.0)\r\n",
      "Requirement already satisfied: cffi>=1.0.1 in /home/dasus/anaconda3/envs/fcai03/lib/python3.12/site-packages (from argon2-cffi-bindings->argon2-cffi>=21.1->jupyter-server<3,>=2.4.0->jupyterlab->jupyter->-r ../requirements.txt (line 5)) (1.17.1)\r\n",
      "Requirement already satisfied: pycparser in /home/dasus/anaconda3/envs/fcai03/lib/python3.12/site-packages (from cffi>=1.0.1->argon2-cffi-bindings->argon2-cffi>=21.1->jupyter-server<3,>=2.4.0->jupyterlab->jupyter->-r ../requirements.txt (line 5)) (2.22)\r\n",
      "Requirement already satisfied: arrow>=0.15.0 in /home/dasus/anaconda3/envs/fcai03/lib/python3.12/site-packages (from isoduration->jsonschema[format-nongpl]>=4.18.0->jupyter-events>=0.9.0->jupyter-server<3,>=2.4.0->jupyterlab->jupyter->-r ../requirements.txt (line 5)) (1.3.0)\r\n",
      "Requirement already satisfied: types-python-dateutil>=2.8.10 in /home/dasus/anaconda3/envs/fcai03/lib/python3.12/site-packages (from arrow>=0.15.0->isoduration->jsonschema[format-nongpl]>=4.18.0->jupyter-events>=0.9.0->jupyter-server<3,>=2.4.0->jupyterlab->jupyter->-r ../requirements.txt (line 5)) (2.9.0.20240906)\r\n"
     ]
    }
   ],
   "execution_count": 1
  },
  {
   "cell_type": "code",
   "id": "initial_id",
   "metadata": {
    "collapsed": true,
    "ExecuteTime": {
     "end_time": "2024-10-03T12:21:38.613872Z",
     "start_time": "2024-10-03T12:21:38.570532Z"
    }
   },
   "source": [
    "import numpy as np\n",
    "import pandas as pd\n",
    "from sklearn.model_selection import train_test_split\n",
    "from sklearn.preprocessing import StandardScaler\n",
    "from sklearn.metrics import (\n",
    "    accuracy_score, precision_score, recall_score, f1_score, confusion_matrix\n",
    ")\n",
    "import matplotlib.pyplot as plt"
   ],
   "outputs": [],
   "execution_count": 2
  },
  {
   "metadata": {
    "ExecuteTime": {
     "end_time": "2024-10-03T12:21:38.669475Z",
     "start_time": "2024-10-03T12:21:38.663844Z"
    }
   },
   "cell_type": "code",
   "source": [
    "data_path = '../data/framingham.csv'\n",
    "\n",
    "data = pd.read_csv(data_path)"
   ],
   "id": "8d506a568bed6cef",
   "outputs": [],
   "execution_count": 3
  },
  {
   "metadata": {},
   "cell_type": "markdown",
   "source": "# Quick EDA",
   "id": "8771b084a957069d"
  },
  {
   "metadata": {
    "ExecuteTime": {
     "end_time": "2024-10-03T12:21:38.721408Z",
     "start_time": "2024-10-03T12:21:38.713516Z"
    }
   },
   "cell_type": "code",
   "source": "data.head()",
   "id": "82478e1f6ef3a094",
   "outputs": [
    {
     "data": {
      "text/plain": [
       "   male  age  education  currentSmoker  cigsPerDay  BPMeds  prevalentStroke  \\\n",
       "0     1   39        4.0              0         0.0     0.0                0   \n",
       "1     0   46        2.0              0         0.0     0.0                0   \n",
       "2     1   48        1.0              1        20.0     0.0                0   \n",
       "3     0   61        3.0              1        30.0     0.0                0   \n",
       "4     0   46        3.0              1        23.0     0.0                0   \n",
       "\n",
       "   prevalentHyp  diabetes  totChol  sysBP  diaBP    BMI  heartRate  glucose  \\\n",
       "0             0         0    195.0  106.0   70.0  26.97       80.0     77.0   \n",
       "1             0         0    250.0  121.0   81.0  28.73       95.0     76.0   \n",
       "2             0         0    245.0  127.5   80.0  25.34       75.0     70.0   \n",
       "3             1         0    225.0  150.0   95.0  28.58       65.0    103.0   \n",
       "4             0         0    285.0  130.0   84.0  23.10       85.0     85.0   \n",
       "\n",
       "   TenYearCHD  \n",
       "0           0  \n",
       "1           0  \n",
       "2           0  \n",
       "3           1  \n",
       "4           0  "
      ],
      "text/html": [
       "<div>\n",
       "<style scoped>\n",
       "    .dataframe tbody tr th:only-of-type {\n",
       "        vertical-align: middle;\n",
       "    }\n",
       "\n",
       "    .dataframe tbody tr th {\n",
       "        vertical-align: top;\n",
       "    }\n",
       "\n",
       "    .dataframe thead th {\n",
       "        text-align: right;\n",
       "    }\n",
       "</style>\n",
       "<table border=\"1\" class=\"dataframe\">\n",
       "  <thead>\n",
       "    <tr style=\"text-align: right;\">\n",
       "      <th></th>\n",
       "      <th>male</th>\n",
       "      <th>age</th>\n",
       "      <th>education</th>\n",
       "      <th>currentSmoker</th>\n",
       "      <th>cigsPerDay</th>\n",
       "      <th>BPMeds</th>\n",
       "      <th>prevalentStroke</th>\n",
       "      <th>prevalentHyp</th>\n",
       "      <th>diabetes</th>\n",
       "      <th>totChol</th>\n",
       "      <th>sysBP</th>\n",
       "      <th>diaBP</th>\n",
       "      <th>BMI</th>\n",
       "      <th>heartRate</th>\n",
       "      <th>glucose</th>\n",
       "      <th>TenYearCHD</th>\n",
       "    </tr>\n",
       "  </thead>\n",
       "  <tbody>\n",
       "    <tr>\n",
       "      <th>0</th>\n",
       "      <td>1</td>\n",
       "      <td>39</td>\n",
       "      <td>4.0</td>\n",
       "      <td>0</td>\n",
       "      <td>0.0</td>\n",
       "      <td>0.0</td>\n",
       "      <td>0</td>\n",
       "      <td>0</td>\n",
       "      <td>0</td>\n",
       "      <td>195.0</td>\n",
       "      <td>106.0</td>\n",
       "      <td>70.0</td>\n",
       "      <td>26.97</td>\n",
       "      <td>80.0</td>\n",
       "      <td>77.0</td>\n",
       "      <td>0</td>\n",
       "    </tr>\n",
       "    <tr>\n",
       "      <th>1</th>\n",
       "      <td>0</td>\n",
       "      <td>46</td>\n",
       "      <td>2.0</td>\n",
       "      <td>0</td>\n",
       "      <td>0.0</td>\n",
       "      <td>0.0</td>\n",
       "      <td>0</td>\n",
       "      <td>0</td>\n",
       "      <td>0</td>\n",
       "      <td>250.0</td>\n",
       "      <td>121.0</td>\n",
       "      <td>81.0</td>\n",
       "      <td>28.73</td>\n",
       "      <td>95.0</td>\n",
       "      <td>76.0</td>\n",
       "      <td>0</td>\n",
       "    </tr>\n",
       "    <tr>\n",
       "      <th>2</th>\n",
       "      <td>1</td>\n",
       "      <td>48</td>\n",
       "      <td>1.0</td>\n",
       "      <td>1</td>\n",
       "      <td>20.0</td>\n",
       "      <td>0.0</td>\n",
       "      <td>0</td>\n",
       "      <td>0</td>\n",
       "      <td>0</td>\n",
       "      <td>245.0</td>\n",
       "      <td>127.5</td>\n",
       "      <td>80.0</td>\n",
       "      <td>25.34</td>\n",
       "      <td>75.0</td>\n",
       "      <td>70.0</td>\n",
       "      <td>0</td>\n",
       "    </tr>\n",
       "    <tr>\n",
       "      <th>3</th>\n",
       "      <td>0</td>\n",
       "      <td>61</td>\n",
       "      <td>3.0</td>\n",
       "      <td>1</td>\n",
       "      <td>30.0</td>\n",
       "      <td>0.0</td>\n",
       "      <td>0</td>\n",
       "      <td>1</td>\n",
       "      <td>0</td>\n",
       "      <td>225.0</td>\n",
       "      <td>150.0</td>\n",
       "      <td>95.0</td>\n",
       "      <td>28.58</td>\n",
       "      <td>65.0</td>\n",
       "      <td>103.0</td>\n",
       "      <td>1</td>\n",
       "    </tr>\n",
       "    <tr>\n",
       "      <th>4</th>\n",
       "      <td>0</td>\n",
       "      <td>46</td>\n",
       "      <td>3.0</td>\n",
       "      <td>1</td>\n",
       "      <td>23.0</td>\n",
       "      <td>0.0</td>\n",
       "      <td>0</td>\n",
       "      <td>0</td>\n",
       "      <td>0</td>\n",
       "      <td>285.0</td>\n",
       "      <td>130.0</td>\n",
       "      <td>84.0</td>\n",
       "      <td>23.10</td>\n",
       "      <td>85.0</td>\n",
       "      <td>85.0</td>\n",
       "      <td>0</td>\n",
       "    </tr>\n",
       "  </tbody>\n",
       "</table>\n",
       "</div>"
      ]
     },
     "execution_count": 4,
     "metadata": {},
     "output_type": "execute_result"
    }
   ],
   "execution_count": 4
  },
  {
   "metadata": {
    "ExecuteTime": {
     "end_time": "2024-10-03T12:21:38.793076Z",
     "start_time": "2024-10-03T12:21:38.775747Z"
    }
   },
   "cell_type": "code",
   "source": "data.describe()",
   "id": "6f20ad018bc8a856",
   "outputs": [
    {
     "data": {
      "text/plain": [
       "              male          age    education  currentSmoker   cigsPerDay  \\\n",
       "count  4238.000000  4238.000000  4133.000000    4238.000000  4209.000000   \n",
       "mean      0.429212    49.584946     1.978950       0.494101     9.003089   \n",
       "std       0.495022     8.572160     1.019791       0.500024    11.920094   \n",
       "min       0.000000    32.000000     1.000000       0.000000     0.000000   \n",
       "25%       0.000000    42.000000     1.000000       0.000000     0.000000   \n",
       "50%       0.000000    49.000000     2.000000       0.000000     0.000000   \n",
       "75%       1.000000    56.000000     3.000000       1.000000    20.000000   \n",
       "max       1.000000    70.000000     4.000000       1.000000    70.000000   \n",
       "\n",
       "            BPMeds  prevalentStroke  prevalentHyp     diabetes      totChol  \\\n",
       "count  4185.000000      4238.000000   4238.000000  4238.000000  4188.000000   \n",
       "mean      0.029630         0.005899      0.310524     0.025720   236.721585   \n",
       "std       0.169584         0.076587      0.462763     0.158316    44.590334   \n",
       "min       0.000000         0.000000      0.000000     0.000000   107.000000   \n",
       "25%       0.000000         0.000000      0.000000     0.000000   206.000000   \n",
       "50%       0.000000         0.000000      0.000000     0.000000   234.000000   \n",
       "75%       0.000000         0.000000      1.000000     0.000000   263.000000   \n",
       "max       1.000000         1.000000      1.000000     1.000000   696.000000   \n",
       "\n",
       "             sysBP        diaBP          BMI    heartRate      glucose  \\\n",
       "count  4238.000000  4238.000000  4219.000000  4237.000000  3850.000000   \n",
       "mean    132.352407    82.893464    25.802008    75.878924    81.966753   \n",
       "std      22.038097    11.910850     4.080111    12.026596    23.959998   \n",
       "min      83.500000    48.000000    15.540000    44.000000    40.000000   \n",
       "25%     117.000000    75.000000    23.070000    68.000000    71.000000   \n",
       "50%     128.000000    82.000000    25.400000    75.000000    78.000000   \n",
       "75%     144.000000    89.875000    28.040000    83.000000    87.000000   \n",
       "max     295.000000   142.500000    56.800000   143.000000   394.000000   \n",
       "\n",
       "        TenYearCHD  \n",
       "count  4238.000000  \n",
       "mean      0.151958  \n",
       "std       0.359023  \n",
       "min       0.000000  \n",
       "25%       0.000000  \n",
       "50%       0.000000  \n",
       "75%       0.000000  \n",
       "max       1.000000  "
      ],
      "text/html": [
       "<div>\n",
       "<style scoped>\n",
       "    .dataframe tbody tr th:only-of-type {\n",
       "        vertical-align: middle;\n",
       "    }\n",
       "\n",
       "    .dataframe tbody tr th {\n",
       "        vertical-align: top;\n",
       "    }\n",
       "\n",
       "    .dataframe thead th {\n",
       "        text-align: right;\n",
       "    }\n",
       "</style>\n",
       "<table border=\"1\" class=\"dataframe\">\n",
       "  <thead>\n",
       "    <tr style=\"text-align: right;\">\n",
       "      <th></th>\n",
       "      <th>male</th>\n",
       "      <th>age</th>\n",
       "      <th>education</th>\n",
       "      <th>currentSmoker</th>\n",
       "      <th>cigsPerDay</th>\n",
       "      <th>BPMeds</th>\n",
       "      <th>prevalentStroke</th>\n",
       "      <th>prevalentHyp</th>\n",
       "      <th>diabetes</th>\n",
       "      <th>totChol</th>\n",
       "      <th>sysBP</th>\n",
       "      <th>diaBP</th>\n",
       "      <th>BMI</th>\n",
       "      <th>heartRate</th>\n",
       "      <th>glucose</th>\n",
       "      <th>TenYearCHD</th>\n",
       "    </tr>\n",
       "  </thead>\n",
       "  <tbody>\n",
       "    <tr>\n",
       "      <th>count</th>\n",
       "      <td>4238.000000</td>\n",
       "      <td>4238.000000</td>\n",
       "      <td>4133.000000</td>\n",
       "      <td>4238.000000</td>\n",
       "      <td>4209.000000</td>\n",
       "      <td>4185.000000</td>\n",
       "      <td>4238.000000</td>\n",
       "      <td>4238.000000</td>\n",
       "      <td>4238.000000</td>\n",
       "      <td>4188.000000</td>\n",
       "      <td>4238.000000</td>\n",
       "      <td>4238.000000</td>\n",
       "      <td>4219.000000</td>\n",
       "      <td>4237.000000</td>\n",
       "      <td>3850.000000</td>\n",
       "      <td>4238.000000</td>\n",
       "    </tr>\n",
       "    <tr>\n",
       "      <th>mean</th>\n",
       "      <td>0.429212</td>\n",
       "      <td>49.584946</td>\n",
       "      <td>1.978950</td>\n",
       "      <td>0.494101</td>\n",
       "      <td>9.003089</td>\n",
       "      <td>0.029630</td>\n",
       "      <td>0.005899</td>\n",
       "      <td>0.310524</td>\n",
       "      <td>0.025720</td>\n",
       "      <td>236.721585</td>\n",
       "      <td>132.352407</td>\n",
       "      <td>82.893464</td>\n",
       "      <td>25.802008</td>\n",
       "      <td>75.878924</td>\n",
       "      <td>81.966753</td>\n",
       "      <td>0.151958</td>\n",
       "    </tr>\n",
       "    <tr>\n",
       "      <th>std</th>\n",
       "      <td>0.495022</td>\n",
       "      <td>8.572160</td>\n",
       "      <td>1.019791</td>\n",
       "      <td>0.500024</td>\n",
       "      <td>11.920094</td>\n",
       "      <td>0.169584</td>\n",
       "      <td>0.076587</td>\n",
       "      <td>0.462763</td>\n",
       "      <td>0.158316</td>\n",
       "      <td>44.590334</td>\n",
       "      <td>22.038097</td>\n",
       "      <td>11.910850</td>\n",
       "      <td>4.080111</td>\n",
       "      <td>12.026596</td>\n",
       "      <td>23.959998</td>\n",
       "      <td>0.359023</td>\n",
       "    </tr>\n",
       "    <tr>\n",
       "      <th>min</th>\n",
       "      <td>0.000000</td>\n",
       "      <td>32.000000</td>\n",
       "      <td>1.000000</td>\n",
       "      <td>0.000000</td>\n",
       "      <td>0.000000</td>\n",
       "      <td>0.000000</td>\n",
       "      <td>0.000000</td>\n",
       "      <td>0.000000</td>\n",
       "      <td>0.000000</td>\n",
       "      <td>107.000000</td>\n",
       "      <td>83.500000</td>\n",
       "      <td>48.000000</td>\n",
       "      <td>15.540000</td>\n",
       "      <td>44.000000</td>\n",
       "      <td>40.000000</td>\n",
       "      <td>0.000000</td>\n",
       "    </tr>\n",
       "    <tr>\n",
       "      <th>25%</th>\n",
       "      <td>0.000000</td>\n",
       "      <td>42.000000</td>\n",
       "      <td>1.000000</td>\n",
       "      <td>0.000000</td>\n",
       "      <td>0.000000</td>\n",
       "      <td>0.000000</td>\n",
       "      <td>0.000000</td>\n",
       "      <td>0.000000</td>\n",
       "      <td>0.000000</td>\n",
       "      <td>206.000000</td>\n",
       "      <td>117.000000</td>\n",
       "      <td>75.000000</td>\n",
       "      <td>23.070000</td>\n",
       "      <td>68.000000</td>\n",
       "      <td>71.000000</td>\n",
       "      <td>0.000000</td>\n",
       "    </tr>\n",
       "    <tr>\n",
       "      <th>50%</th>\n",
       "      <td>0.000000</td>\n",
       "      <td>49.000000</td>\n",
       "      <td>2.000000</td>\n",
       "      <td>0.000000</td>\n",
       "      <td>0.000000</td>\n",
       "      <td>0.000000</td>\n",
       "      <td>0.000000</td>\n",
       "      <td>0.000000</td>\n",
       "      <td>0.000000</td>\n",
       "      <td>234.000000</td>\n",
       "      <td>128.000000</td>\n",
       "      <td>82.000000</td>\n",
       "      <td>25.400000</td>\n",
       "      <td>75.000000</td>\n",
       "      <td>78.000000</td>\n",
       "      <td>0.000000</td>\n",
       "    </tr>\n",
       "    <tr>\n",
       "      <th>75%</th>\n",
       "      <td>1.000000</td>\n",
       "      <td>56.000000</td>\n",
       "      <td>3.000000</td>\n",
       "      <td>1.000000</td>\n",
       "      <td>20.000000</td>\n",
       "      <td>0.000000</td>\n",
       "      <td>0.000000</td>\n",
       "      <td>1.000000</td>\n",
       "      <td>0.000000</td>\n",
       "      <td>263.000000</td>\n",
       "      <td>144.000000</td>\n",
       "      <td>89.875000</td>\n",
       "      <td>28.040000</td>\n",
       "      <td>83.000000</td>\n",
       "      <td>87.000000</td>\n",
       "      <td>0.000000</td>\n",
       "    </tr>\n",
       "    <tr>\n",
       "      <th>max</th>\n",
       "      <td>1.000000</td>\n",
       "      <td>70.000000</td>\n",
       "      <td>4.000000</td>\n",
       "      <td>1.000000</td>\n",
       "      <td>70.000000</td>\n",
       "      <td>1.000000</td>\n",
       "      <td>1.000000</td>\n",
       "      <td>1.000000</td>\n",
       "      <td>1.000000</td>\n",
       "      <td>696.000000</td>\n",
       "      <td>295.000000</td>\n",
       "      <td>142.500000</td>\n",
       "      <td>56.800000</td>\n",
       "      <td>143.000000</td>\n",
       "      <td>394.000000</td>\n",
       "      <td>1.000000</td>\n",
       "    </tr>\n",
       "  </tbody>\n",
       "</table>\n",
       "</div>"
      ]
     },
     "execution_count": 5,
     "metadata": {},
     "output_type": "execute_result"
    }
   ],
   "execution_count": 5
  },
  {
   "metadata": {
    "ExecuteTime": {
     "end_time": "2024-10-03T12:21:38.828318Z",
     "start_time": "2024-10-03T12:21:38.822218Z"
    }
   },
   "cell_type": "code",
   "source": "data.info",
   "id": "44fd7369273ca124",
   "outputs": [
    {
     "data": {
      "text/plain": [
       "<bound method DataFrame.info of       male  age  education  currentSmoker  cigsPerDay  BPMeds  \\\n",
       "0        1   39        4.0              0         0.0     0.0   \n",
       "1        0   46        2.0              0         0.0     0.0   \n",
       "2        1   48        1.0              1        20.0     0.0   \n",
       "3        0   61        3.0              1        30.0     0.0   \n",
       "4        0   46        3.0              1        23.0     0.0   \n",
       "...    ...  ...        ...            ...         ...     ...   \n",
       "4233     1   50        1.0              1         1.0     0.0   \n",
       "4234     1   51        3.0              1        43.0     0.0   \n",
       "4235     0   48        2.0              1        20.0     NaN   \n",
       "4236     0   44        1.0              1        15.0     0.0   \n",
       "4237     0   52        2.0              0         0.0     0.0   \n",
       "\n",
       "      prevalentStroke  prevalentHyp  diabetes  totChol  sysBP  diaBP    BMI  \\\n",
       "0                   0             0         0    195.0  106.0   70.0  26.97   \n",
       "1                   0             0         0    250.0  121.0   81.0  28.73   \n",
       "2                   0             0         0    245.0  127.5   80.0  25.34   \n",
       "3                   0             1         0    225.0  150.0   95.0  28.58   \n",
       "4                   0             0         0    285.0  130.0   84.0  23.10   \n",
       "...               ...           ...       ...      ...    ...    ...    ...   \n",
       "4233                0             1         0    313.0  179.0   92.0  25.97   \n",
       "4234                0             0         0    207.0  126.5   80.0  19.71   \n",
       "4235                0             0         0    248.0  131.0   72.0  22.00   \n",
       "4236                0             0         0    210.0  126.5   87.0  19.16   \n",
       "4237                0             0         0    269.0  133.5   83.0  21.47   \n",
       "\n",
       "      heartRate  glucose  TenYearCHD  \n",
       "0          80.0     77.0           0  \n",
       "1          95.0     76.0           0  \n",
       "2          75.0     70.0           0  \n",
       "3          65.0    103.0           1  \n",
       "4          85.0     85.0           0  \n",
       "...         ...      ...         ...  \n",
       "4233       66.0     86.0           1  \n",
       "4234       65.0     68.0           0  \n",
       "4235       84.0     86.0           0  \n",
       "4236       86.0      NaN           0  \n",
       "4237       80.0    107.0           0  \n",
       "\n",
       "[4238 rows x 16 columns]>"
      ]
     },
     "execution_count": 6,
     "metadata": {},
     "output_type": "execute_result"
    }
   ],
   "execution_count": 6
  },
  {
   "metadata": {
    "ExecuteTime": {
     "end_time": "2024-10-03T12:21:38.883283Z",
     "start_time": "2024-10-03T12:21:38.879306Z"
    }
   },
   "cell_type": "code",
   "source": "data.isnull().sum()",
   "id": "f454efe55ea9111d",
   "outputs": [
    {
     "data": {
      "text/plain": [
       "male                 0\n",
       "age                  0\n",
       "education          105\n",
       "currentSmoker        0\n",
       "cigsPerDay          29\n",
       "BPMeds              53\n",
       "prevalentStroke      0\n",
       "prevalentHyp         0\n",
       "diabetes             0\n",
       "totChol             50\n",
       "sysBP                0\n",
       "diaBP                0\n",
       "BMI                 19\n",
       "heartRate            1\n",
       "glucose            388\n",
       "TenYearCHD           0\n",
       "dtype: int64"
      ]
     },
     "execution_count": 7,
     "metadata": {},
     "output_type": "execute_result"
    }
   ],
   "execution_count": 7
  },
  {
   "metadata": {
    "ExecuteTime": {
     "end_time": "2024-10-03T12:21:39.043973Z",
     "start_time": "2024-10-03T12:21:39.040093Z"
    }
   },
   "cell_type": "code",
   "source": [
    "missing_percent = data.isnull().mean() * 100\n",
    "\n",
    "missing_percent"
   ],
   "id": "d300018c1269148a",
   "outputs": [
    {
     "data": {
      "text/plain": [
       "male               0.000000\n",
       "age                0.000000\n",
       "education          2.477584\n",
       "currentSmoker      0.000000\n",
       "cigsPerDay         0.684285\n",
       "BPMeds             1.250590\n",
       "prevalentStroke    0.000000\n",
       "prevalentHyp       0.000000\n",
       "diabetes           0.000000\n",
       "totChol            1.179802\n",
       "sysBP              0.000000\n",
       "diaBP              0.000000\n",
       "BMI                0.448325\n",
       "heartRate          0.023596\n",
       "glucose            9.155262\n",
       "TenYearCHD         0.000000\n",
       "dtype: float64"
      ]
     },
     "execution_count": 8,
     "metadata": {},
     "output_type": "execute_result"
    }
   ],
   "execution_count": 8
  },
  {
   "metadata": {},
   "cell_type": "markdown",
   "source": "Impute missing values that shall we?",
   "id": "ff857b8b6874ae68"
  },
  {
   "metadata": {
    "ExecuteTime": {
     "end_time": "2024-10-03T12:21:39.146988Z",
     "start_time": "2024-10-03T12:21:39.105977Z"
    }
   },
   "cell_type": "code",
   "source": [
    "from sklearn.impute import SimpleImputer\n",
    "\n",
    "X = data.drop('TenYearCHD', axis=1)\n",
    "y = data['TenYearCHD']\n",
    "\n",
    "imputer = SimpleImputer(strategy='median')\n",
    "X_imputed = pd.DataFrame(imputer.fit_transform(X), columns=X.columns)\n",
    "\n",
    "data_imputed = pd.concat([X_imputed, y.reset_index(drop=True)], axis=1)"
   ],
   "id": "d80db25000b25187",
   "outputs": [],
   "execution_count": 9
  },
  {
   "metadata": {
    "ExecuteTime": {
     "end_time": "2024-10-03T12:21:39.184085Z",
     "start_time": "2024-10-03T12:21:39.178819Z"
    }
   },
   "cell_type": "code",
   "source": "data_imputed.isnull().sum()",
   "id": "dd39caae61e0aa90",
   "outputs": [
    {
     "data": {
      "text/plain": [
       "male               0\n",
       "age                0\n",
       "education          0\n",
       "currentSmoker      0\n",
       "cigsPerDay         0\n",
       "BPMeds             0\n",
       "prevalentStroke    0\n",
       "prevalentHyp       0\n",
       "diabetes           0\n",
       "totChol            0\n",
       "sysBP              0\n",
       "diaBP              0\n",
       "BMI                0\n",
       "heartRate          0\n",
       "glucose            0\n",
       "TenYearCHD         0\n",
       "dtype: int64"
      ]
     },
     "execution_count": 10,
     "metadata": {},
     "output_type": "execute_result"
    }
   ],
   "execution_count": 10
  },
  {
   "metadata": {},
   "cell_type": "markdown",
   "source": "# Preprocess data for modeling",
   "id": "81b7dfc9b26aeabd"
  },
  {
   "metadata": {
    "ExecuteTime": {
     "end_time": "2024-10-03T12:21:39.297226Z",
     "start_time": "2024-10-03T12:21:39.291269Z"
    }
   },
   "cell_type": "code",
   "source": [
    "continuous_features = [\n",
    "    'age', 'cigsPerDay', 'totChol', 'sysBP', 'diaBP',\n",
    "    'BMI', 'heartRate', 'glucose', 'education'\n",
    "]\n",
    "\n",
    "scaler = StandardScaler()\n",
    "\n",
    "X_scaled_continuous = pd.DataFrame(\n",
    "    scaler.fit_transform(data_imputed[continuous_features]),\n",
    "    columns=continuous_features\n",
    ")\n",
    "\n",
    "binary_features = [\n",
    "    'male', 'currentSmoker', 'BPMeds', 'prevalentStroke',\n",
    "    'prevalentHyp', 'diabetes'\n",
    "]\n",
    "\n",
    "X_processed = pd.concat([X_scaled_continuous, data_imputed[binary_features].reset_index(drop=True)], axis=1)\n",
    "y = data_imputed['TenYearCHD'].reset_index(drop=True)"
   ],
   "id": "592549ee1d3655d7",
   "outputs": [],
   "execution_count": 11
  },
  {
   "metadata": {
    "ExecuteTime": {
     "end_time": "2024-10-03T12:21:39.322025Z",
     "start_time": "2024-10-03T12:21:39.319508Z"
    }
   },
   "cell_type": "code",
   "source": "X_final = X_processed",
   "id": "6f96010e5df36a37",
   "outputs": [],
   "execution_count": 12
  },
  {
   "metadata": {
    "ExecuteTime": {
     "end_time": "2024-10-03T12:21:39.380990Z",
     "start_time": "2024-10-03T12:21:39.375919Z"
    }
   },
   "cell_type": "code",
   "source": [
    "X_train, X_test, y_train, y_test = train_test_split(\n",
    "    X_final, y, test_size=0.2, random_state=42, stratify=y\n",
    ")\n",
    "\n",
    "print(f\"Training set size: {X_train.shape[0]} samples\")\n",
    "print(f\"Test set size: {X_test.shape[0]} samples\")"
   ],
   "id": "98228ade227ad9fb",
   "outputs": [
    {
     "name": "stdout",
     "output_type": "stream",
     "text": [
      "Training set size: 3390 samples\n",
      "Test set size: 848 samples\n"
     ]
    }
   ],
   "execution_count": 13
  },
  {
   "metadata": {
    "ExecuteTime": {
     "end_time": "2024-10-03T12:21:39.431867Z",
     "start_time": "2024-10-03T12:21:39.427420Z"
    }
   },
   "cell_type": "code",
   "source": [
    "class_counts = y_train.value_counts()\n",
    "print(\"Class distribution in training set:\")\n",
    "print(class_counts)\n",
    "\n",
    "from sklearn.utils import class_weight\n",
    "\n",
    "class_weights = class_weight.compute_class_weight(\n",
    "    class_weight='balanced',\n",
    "    classes=np.unique(y_train),\n",
    "    y=y_train\n",
    ")\n",
    "\n",
    "class_weight_dict = {0: class_weights[0], 1: class_weights[1]}\n",
    "print(\"Class weights:\", class_weight_dict)\n"
   ],
   "id": "f05591ca21d73727",
   "outputs": [
    {
     "name": "stdout",
     "output_type": "stream",
     "text": [
      "Class distribution in training set:\n",
      "TenYearCHD\n",
      "0    2875\n",
      "1     515\n",
      "Name: count, dtype: int64\n",
      "Class weights: {0: np.float64(0.5895652173913043), 1: np.float64(3.29126213592233)}\n"
     ]
    }
   ],
   "execution_count": 14
  },
  {
   "metadata": {},
   "cell_type": "markdown",
   "source": "## Import the LogisticRegressionNAG class and train the model",
   "id": "b4a67c0b0846d450"
  },
  {
   "metadata": {
    "ExecuteTime": {
     "end_time": "2024-10-03T12:21:39.535994Z",
     "start_time": "2024-10-03T12:21:39.531250Z"
    }
   },
   "cell_type": "code",
   "source": [
    "import sys\n",
    "import os\n",
    "\n",
    "notebook_dir = os.path.dirname(os.path.abspath(\"__file__\"))\n",
    "sys.path.append(os.path.join(notebook_dir, '..'))\n",
    "from src import LogisticRegressionNAG"
   ],
   "id": "6d0df97e6e06d43c",
   "outputs": [],
   "execution_count": 15
  },
  {
   "metadata": {
    "ExecuteTime": {
     "end_time": "2024-10-03T12:21:40.085884Z",
     "start_time": "2024-10-03T12:21:39.574238Z"
    }
   },
   "cell_type": "code",
   "source": [
    "X_train_np = X_train.values if isinstance(X_train, pd.DataFrame) else X_train\n",
    "\n",
    "model = LogisticRegressionNAG(learning_rate=0.01, momentum=0.9, n_iters=5000)\n",
    "model.fit(X_train_np, y_train)"
   ],
   "id": "9fcc3cf50636f9c",
   "outputs": [],
   "execution_count": 16
  },
  {
   "metadata": {
    "ExecuteTime": {
     "end_time": "2024-10-03T12:21:40.118957Z",
     "start_time": "2024-10-03T12:21:40.116721Z"
    }
   },
   "cell_type": "code",
   "source": [
    "X_test_np = X_test.values if isinstance(X_test, pd.DataFrame) else X_test\n",
    "y_pred_proba = model.predict_proba(X_test_np)\n",
    "y_pred = model.predict(X_test_np)"
   ],
   "id": "6ceb8c1cfb33692f",
   "outputs": [],
   "execution_count": 17
  },
  {
   "metadata": {},
   "cell_type": "markdown",
   "source": "# Evaluate the model",
   "id": "cbeef8010e27dccc"
  },
  {
   "metadata": {
    "ExecuteTime": {
     "end_time": "2024-10-03T12:21:40.167250Z",
     "start_time": "2024-10-03T12:21:40.158963Z"
    }
   },
   "cell_type": "code",
   "source": [
    "from sklearn.metrics import roc_auc_score\n",
    "\n",
    "accuracy = accuracy_score(y_test, y_pred)\n",
    "precision = precision_score(y_test, y_pred)\n",
    "recall = recall_score(y_test, y_pred)\n",
    "f1 = f1_score(y_test, y_pred)\n",
    "roc_auc = roc_auc_score(y_test, y_pred_proba)\n",
    "cm = confusion_matrix(y_test, y_pred)\n",
    "\n",
    "print(f\"Accuracy: {accuracy:.4f}\")\n",
    "print(f\"Precision: {precision:.4f}\")\n",
    "print(f\"Recall: {recall:.4f}\")\n",
    "print(f\"F1 Score: {f1:.4f}\")\n",
    "print(f\"ROC AUC Score: {roc_auc:.4f}\")\n",
    "print(\"Confusion Matrix:\")\n",
    "print(cm)\n"
   ],
   "id": "5ea49ef81d056c4a",
   "outputs": [
    {
     "name": "stdout",
     "output_type": "stream",
     "text": [
      "Accuracy: 0.8479\n",
      "Precision: 0.5000\n",
      "Recall: 0.0620\n",
      "F1 Score: 0.1103\n",
      "ROC AUC Score: 0.6992\n",
      "Confusion Matrix:\n",
      "[[711   8]\n",
      " [121   8]]\n"
     ]
    }
   ],
   "execution_count": 18
  },
  {
   "metadata": {},
   "cell_type": "markdown",
   "source": "The model is missing a large number of patients who are at risk of CHD. Due to the class imbalance, the model is not able to learn the patterns of the minority class. I should try to process the data to balance the classes and retrain the model. ) : However, let's do some visualization for better understanding of the model performance.",
   "id": "d296a1681c4bb38e"
  },
  {
   "metadata": {
    "ExecuteTime": {
     "end_time": "2024-10-03T12:21:40.344107Z",
     "start_time": "2024-10-03T12:21:40.264697Z"
    }
   },
   "cell_type": "code",
   "source": [
    "plt.plot(range(len(model.loss_history)), model.loss_history)\n",
    "plt.xlabel('Iterations')\n",
    "plt.ylabel('Loss')\n",
    "plt.title('Loss Function Convergence')\n",
    "plt.show()"
   ],
   "id": "2a2b4e4b56dcb857",
   "outputs": [
    {
     "data": {
      "text/plain": [
       "<Figure size 640x480 with 1 Axes>"
      ],
      "image/png": "[encoded data removed]"
     },
     "metadata": {},
     "output_type": "display_data"
    }
   ],
   "execution_count": 19
  },
  {
   "metadata": {
    "ExecuteTime": {
     "end_time": "2024-10-03T12:21:40.456899Z",
     "start_time": "2024-10-03T12:21:40.378414Z"
    }
   },
   "cell_type": "code",
   "source": [
    "from sklearn.metrics import roc_curve\n",
    "\n",
    "fpr, tpr, thresholds = roc_curve(y_test, y_pred_proba)\n",
    "plt.plot(fpr, tpr, label=f'AUC = {roc_auc:.2f}')\n",
    "plt.plot([0, 1], [0, 1], 'k--')\n",
    "plt.xlabel('False Positive Rate')\n",
    "plt.ylabel('True Positive Rate')\n",
    "plt.title('ROC Curve')\n",
    "plt.legend()\n",
    "plt.show()\n"
   ],
   "id": "16a7d60da62d342d",
   "outputs": [
    {
     "data": {
      "text/plain": [
       "<Figure size 640x480 with 1 Axes>"
      ],
      "image/png": "[encoded data removed]"
     },
     "metadata": {},
     "output_type": "display_data"
    }
   ],
   "execution_count": 20
  },
  {
   "metadata": {
    "ExecuteTime": {
     "end_time": "2024-10-03T12:21:40.593093Z",
     "start_time": "2024-10-03T12:21:40.539443Z"
    }
   },
   "cell_type": "code",
   "source": [
    "from sklearn.metrics import confusion_matrix\n",
    "import seaborn as sns\n",
    "\n",
    "X_test_np = X_test.values if isinstance(X_test, pd.DataFrame) else X_test\n",
    "y_pred = model.predict(X_test_np, threshold=0.5)\n",
    "\n",
    "cm = confusion_matrix(y_test, y_pred)\n",
    "\n",
    "plt.figure(figsize=(8, 6))\n",
    "sns.heatmap(cm, annot=True, fmt='d', cmap='Blues', cbar=False,\n",
    "            xticklabels=['No CHD', 'CHD'], yticklabels=['No CHD', 'CHD'])\n",
    "plt.xlabel('Predicted Label', fontsize=14)\n",
    "plt.ylabel('True Label', fontsize=14)\n",
    "plt.title('Confusion Matrix', fontsize=16)\n",
    "plt.show()\n"
   ],
   "id": "43b0010c79a35c53",
   "outputs": [
    {
     "data": {
      "text/plain": [
       "<Figure size 800x600 with 1 Axes>"
      ],
      "image/png": "[encoded data removed]"
     },
     "metadata": {},
     "output_type": "display_data"
    }
   ],
   "execution_count": 22
  },
  {
   "metadata": {
    "ExecuteTime": {
     "end_time": "2024-10-03T12:28:52.867745Z",
     "start_time": "2024-10-03T12:28:52.787686Z"
    }
   },
   "cell_type": "code",
   "source": [
    "from sklearn.metrics import precision_recall_curve, average_precision_score\n",
    "\n",
    "precision, recall, thresholds = precision_recall_curve(y_test, y_pred_proba)\n",
    "avg_precision = average_precision_score(y_test, y_pred_proba)\n",
    "\n",
    "plt.figure(figsize=(8, 6))\n",
    "plt.plot(recall, precision, color='green', lw=2, label=f'Average Precision = {avg_precision:.2f}')\n",
    "plt.xlabel('Recall', fontsize=14)\n",
    "plt.ylabel('Precision', fontsize=14)\n",
    "plt.title('Precision-Recall Curve', fontsize=16)\n",
    "plt.legend(loc='upper right')\n",
    "plt.grid(True)\n",
    "plt.show()\n"
   ],
   "id": "ade8cb71c9dc90d2",
   "outputs": [
    {
     "data": {
      "text/plain": [
       "<Figure size 800x600 with 1 Axes>"
      ],
      "image/png": "[encoded data removed]"
     },
     "metadata": {},
     "output_type": "display_data"
    }
   ],
   "execution_count": 23
  },
  {
   "metadata": {},
   "cell_type": "code",
   "outputs": [],
   "execution_count": null,
   "source": "",
   "id": "4a8125b2c35bcea8"
  }
 ],
 "metadata": {
  "kernelspec": {
   "display_name": "Python 3",
   "language": "python",
   "name": "python3"
  },
  "language_info": {
   "codemirror_mode": {
    "name": "ipython",
    "version": 2
   },
   "file_extension": ".py",
   "mimetype": "text/x-python",
   "name": "python",
   "nbconvert_exporter": "python",
   "pygments_lexer": "ipython2",
   "version": "2.7.6"
  }
 },
 "nbformat": 4,
 "nbformat_minor": 5
}
