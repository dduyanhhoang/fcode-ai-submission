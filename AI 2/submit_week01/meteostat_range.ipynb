{
 "cells": [
  {
   "cell_type": "code",
   "id": "initial_id",
   "metadata": {
    "collapsed": true,
    "ExecuteTime": {
     "end_time": "2024-06-05T08:18:10.603697Z",
     "start_time": "2024-06-05T08:18:10.319835Z"
    }
   },
   "source": [
    "from datetime import date, timedelta\n",
    "import pandas as pd\n",
    "from selenium import webdriver\n",
    "from selenium.webdriver.chrome.options import Options\n",
    "from selenium.webdriver.chrome.service import Service\n",
    "from selenium.webdriver.common.by import By\n",
    "from webdriver_manager.chrome import ChromeDriverManager"
   ],
   "outputs": [],
   "execution_count": 1
  },
  {
   "metadata": {
    "ExecuteTime": {
     "end_time": "2024-06-05T08:18:13.773406Z",
     "start_time": "2024-06-05T08:18:11.500416Z"
    }
   },
   "cell_type": "code",
   "source": [
    "options = Options()\n",
    "options.add_argument('--headless')\n",
    "options.add_argument('--no-sandbox')\n",
    "options.add_argument('--disable-dev-shm-usage')\n",
    "driver = webdriver.Chrome(service=Service(ChromeDriverManager().install()), options=options)"
   ],
   "id": "73a22473eb663342",
   "outputs": [],
   "execution_count": 2
  },
  {
   "metadata": {
    "ExecuteTime": {
     "end_time": "2024-06-05T08:18:15.083133Z",
     "start_time": "2024-06-05T08:18:15.080490Z"
    }
   },
   "cell_type": "code",
   "source": [
    "end = date(2024,5, 26)\n",
    "delta = timedelta(days=-11)\n",
    "start = end + delta\n",
    "t_para = f\"{start}/{end}\""
   ],
   "id": "64fbbd6ddbb1c01c",
   "outputs": [],
   "execution_count": 3
  },
  {
   "metadata": {
    "ExecuteTime": {
     "end_time": "2024-06-05T08:18:16.151308Z",
     "start_time": "2024-06-05T08:18:16.148667Z"
    }
   },
   "cell_type": "code",
   "source": "url = 'https://meteostat.net/en/place/vn/thu-uc?s=48900&t='",
   "id": "d54f2bad02df140e",
   "outputs": [],
   "execution_count": 4
  },
  {
   "metadata": {
    "ExecuteTime": {
     "end_time": "2024-06-05T08:18:18.404481Z",
     "start_time": "2024-06-05T08:18:18.401870Z"
    }
   },
   "cell_type": "code",
   "source": [
    "urls = list()\n",
    "counter = 5\n",
    "\n",
    "while counter > 0:\n",
    "    urls.append(url + t_para)\n",
    "    end = start + timedelta(days=-1)\n",
    "    start = end + delta\n",
    "    t_para = f\"{start}/{end}\"\n",
    "    counter -= 1"
   ],
   "id": "a84895bc301839b8",
   "outputs": [],
   "execution_count": 5
  },
  {
   "metadata": {
    "ExecuteTime": {
     "end_time": "2024-06-05T08:18:19.222722Z",
     "start_time": "2024-06-05T08:18:19.217438Z"
    }
   },
   "cell_type": "code",
   "source": "urls",
   "id": "53f686649031a6a9",
   "outputs": [
    {
     "data": {
      "text/plain": [
       "['https://meteostat.net/en/place/vn/thu-uc?s=48900&t=2024-05-15/2024-05-26',\n",
       " 'https://meteostat.net/en/place/vn/thu-uc?s=48900&t=2024-05-03/2024-05-14',\n",
       " 'https://meteostat.net/en/place/vn/thu-uc?s=48900&t=2024-04-21/2024-05-02',\n",
       " 'https://meteostat.net/en/place/vn/thu-uc?s=48900&t=2024-04-09/2024-04-20',\n",
       " 'https://meteostat.net/en/place/vn/thu-uc?s=48900&t=2024-03-28/2024-04-08']"
      ]
     },
     "execution_count": 6,
     "metadata": {},
     "output_type": "execute_result"
    }
   ],
   "execution_count": 6
  },
  {
   "metadata": {
    "ExecuteTime": {
     "end_time": "2024-06-05T08:21:28.081828Z",
     "start_time": "2024-06-05T08:21:26.520626Z"
    }
   },
   "cell_type": "code",
   "source": [
    "# Driver load the url\n",
    "driver.get(urls[0])\n",
    "\n",
    "# Click the table to get the table\n",
    "button_table_xpath = '//*[@id=\"app\"]/div/main/div/div/div/div[1]/div[1]/div[1]/button[2]'\n",
    "button_table = driver.find_element(By.XPATH, button_table_xpath)\n",
    "driver.execute_script(\"arguments[0].click();\", button_table)\n",
    "\n",
    "# Get table\n",
    "table_xpath = '//*[@id=\"details-modal\"]/div/div/div[2]/div[1]'\n",
    "table = driver.find_element(By.XPATH, table_xpath)\n",
    "\n",
    "# Get th\n",
    "thead_xpath = '//*[@id=\"details-modal\"]/div/div/div[2]/div[1]/table/thead'\n",
    "thead = table.find_element(By.XPATH, thead_xpath)\n",
    "\n",
    "thead_tr_xpath = '//*[@id=\"details-modal\"]/div/div/div[2]/div[1]/table/thead/tr'\n",
    "thead_tr = table.find_element(By.XPATH, thead_tr_xpath)\n",
    "thead_tr_th_xpath = '//*[@id=\"details-modal\"]/div/div/div[2]/div[1]/table/thead/tr/th'\n",
    "thead_tr_th_list = thead_tr.find_elements(By.XPATH, thead_tr_th_xpath)\n",
    "\n",
    "th_list = [th.text for th in thead_tr_th_list]\n",
    "\n",
    "# Get show more button\n",
    "button_showmore_xpath = '//*[@id=\"details-modal\"]/div/div/div[2]/div[2]/button'\n",
    "button_showmore = driver.find_element(By.XPATH, button_showmore_xpath)\n",
    "\n",
    "# Click until get all of available rows\n",
    "while True:\n",
    "    if not button_showmore.get_attribute('disabled'):\n",
    "        driver.execute_script(\"arguments[0].click();\", button_showmore)\n",
    "    else:\n",
    "        break\n",
    "        \n",
    "# Get data\n",
    "tbody_xpath = '//*[@id=\"details-modal\"]/div/div/div[2]/div[1]/table/tbody'\n",
    "tbody = driver.find_element(By.XPATH, tbody_xpath)\n",
    "tbody_tr_xpath = '//*[@id=\"details-modal\"]/div/div/div[2]/div[1]/table/tbody/tr'\n",
    "tbody_tr_list = tbody.find_elements(By.XPATH, tbody_tr_xpath)"
   ],
   "id": "25a27e9bc430a60",
   "outputs": [],
   "execution_count": 9
  },
  {
   "metadata": {
    "ExecuteTime": {
     "end_time": "2024-06-05T08:22:21.088957Z",
     "start_time": "2024-06-05T08:21:33.688789Z"
    }
   },
   "cell_type": "code",
   "source": [
    "td = list()\n",
    "for tr in tbody_tr_list:\n",
    "    # Extract row's ./th\n",
    "    tr_th = tr.find_elements(By.XPATH, './th')\n",
    "    tr_th = [i.text for i in tr_th]\n",
    "    \n",
    "    # Extract row's ./td\n",
    "    tr_td_list = tr.find_elements(By.XPATH, './td')\n",
    "    \n",
    "    # Extract coco\n",
    "    tr_td_coco = tr_td_list[0]\n",
    "    tr_td_coco_class = tr_td_coco.find_element(By.XPATH, './i').get_attribute('class')\n",
    "    tr_td_coco = tr_td_coco_class.split('-')[-1]\n",
    "    \n",
    "    # Extract wind direction from element's class\n",
    "    tr_wdir = tr_td_list[6]\n",
    "    tr_wdir_class = tr_wdir.find_element(By.XPATH, './i').get_attribute('class')\n",
    "    tr_wdir = tr_wdir_class.split('-')[-2]\n",
    "    \n",
    "    # Assemble row's data\n",
    "    tr_td_list = tr_th + [td.text for td in tr_td_list]\n",
    "    tr_td_list[8] = tr_wdir\n",
    "    tr_td_list[2] = tr_td_coco\n",
    "    td.append(tr_td_list)"
   ],
   "id": "4c87303a5aa77b29",
   "outputs": [],
   "execution_count": 10
  },
  {
   "metadata": {
    "ExecuteTime": {
     "end_time": "2024-06-05T08:22:52.182352Z",
     "start_time": "2024-06-05T08:22:52.179948Z"
    }
   },
   "cell_type": "code",
   "source": [
    "meteostat_data = td\n",
    "meteostat_head = th_list"
   ],
   "id": "6542297a0814d13c",
   "outputs": [],
   "execution_count": 11
  },
  {
   "metadata": {
    "ExecuteTime": {
     "end_time": "2024-06-05T08:23:17.206002Z",
     "start_time": "2024-06-05T08:23:14.604356Z"
    }
   },
   "cell_type": "code",
   "source": [
    "# Driver load the url\n",
    "driver.get(urls[1])\n",
    "\n",
    "# Click the table to get the table\n",
    "button_table_xpath = '//*[@id=\"app\"]/div/main/div/div/div/div[1]/div[1]/div[1]/button[2]'\n",
    "button_table = driver.find_element(By.XPATH, button_table_xpath)\n",
    "driver.execute_script(\"arguments[0].click();\", button_table)\n",
    "\n",
    "# Get table\n",
    "table_xpath = '//*[@id=\"details-modal\"]/div/div/div[2]/div[1]'\n",
    "table = driver.find_element(By.XPATH, table_xpath)\n",
    "\n",
    "# Get th\n",
    "thead_xpath = '//*[@id=\"details-modal\"]/div/div/div[2]/div[1]/table/thead'\n",
    "thead = table.find_element(By.XPATH, thead_xpath)\n",
    "\n",
    "thead_tr_xpath = '//*[@id=\"details-modal\"]/div/div/div[2]/div[1]/table/thead/tr'\n",
    "thead_tr = table.find_element(By.XPATH, thead_tr_xpath)\n",
    "thead_tr_th_xpath = '//*[@id=\"details-modal\"]/div/div/div[2]/div[1]/table/thead/tr/th'\n",
    "thead_tr_th_list = thead_tr.find_elements(By.XPATH, thead_tr_th_xpath)\n",
    "\n",
    "th_list = [th.text for th in thead_tr_th_list]\n",
    "\n",
    "# Get show more button\n",
    "button_showmore_xpath = '//*[@id=\"details-modal\"]/div/div/div[2]/div[2]/button'\n",
    "button_showmore = driver.find_element(By.XPATH, button_showmore_xpath)\n",
    "\n",
    "# Click until get all of available rows\n",
    "while True:\n",
    "    if not button_showmore.get_attribute('disabled'):\n",
    "        driver.execute_script(\"arguments[0].click();\", button_showmore)\n",
    "    else:\n",
    "        break\n",
    "        \n",
    "# Get data\n",
    "tbody_xpath = '//*[@id=\"details-modal\"]/div/div/div[2]/div[1]/table/tbody'\n",
    "tbody = driver.find_element(By.XPATH, tbody_xpath)\n",
    "tbody_tr_xpath = '//*[@id=\"details-modal\"]/div/div/div[2]/div[1]/table/tbody/tr'\n",
    "tbody_tr_list = tbody.find_elements(By.XPATH, tbody_tr_xpath)"
   ],
   "id": "d6186d1b36356847",
   "outputs": [],
   "execution_count": 13
  },
  {
   "metadata": {
    "ExecuteTime": {
     "end_time": "2024-06-05T08:24:02.188789Z",
     "start_time": "2024-06-05T08:23:21.054787Z"
    }
   },
   "cell_type": "code",
   "source": [
    "td = list()\n",
    "for tr in tbody_tr_list:\n",
    "    # Extract row's ./th\n",
    "    tr_th = tr.find_elements(By.XPATH, './th')\n",
    "    tr_th = [i.text for i in tr_th]\n",
    "    \n",
    "    # Extract row's ./td\n",
    "    tr_td_list = tr.find_elements(By.XPATH, './td')\n",
    "    \n",
    "    # Extract coco\n",
    "    tr_td_coco = tr_td_list[0]\n",
    "    tr_td_coco_class = tr_td_coco.find_element(By.XPATH, './i').get_attribute('class')\n",
    "    tr_td_coco = tr_td_coco_class.split('-')[-1]\n",
    "    \n",
    "    # Extract wind direction from element's class\n",
    "    tr_wdir = tr_td_list[6]\n",
    "    tr_wdir_class = tr_wdir.find_element(By.XPATH, './i').get_attribute('class')\n",
    "    tr_wdir = tr_wdir_class.split('-')[-2]\n",
    "    \n",
    "    # Assemble row's data\n",
    "    tr_td_list = tr_th + [td.text for td in tr_td_list]\n",
    "    tr_td_list[8] = tr_wdir\n",
    "    tr_td_list[2] = tr_td_coco\n",
    "    td.append(tr_td_list)"
   ],
   "id": "d7f12cdd11819ece",
   "outputs": [],
   "execution_count": 14
  },
  {
   "metadata": {
    "ExecuteTime": {
     "end_time": "2024-06-05T08:24:07.415553Z",
     "start_time": "2024-06-05T08:24:07.413390Z"
    }
   },
   "cell_type": "code",
   "source": "meteostat_data += td",
   "id": "8ad0bd0ee153858b",
   "outputs": [],
   "execution_count": 15
  },
  {
   "metadata": {
    "ExecuteTime": {
     "end_time": "2024-06-05T08:24:30.855542Z",
     "start_time": "2024-06-05T08:24:30.851843Z"
    }
   },
   "cell_type": "code",
   "source": "len(meteostat_data)",
   "id": "caedcc5118c96011",
   "outputs": [
    {
     "data": {
      "text/plain": [
       "576"
      ]
     },
     "execution_count": 18,
     "metadata": {},
     "output_type": "execute_result"
    }
   ],
   "execution_count": 18
  },
  {
   "metadata": {
    "ExecuteTime": {
     "end_time": "2024-06-05T08:24:48.721235Z",
     "start_time": "2024-06-05T08:24:46.859898Z"
    }
   },
   "cell_type": "code",
   "source": [
    "# Driver load the url\n",
    "driver.get(urls[2])\n",
    "\n",
    "# Click the table to get the table\n",
    "button_table_xpath = '//*[@id=\"app\"]/div/main/div/div/div/div[1]/div[1]/div[1]/button[2]'\n",
    "button_table = driver.find_element(By.XPATH, button_table_xpath)\n",
    "driver.execute_script(\"arguments[0].click();\", button_table)\n",
    "\n",
    "# Get table\n",
    "table_xpath = '//*[@id=\"details-modal\"]/div/div/div[2]/div[1]'\n",
    "table = driver.find_element(By.XPATH, table_xpath)\n",
    "\n",
    "# Get th\n",
    "thead_xpath = '//*[@id=\"details-modal\"]/div/div/div[2]/div[1]/table/thead'\n",
    "thead = table.find_element(By.XPATH, thead_xpath)\n",
    "\n",
    "thead_tr_xpath = '//*[@id=\"details-modal\"]/div/div/div[2]/div[1]/table/thead/tr'\n",
    "thead_tr = table.find_element(By.XPATH, thead_tr_xpath)\n",
    "thead_tr_th_xpath = '//*[@id=\"details-modal\"]/div/div/div[2]/div[1]/table/thead/tr/th'\n",
    "thead_tr_th_list = thead_tr.find_elements(By.XPATH, thead_tr_th_xpath)\n",
    "\n",
    "th_list = [th.text for th in thead_tr_th_list]\n",
    "\n",
    "# Get show more button\n",
    "button_showmore_xpath = '//*[@id=\"details-modal\"]/div/div/div[2]/div[2]/button'\n",
    "button_showmore = driver.find_element(By.XPATH, button_showmore_xpath)\n",
    "\n",
    "# Click until get all of available rows\n",
    "while True:\n",
    "    if not button_showmore.get_attribute('disabled'):\n",
    "        driver.execute_script(\"arguments[0].click();\", button_showmore)\n",
    "    else:\n",
    "        break\n",
    "        \n",
    "# Get data\n",
    "tbody_xpath = '//*[@id=\"details-modal\"]/div/div/div[2]/div[1]/table/tbody'\n",
    "tbody = driver.find_element(By.XPATH, tbody_xpath)\n",
    "tbody_tr_xpath = '//*[@id=\"details-modal\"]/div/div/div[2]/div[1]/table/tbody/tr'\n",
    "tbody_tr_list = tbody.find_elements(By.XPATH, tbody_tr_xpath)"
   ],
   "id": "c8d47d0691a559a5",
   "outputs": [],
   "execution_count": 20
  },
  {
   "metadata": {
    "ExecuteTime": {
     "end_time": "2024-06-05T08:25:37.760894Z",
     "start_time": "2024-06-05T08:24:59.874857Z"
    }
   },
   "cell_type": "code",
   "source": [
    "td = list()\n",
    "for tr in tbody_tr_list:\n",
    "    # Extract row's ./th\n",
    "    tr_th = tr.find_elements(By.XPATH, './th')\n",
    "    tr_th = [i.text for i in tr_th]\n",
    "    \n",
    "    # Extract row's ./td\n",
    "    tr_td_list = tr.find_elements(By.XPATH, './td')\n",
    "    \n",
    "    # Extract coco\n",
    "    tr_td_coco = tr_td_list[0]\n",
    "    tr_td_coco_class = tr_td_coco.find_element(By.XPATH, './i').get_attribute('class')\n",
    "    tr_td_coco = tr_td_coco_class.split('-')[-1]\n",
    "    \n",
    "    # Extract wind direction from element's class\n",
    "    tr_wdir = tr_td_list[6]\n",
    "    tr_wdir_class = tr_wdir.find_element(By.XPATH, './i').get_attribute('class')\n",
    "    tr_wdir = tr_wdir_class.split('-')[-2]\n",
    "    \n",
    "    # Assemble row's data\n",
    "    tr_td_list = tr_th + [td.text for td in tr_td_list]\n",
    "    tr_td_list[8] = tr_wdir\n",
    "    tr_td_list[2] = tr_td_coco\n",
    "    td.append(tr_td_list)"
   ],
   "id": "92712d8017e2604",
   "outputs": [],
   "execution_count": 21
  },
  {
   "metadata": {
    "ExecuteTime": {
     "end_time": "2024-06-05T08:26:02.169630Z",
     "start_time": "2024-06-05T08:26:02.166963Z"
    }
   },
   "cell_type": "code",
   "source": "meteostat_data += td",
   "id": "2573004a924f24ca",
   "outputs": [],
   "execution_count": 22
  },
  {
   "metadata": {
    "ExecuteTime": {
     "end_time": "2024-06-05T08:26:16.729220Z",
     "start_time": "2024-06-05T08:26:16.724752Z"
    }
   },
   "cell_type": "code",
   "source": "len(meteostat_data)",
   "id": "978481d9f0bec9f9",
   "outputs": [
    {
     "data": {
      "text/plain": [
       "864"
      ]
     },
     "execution_count": 23,
     "metadata": {},
     "output_type": "execute_result"
    }
   ],
   "execution_count": 23
  },
  {
   "metadata": {
    "ExecuteTime": {
     "end_time": "2024-06-05T08:26:34.939123Z",
     "start_time": "2024-06-05T08:26:32.654337Z"
    }
   },
   "cell_type": "code",
   "source": [
    "# Driver load the url\n",
    "driver.get(urls[3])\n",
    "\n",
    "# Click the table to get the table\n",
    "button_table_xpath = '//*[@id=\"app\"]/div/main/div/div/div/div[1]/div[1]/div[1]/button[2]'\n",
    "button_table = driver.find_element(By.XPATH, button_table_xpath)\n",
    "driver.execute_script(\"arguments[0].click();\", button_table)\n",
    "\n",
    "# Get table\n",
    "table_xpath = '//*[@id=\"details-modal\"]/div/div/div[2]/div[1]'\n",
    "table = driver.find_element(By.XPATH, table_xpath)\n",
    "\n",
    "# Get th\n",
    "thead_xpath = '//*[@id=\"details-modal\"]/div/div/div[2]/div[1]/table/thead'\n",
    "thead = table.find_element(By.XPATH, thead_xpath)\n",
    "\n",
    "thead_tr_xpath = '//*[@id=\"details-modal\"]/div/div/div[2]/div[1]/table/thead/tr'\n",
    "thead_tr = table.find_element(By.XPATH, thead_tr_xpath)\n",
    "thead_tr_th_xpath = '//*[@id=\"details-modal\"]/div/div/div[2]/div[1]/table/thead/tr/th'\n",
    "thead_tr_th_list = thead_tr.find_elements(By.XPATH, thead_tr_th_xpath)\n",
    "\n",
    "th_list = [th.text for th in thead_tr_th_list]\n",
    "\n",
    "# Get show more button\n",
    "button_showmore_xpath = '//*[@id=\"details-modal\"]/div/div/div[2]/div[2]/button'\n",
    "button_showmore = driver.find_element(By.XPATH, button_showmore_xpath)\n",
    "\n",
    "# Click until get all of available rows\n",
    "while True:\n",
    "    if not button_showmore.get_attribute('disabled'):\n",
    "        driver.execute_script(\"arguments[0].click();\", button_showmore)\n",
    "    else:\n",
    "        break\n",
    "        \n",
    "# Get data\n",
    "tbody_xpath = '//*[@id=\"details-modal\"]/div/div/div[2]/div[1]/table/tbody'\n",
    "tbody = driver.find_element(By.XPATH, tbody_xpath)\n",
    "tbody_tr_xpath = '//*[@id=\"details-modal\"]/div/div/div[2]/div[1]/table/tbody/tr'\n",
    "tbody_tr_list = tbody.find_elements(By.XPATH, tbody_tr_xpath)"
   ],
   "id": "784114d974da3c19",
   "outputs": [],
   "execution_count": 25
  },
  {
   "metadata": {
    "ExecuteTime": {
     "end_time": "2024-06-05T08:27:31.633135Z",
     "start_time": "2024-06-05T08:26:52.193922Z"
    }
   },
   "cell_type": "code",
   "source": [
    "td = list()\n",
    "for tr in tbody_tr_list:\n",
    "    # Extract row's ./th\n",
    "    tr_th = tr.find_elements(By.XPATH, './th')\n",
    "    tr_th = [i.text for i in tr_th]\n",
    "    \n",
    "    # Extract row's ./td\n",
    "    tr_td_list = tr.find_elements(By.XPATH, './td')\n",
    "    \n",
    "    # Extract coco\n",
    "    tr_td_coco = tr_td_list[0]\n",
    "    tr_td_coco_class = tr_td_coco.find_element(By.XPATH, './i').get_attribute('class')\n",
    "    tr_td_coco = tr_td_coco_class.split('-')[-1]\n",
    "    \n",
    "    # Extract wind direction from element's class\n",
    "    tr_wdir = tr_td_list[6]\n",
    "    tr_wdir_class = tr_wdir.find_element(By.XPATH, './i').get_attribute('class')\n",
    "    tr_wdir = tr_wdir_class.split('-')[-2]\n",
    "    \n",
    "    # Assemble row's data\n",
    "    tr_td_list = tr_th + [td.text for td in tr_td_list]\n",
    "    tr_td_list[8] = tr_wdir\n",
    "    tr_td_list[2] = tr_td_coco\n",
    "    td.append(tr_td_list)\n",
    "\n",
    "meteostat_data += td"
   ],
   "id": "e27a5b9598a2ff1a",
   "outputs": [],
   "execution_count": 26
  },
  {
   "metadata": {
    "ExecuteTime": {
     "end_time": "2024-06-05T08:27:48.975827Z",
     "start_time": "2024-06-05T08:27:48.972051Z"
    }
   },
   "cell_type": "code",
   "source": "len(meteostat_data)",
   "id": "e645a254e4b288fc",
   "outputs": [
    {
     "data": {
      "text/plain": [
       "1152"
      ]
     },
     "execution_count": 27,
     "metadata": {},
     "output_type": "execute_result"
    }
   ],
   "execution_count": 27
  },
  {
   "metadata": {
    "ExecuteTime": {
     "end_time": "2024-06-05T08:29:50.189347Z",
     "start_time": "2024-06-05T08:29:50.184632Z"
    }
   },
   "cell_type": "code",
   "source": "urls[4]",
   "id": "b5c43235b7003ed",
   "outputs": [
    {
     "data": {
      "text/plain": [
       "'https://meteostat.net/en/place/vn/thu-uc?s=48900&t=2024-03-28/2024-04-08'"
      ]
     },
     "execution_count": 35,
     "metadata": {},
     "output_type": "execute_result"
    }
   ],
   "execution_count": 35
  },
  {
   "metadata": {
    "ExecuteTime": {
     "end_time": "2024-06-05T08:30:59.238203Z",
     "start_time": "2024-06-05T08:30:57.393775Z"
    }
   },
   "cell_type": "code",
   "source": [
    "# Driver load the url\n",
    "driver.get(urls[4])\n",
    "\n",
    "# Click the table to get the table\n",
    "button_table_xpath = '//*[@id=\"app\"]/div/main/div/div/div/div[1]/div[1]/div[1]/button[2]'\n",
    "button_table = driver.find_element(By.XPATH, button_table_xpath)\n",
    "driver.execute_script(\"arguments[0].click();\", button_table)\n",
    "\n",
    "# Get table\n",
    "table_xpath = '//*[@id=\"details-modal\"]/div/div/div[2]/div[1]'\n",
    "table = driver.find_element(By.XPATH, table_xpath)\n",
    "\n",
    "# Get th\n",
    "thead_xpath = '//*[@id=\"details-modal\"]/div/div/div[2]/div[1]/table/thead'\n",
    "thead = table.find_element(By.XPATH, thead_xpath)\n",
    "\n",
    "thead_tr_xpath = '//*[@id=\"details-modal\"]/div/div/div[2]/div[1]/table/thead/tr'\n",
    "thead_tr = table.find_element(By.XPATH, thead_tr_xpath)\n",
    "thead_tr_th_xpath = '//*[@id=\"details-modal\"]/div/div/div[2]/div[1]/table/thead/tr/th'\n",
    "thead_tr_th_list = thead_tr.find_elements(By.XPATH, thead_tr_th_xpath)\n",
    "\n",
    "th_list = [th.text for th in thead_tr_th_list]\n",
    "\n",
    "# Get show more button\n",
    "button_showmore_xpath = '//*[@id=\"details-modal\"]/div/div/div[2]/div[2]/button'\n",
    "button_showmore = driver.find_element(By.XPATH, button_showmore_xpath)\n",
    "\n",
    "# Click until get all of available rows\n",
    "while True:\n",
    "    if not button_showmore.get_attribute('disabled'):\n",
    "        driver.execute_script(\"arguments[0].click();\", button_showmore)\n",
    "    else:\n",
    "        break\n",
    "        \n",
    "# Get data\n",
    "tbody_xpath = '//*[@id=\"details-modal\"]/div/div/div[2]/div[1]/table/tbody'\n",
    "tbody = driver.find_element(By.XPATH, tbody_xpath)\n",
    "tbody_tr_xpath = '//*[@id=\"details-modal\"]/div/div/div[2]/div[1]/table/tbody/tr'\n",
    "tbody_tr_list = tbody.find_elements(By.XPATH, tbody_tr_xpath)"
   ],
   "id": "13c386a4b8684d6c",
   "outputs": [],
   "execution_count": 36
  },
  {
   "metadata": {
    "ExecuteTime": {
     "end_time": "2024-06-05T08:31:41.039341Z",
     "start_time": "2024-06-05T08:31:12.478325Z"
    }
   },
   "cell_type": "code",
   "source": [
    "td = list()\n",
    "for tr in tbody_tr_list:\n",
    "    # Extract row's ./th\n",
    "    tr_th = tr.find_elements(By.XPATH, './th')\n",
    "    tr_th = [i.text for i in tr_th]\n",
    "    \n",
    "    # Extract row's ./td\n",
    "    tr_td_list = tr.find_elements(By.XPATH, './td')\n",
    "    \n",
    "    # Extract coco\n",
    "    tr_td_coco = tr_td_list[0]\n",
    "    tr_td_coco_class = tr_td_coco.find_element(By.XPATH, './i').get_attribute('class')\n",
    "    tr_td_coco = tr_td_coco_class.split('-')[-1]\n",
    "    \n",
    "    # Extract wind direction from element's class\n",
    "    tr_wdir = tr_td_list[6]\n",
    "    tr_wdir_class = tr_wdir.find_element(By.XPATH, './i').get_attribute('class')\n",
    "    tr_wdir = tr_wdir_class.split('-')[-2]\n",
    "    \n",
    "    # Assemble row's data\n",
    "    tr_td_list = tr_th + [td.text for td in tr_td_list]\n",
    "    tr_td_list[8] = tr_wdir\n",
    "    tr_td_list[2] = tr_td_coco\n",
    "    td.append(tr_td_list)\n",
    "\n",
    "meteostat_data += td"
   ],
   "id": "e7d82ffc14fe14d4",
   "outputs": [],
   "execution_count": 37
  },
  {
   "metadata": {
    "ExecuteTime": {
     "end_time": "2024-06-05T08:31:45.619070Z",
     "start_time": "2024-06-05T08:31:45.613664Z"
    }
   },
   "cell_type": "code",
   "source": "len(meteostat_data)",
   "id": "58bffb8bae2f55a8",
   "outputs": [
    {
     "data": {
      "text/plain": [
       "1440"
      ]
     },
     "execution_count": 38,
     "metadata": {},
     "output_type": "execute_result"
    }
   ],
   "execution_count": 38
  },
  {
   "metadata": {
    "ExecuteTime": {
     "end_time": "2024-06-05T08:40:12.966445Z",
     "start_time": "2024-06-05T08:40:12.221532Z"
    }
   },
   "cell_type": "code",
   "source": [
    "# Driver load the url\n",
    "driver.get(urls[0])\n",
    "\n",
    "# Click the table to get the table\n",
    "button_table_xpath = '//*[@id=\"app\"]/div/main/div/div/div/div[1]/div[1]/div[1]/button[2]'\n",
    "button_table = driver.find_element(By.XPATH, button_table_xpath)\n",
    "driver.execute_script(\"arguments[0].click();\", button_table)"
   ],
   "id": "bfa11e1df04cdfcd",
   "outputs": [],
   "execution_count": 49
  },
  {
   "metadata": {
    "ExecuteTime": {
     "end_time": "2024-06-05T08:40:29.471891Z",
     "start_time": "2024-06-05T08:40:29.443649Z"
    }
   },
   "cell_type": "code",
   "source": [
    "# Get table\n",
    "table_xpath = '//*[@id=\"details-modal\"]/div/div/div[2]/div[1]'\n",
    "table = driver.find_element(By.XPATH, table_xpath)\n",
    "\n",
    "# Get th\n",
    "thead_xpath = '//*[@id=\"details-modal\"]/div/div/div[2]/div[1]/table/thead'\n",
    "thead = table.find_element(By.XPATH, thead_xpath)\n",
    "\n",
    "thead_tr_xpath = '//*[@id=\"details-modal\"]/div/div/div[2]/div[1]/table/thead/tr'\n",
    "thead_tr = table.find_element(By.XPATH, thead_tr_xpath)\n",
    "thead_tr_th_xpath = '//*[@id=\"details-modal\"]/div/div/div[2]/div[1]/table/thead/tr/th'\n",
    "thead_tr_th_list = thead_tr.find_elements(By.XPATH, thead_tr_th_xpath)"
   ],
   "id": "b8f60979829cee63",
   "outputs": [],
   "execution_count": 50
  },
  {
   "metadata": {
    "ExecuteTime": {
     "end_time": "2024-06-05T08:41:11.196300Z",
     "start_time": "2024-06-05T08:41:11.110975Z"
    }
   },
   "cell_type": "code",
   "source": "meteostat_head = [i.text for i in thead_tr_th_list]",
   "id": "b5d2c9a51d0b0b65",
   "outputs": [],
   "execution_count": 53
  },
  {
   "metadata": {
    "ExecuteTime": {
     "end_time": "2024-06-05T08:41:18.529447Z",
     "start_time": "2024-06-05T08:41:18.525135Z"
    }
   },
   "cell_type": "code",
   "source": "meteostat_head",
   "id": "4df5a84572d27bef",
   "outputs": [
    {
     "data": {
      "text/plain": [
       "['Date',\n",
       " 'H',\n",
       " 'COCO',\n",
       " 'TEMP',\n",
       " 'DWPT',\n",
       " 'TSUN',\n",
       " 'PRCP',\n",
       " 'SNOW',\n",
       " 'WDIR',\n",
       " 'WSPD',\n",
       " 'WPGT',\n",
       " 'PRES',\n",
       " 'RHUM']"
      ]
     },
     "execution_count": 54,
     "metadata": {},
     "output_type": "execute_result"
    }
   ],
   "execution_count": 54
  },
  {
   "metadata": {
    "ExecuteTime": {
     "end_time": "2024-06-05T08:41:22.068022Z",
     "start_time": "2024-06-05T08:41:22.063834Z"
    }
   },
   "cell_type": "code",
   "source": "meteostat_df = pd.DataFrame(meteostat_data, columns=meteostat_head)",
   "id": "82bffe2899e50f23",
   "outputs": [],
   "execution_count": 55
  },
  {
   "metadata": {
    "ExecuteTime": {
     "end_time": "2024-06-05T08:41:23.595205Z",
     "start_time": "2024-06-05T08:41:23.587783Z"
    }
   },
   "cell_type": "code",
   "source": "meteostat_df",
   "id": "6186de55b8767704",
   "outputs": [
    {
     "data": {
      "text/plain": [
       "            Date   H    COCO   TEMP     DWPT TSUN  PRCP SNOW WDIR       WSPD  \\\n",
       "0     2024-05-15  00  cloudy  31 °C    26 °C    —  0 mm    —  150     9 km/h   \n",
       "1     2024-05-15  01  cloudy  30 °C    26 °C    —  0 mm    —  150     7 km/h   \n",
       "2     2024-05-15  02  cloudy  30 °C    27 °C    —  0 mm    —  140    13 km/h   \n",
       "3     2024-05-15  03  cloudy  30 °C    27 °C    —  0 mm    —  130     9 km/h   \n",
       "4     2024-05-15  04  cloudy  30 °C    27 °C    —  0 mm    —  120     4 km/h   \n",
       "...          ...  ..     ...    ...      ...  ...   ...  ...  ...        ...   \n",
       "1435  2024-04-08  19  cloudy  30 °C  23.9 °C    —  0 mm    —  160    13 km/h   \n",
       "1436  2024-04-08  20  cloudy  30 °C  23.9 °C    —  0 mm    —  140  16.6 km/h   \n",
       "1437  2024-04-08  21  cloudy  30 °C  25.1 °C    —  0 mm    —  150  14.8 km/h   \n",
       "1438  2024-04-08  22   sunny  29 °C    26 °C    —  0 mm    —  140  16.6 km/h   \n",
       "1439  2024-04-08  23  cloudy  29 °C    26 °C    —  0 mm    —  140  16.6 km/h   \n",
       "\n",
       "     WPGT      PRES  RHUM  \n",
       "0       —  1009 hPa  75 %  \n",
       "1       —  1008 hPa  79 %  \n",
       "2       —  1008 hPa  84 %  \n",
       "3       —  1008 hPa  84 %  \n",
       "4       —  1009 hPa  84 %  \n",
       "...   ...       ...   ...  \n",
       "1435    —  1009 hPa  70 %  \n",
       "1436    —  1009 hPa  70 %  \n",
       "1437    —  1009 hPa  75 %  \n",
       "1438    —  1010 hPa  84 %  \n",
       "1439    —  1010 hPa  84 %  \n",
       "\n",
       "[1440 rows x 13 columns]"
      ],
      "text/html": [
       "<div>\n",
       "<style scoped>\n",
       "    .dataframe tbody tr th:only-of-type {\n",
       "        vertical-align: middle;\n",
       "    }\n",
       "\n",
       "    .dataframe tbody tr th {\n",
       "        vertical-align: top;\n",
       "    }\n",
       "\n",
       "    .dataframe thead th {\n",
       "        text-align: right;\n",
       "    }\n",
       "</style>\n",
       "<table border=\"1\" class=\"dataframe\">\n",
       "  <thead>\n",
       "    <tr style=\"text-align: right;\">\n",
       "      <th></th>\n",
       "      <th>Date</th>\n",
       "      <th>H</th>\n",
       "      <th>COCO</th>\n",
       "      <th>TEMP</th>\n",
       "      <th>DWPT</th>\n",
       "      <th>TSUN</th>\n",
       "      <th>PRCP</th>\n",
       "      <th>SNOW</th>\n",
       "      <th>WDIR</th>\n",
       "      <th>WSPD</th>\n",
       "      <th>WPGT</th>\n",
       "      <th>PRES</th>\n",
       "      <th>RHUM</th>\n",
       "    </tr>\n",
       "  </thead>\n",
       "  <tbody>\n",
       "    <tr>\n",
       "      <th>0</th>\n",
       "      <td>2024-05-15</td>\n",
       "      <td>00</td>\n",
       "      <td>cloudy</td>\n",
       "      <td>31 °C</td>\n",
       "      <td>26 °C</td>\n",
       "      <td>—</td>\n",
       "      <td>0 mm</td>\n",
       "      <td>—</td>\n",
       "      <td>150</td>\n",
       "      <td>9 km/h</td>\n",
       "      <td>—</td>\n",
       "      <td>1009 hPa</td>\n",
       "      <td>75 %</td>\n",
       "    </tr>\n",
       "    <tr>\n",
       "      <th>1</th>\n",
       "      <td>2024-05-15</td>\n",
       "      <td>01</td>\n",
       "      <td>cloudy</td>\n",
       "      <td>30 °C</td>\n",
       "      <td>26 °C</td>\n",
       "      <td>—</td>\n",
       "      <td>0 mm</td>\n",
       "      <td>—</td>\n",
       "      <td>150</td>\n",
       "      <td>7 km/h</td>\n",
       "      <td>—</td>\n",
       "      <td>1008 hPa</td>\n",
       "      <td>79 %</td>\n",
       "    </tr>\n",
       "    <tr>\n",
       "      <th>2</th>\n",
       "      <td>2024-05-15</td>\n",
       "      <td>02</td>\n",
       "      <td>cloudy</td>\n",
       "      <td>30 °C</td>\n",
       "      <td>27 °C</td>\n",
       "      <td>—</td>\n",
       "      <td>0 mm</td>\n",
       "      <td>—</td>\n",
       "      <td>140</td>\n",
       "      <td>13 km/h</td>\n",
       "      <td>—</td>\n",
       "      <td>1008 hPa</td>\n",
       "      <td>84 %</td>\n",
       "    </tr>\n",
       "    <tr>\n",
       "      <th>3</th>\n",
       "      <td>2024-05-15</td>\n",
       "      <td>03</td>\n",
       "      <td>cloudy</td>\n",
       "      <td>30 °C</td>\n",
       "      <td>27 °C</td>\n",
       "      <td>—</td>\n",
       "      <td>0 mm</td>\n",
       "      <td>—</td>\n",
       "      <td>130</td>\n",
       "      <td>9 km/h</td>\n",
       "      <td>—</td>\n",
       "      <td>1008 hPa</td>\n",
       "      <td>84 %</td>\n",
       "    </tr>\n",
       "    <tr>\n",
       "      <th>4</th>\n",
       "      <td>2024-05-15</td>\n",
       "      <td>04</td>\n",
       "      <td>cloudy</td>\n",
       "      <td>30 °C</td>\n",
       "      <td>27 °C</td>\n",
       "      <td>—</td>\n",
       "      <td>0 mm</td>\n",
       "      <td>—</td>\n",
       "      <td>120</td>\n",
       "      <td>4 km/h</td>\n",
       "      <td>—</td>\n",
       "      <td>1009 hPa</td>\n",
       "      <td>84 %</td>\n",
       "    </tr>\n",
       "    <tr>\n",
       "      <th>...</th>\n",
       "      <td>...</td>\n",
       "      <td>...</td>\n",
       "      <td>...</td>\n",
       "      <td>...</td>\n",
       "      <td>...</td>\n",
       "      <td>...</td>\n",
       "      <td>...</td>\n",
       "      <td>...</td>\n",
       "      <td>...</td>\n",
       "      <td>...</td>\n",
       "      <td>...</td>\n",
       "      <td>...</td>\n",
       "      <td>...</td>\n",
       "    </tr>\n",
       "    <tr>\n",
       "      <th>1435</th>\n",
       "      <td>2024-04-08</td>\n",
       "      <td>19</td>\n",
       "      <td>cloudy</td>\n",
       "      <td>30 °C</td>\n",
       "      <td>23.9 °C</td>\n",
       "      <td>—</td>\n",
       "      <td>0 mm</td>\n",
       "      <td>—</td>\n",
       "      <td>160</td>\n",
       "      <td>13 km/h</td>\n",
       "      <td>—</td>\n",
       "      <td>1009 hPa</td>\n",
       "      <td>70 %</td>\n",
       "    </tr>\n",
       "    <tr>\n",
       "      <th>1436</th>\n",
       "      <td>2024-04-08</td>\n",
       "      <td>20</td>\n",
       "      <td>cloudy</td>\n",
       "      <td>30 °C</td>\n",
       "      <td>23.9 °C</td>\n",
       "      <td>—</td>\n",
       "      <td>0 mm</td>\n",
       "      <td>—</td>\n",
       "      <td>140</td>\n",
       "      <td>16.6 km/h</td>\n",
       "      <td>—</td>\n",
       "      <td>1009 hPa</td>\n",
       "      <td>70 %</td>\n",
       "    </tr>\n",
       "    <tr>\n",
       "      <th>1437</th>\n",
       "      <td>2024-04-08</td>\n",
       "      <td>21</td>\n",
       "      <td>cloudy</td>\n",
       "      <td>30 °C</td>\n",
       "      <td>25.1 °C</td>\n",
       "      <td>—</td>\n",
       "      <td>0 mm</td>\n",
       "      <td>—</td>\n",
       "      <td>150</td>\n",
       "      <td>14.8 km/h</td>\n",
       "      <td>—</td>\n",
       "      <td>1009 hPa</td>\n",
       "      <td>75 %</td>\n",
       "    </tr>\n",
       "    <tr>\n",
       "      <th>1438</th>\n",
       "      <td>2024-04-08</td>\n",
       "      <td>22</td>\n",
       "      <td>sunny</td>\n",
       "      <td>29 °C</td>\n",
       "      <td>26 °C</td>\n",
       "      <td>—</td>\n",
       "      <td>0 mm</td>\n",
       "      <td>—</td>\n",
       "      <td>140</td>\n",
       "      <td>16.6 km/h</td>\n",
       "      <td>—</td>\n",
       "      <td>1010 hPa</td>\n",
       "      <td>84 %</td>\n",
       "    </tr>\n",
       "    <tr>\n",
       "      <th>1439</th>\n",
       "      <td>2024-04-08</td>\n",
       "      <td>23</td>\n",
       "      <td>cloudy</td>\n",
       "      <td>29 °C</td>\n",
       "      <td>26 °C</td>\n",
       "      <td>—</td>\n",
       "      <td>0 mm</td>\n",
       "      <td>—</td>\n",
       "      <td>140</td>\n",
       "      <td>16.6 km/h</td>\n",
       "      <td>—</td>\n",
       "      <td>1010 hPa</td>\n",
       "      <td>84 %</td>\n",
       "    </tr>\n",
       "  </tbody>\n",
       "</table>\n",
       "<p>1440 rows × 13 columns</p>\n",
       "</div>"
      ]
     },
     "execution_count": 56,
     "metadata": {},
     "output_type": "execute_result"
    }
   ],
   "execution_count": 56
  },
  {
   "metadata": {
    "ExecuteTime": {
     "end_time": "2024-06-05T08:41:32.159722Z",
     "start_time": "2024-06-05T08:41:32.153872Z"
    }
   },
   "cell_type": "code",
   "source": "meteostat_df.to_csv('meteostat.csv', index=False)",
   "id": "17141bed967ea7fc",
   "outputs": [],
   "execution_count": 57
  },
  {
   "metadata": {},
   "cell_type": "code",
   "outputs": [],
   "execution_count": null,
   "source": "",
   "id": "31eba3308bd0d90e"
  }
 ],
 "metadata": {
  "kernelspec": {
   "display_name": "Python 3",
   "language": "python",
   "name": "python3"
  },
  "language_info": {
   "codemirror_mode": {
    "name": "ipython",
    "version": 2
   },
   "file_extension": ".py",
   "mimetype": "text/x-python",
   "name": "python",
   "nbconvert_exporter": "python",
   "pygments_lexer": "ipython2",
   "version": "2.7.6"
  }
 },
 "nbformat": 4,
 "nbformat_minor": 5
}
