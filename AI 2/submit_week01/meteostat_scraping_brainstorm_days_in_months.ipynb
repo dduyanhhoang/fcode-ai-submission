{
 "cells": [
  {
   "metadata": {},
   "cell_type": "markdown",
   "source": [
    "# TODO list\n",
    "- [x] Resolve the `WDIR` column\n",
    "- [x] Scrape \"Show more\" data"
   ],
   "id": "aaa13a5efaa931f8"
  },
  {
   "cell_type": "code",
   "id": "initial_id",
   "metadata": {
    "collapsed": true,
    "ExecuteTime": {
     "end_time": "2024-06-04T03:56:57.568271Z",
     "start_time": "2024-06-04T03:56:57.565540Z"
    }
   },
   "source": "print(\"Hello, Jupyter\")",
   "outputs": [
    {
     "name": "stdout",
     "output_type": "stream",
     "text": [
      "Hello, Jupyter\n"
     ]
    }
   ],
   "execution_count": 1
  },
  {
   "metadata": {
    "ExecuteTime": {
     "end_time": "2024-06-04T03:56:58.912594Z",
     "start_time": "2024-06-04T03:56:58.850381Z"
    }
   },
   "cell_type": "code",
   "source": [
    "from selenium import webdriver\n",
    "from selenium.webdriver.chrome.options import Options\n",
    "from selenium.webdriver.chrome.service import Service\n",
    "from selenium.webdriver.common.by import By\n",
    "from webdriver_manager.chrome import ChromeDriverManager"
   ],
   "id": "e798abda3160e6a3",
   "outputs": [],
   "execution_count": 2
  },
  {
   "metadata": {
    "ExecuteTime": {
     "end_time": "2024-06-04T03:57:02.489974Z",
     "start_time": "2024-06-04T03:57:00.602186Z"
    }
   },
   "cell_type": "code",
   "source": [
    "options = Options()\n",
    "options.add_argument('--headless')\n",
    "options.add_argument('--no-sandbox')\n",
    "options.add_argument('--disable-dev-shm-usage')\n",
    "driver = webdriver.Chrome(service=Service(ChromeDriverManager().install()), options=options)"
   ],
   "id": "8727b9682eaba90a",
   "outputs": [],
   "execution_count": 3
  },
  {
   "metadata": {
    "ExecuteTime": {
     "end_time": "2024-06-04T03:57:03.266631Z",
     "start_time": "2024-06-04T03:57:03.263189Z"
    }
   },
   "cell_type": "code",
   "source": "url = 'https://meteostat.net/en/place/vn/thu-uc?s=48900&t=2024-01-01/2024-05-26'",
   "id": "9e1803081885d3f9",
   "outputs": [],
   "execution_count": 4
  },
  {
   "metadata": {
    "ExecuteTime": {
     "end_time": "2024-06-04T03:57:05.968259Z",
     "start_time": "2024-06-04T03:57:03.956706Z"
    }
   },
   "cell_type": "code",
   "source": "driver.get(url)",
   "id": "c1bca9ebfd327666",
   "outputs": [],
   "execution_count": 5
  },
  {
   "metadata": {
    "ExecuteTime": {
     "end_time": "2024-06-04T03:57:06.719210Z",
     "start_time": "2024-06-04T03:57:06.716254Z"
    }
   },
   "cell_type": "code",
   "source": "button_accept_xpath = '//*[@id=\"cookieModal\"]/div/div/div[3]/button[2]'",
   "id": "68124b82654d231c",
   "outputs": [],
   "execution_count": 6
  },
  {
   "metadata": {
    "ExecuteTime": {
     "end_time": "2024-06-04T03:57:08.845575Z",
     "start_time": "2024-06-04T03:57:08.843272Z"
    }
   },
   "cell_type": "code",
   "source": "button_table_xpath = '//*[@id=\"app\"]/div/main/div/div/div/div[1]/div[1]/div[1]/button[2]'",
   "id": "fdbfe4a933475114",
   "outputs": [],
   "execution_count": 7
  },
  {
   "metadata": {
    "ExecuteTime": {
     "end_time": "2024-06-04T03:57:17.243490Z",
     "start_time": "2024-06-04T03:57:17.230923Z"
    }
   },
   "cell_type": "code",
   "source": "button_table = driver.find_element(By.XPATH, button_table_xpath)",
   "id": "3b4c6a06f00ccc17",
   "outputs": [],
   "execution_count": 8
  },
  {
   "metadata": {
    "ExecuteTime": {
     "end_time": "2024-06-04T03:57:19.020408Z",
     "start_time": "2024-06-04T03:57:19.016684Z"
    }
   },
   "cell_type": "code",
   "source": "button_table",
   "id": "c949b85f45fa75d7",
   "outputs": [
    {
     "data": {
      "text/plain": [
       "<selenium.webdriver.remote.webelement.WebElement (session=\"552e751b76a886df9d06ddae913706ae\", element=\"f.5E73F747A91EB1B28A61DE86A3AA67D9.d.005182A78264C37DFBEA5D20604C4FC7.e.41\")>"
      ]
     },
     "execution_count": 9,
     "metadata": {},
     "output_type": "execute_result"
    }
   ],
   "execution_count": 9
  },
  {
   "metadata": {
    "ExecuteTime": {
     "end_time": "2024-06-04T03:57:20.512974Z",
     "start_time": "2024-06-04T03:57:20.494791Z"
    }
   },
   "cell_type": "code",
   "source": "driver.execute_script(\"arguments[0].click();\", button_table)",
   "id": "eb4f455d8b539b1f",
   "outputs": [],
   "execution_count": 10
  },
  {
   "metadata": {
    "ExecuteTime": {
     "end_time": "2024-06-04T03:57:26.580278Z",
     "start_time": "2024-06-04T03:57:26.577283Z"
    }
   },
   "cell_type": "code",
   "source": "table_xpath = '//*[@id=\"details-modal\"]/div/div/div[2]/div[1]'",
   "id": "a9580efedbd0de33",
   "outputs": [],
   "execution_count": 11
  },
  {
   "metadata": {
    "ExecuteTime": {
     "end_time": "2024-06-04T03:57:27.370003Z",
     "start_time": "2024-06-04T03:57:27.358795Z"
    }
   },
   "cell_type": "code",
   "source": "table = driver.find_element(By.XPATH, table_xpath)",
   "id": "41ee95fb0b53788a",
   "outputs": [],
   "execution_count": 12
  },
  {
   "metadata": {
    "ExecuteTime": {
     "end_time": "2024-06-04T03:57:28.266535Z",
     "start_time": "2024-06-04T03:57:28.263658Z"
    }
   },
   "cell_type": "code",
   "source": "table",
   "id": "686ad7dd3e89d5f1",
   "outputs": [
    {
     "data": {
      "text/plain": [
       "<selenium.webdriver.remote.webelement.WebElement (session=\"552e751b76a886df9d06ddae913706ae\", element=\"f.5E73F747A91EB1B28A61DE86A3AA67D9.d.005182A78264C37DFBEA5D20604C4FC7.e.44\")>"
      ]
     },
     "execution_count": 13,
     "metadata": {},
     "output_type": "execute_result"
    }
   ],
   "execution_count": 13
  },
  {
   "metadata": {
    "ExecuteTime": {
     "end_time": "2024-06-04T03:57:29.136618Z",
     "start_time": "2024-06-04T03:57:29.111969Z"
    }
   },
   "cell_type": "code",
   "source": [
    "thead_xpath = '//*[@id=\"details-modal\"]/div/div/div[2]/div[1]/table/thead'\n",
    "thead = table.find_element(By.XPATH, thead_xpath)\n",
    "thead.text"
   ],
   "id": "8275149e2a01bb8d",
   "outputs": [
    {
     "data": {
      "text/plain": [
       "'DATE TMIN TAVG TMAX PRCP SNOW WDIR WSPD WPGT PRES TSUN'"
      ]
     },
     "execution_count": 14,
     "metadata": {},
     "output_type": "execute_result"
    }
   ],
   "execution_count": 14
  },
  {
   "metadata": {
    "ExecuteTime": {
     "end_time": "2024-06-04T03:57:29.776040Z",
     "start_time": "2024-06-04T03:57:29.660772Z"
    }
   },
   "cell_type": "code",
   "source": [
    "thead_tr_xpath = '//*[@id=\"details-modal\"]/div/div/div[2]/div[1]/table/thead/tr'\n",
    "thead_tr = table.find_element(By.XPATH, thead_tr_xpath)\n",
    "thead_tr_th_xpath = '//*[@id=\"details-modal\"]/div/div/div[2]/div[1]/table/thead/tr/th'\n",
    "thead_tr_th_list = thead_tr.find_elements(By.XPATH, thead_tr_th_xpath)\n",
    "\n",
    "th_list = [th.text for th in thead_tr_th_list]"
   ],
   "id": "1bd1bea635c6cfcd",
   "outputs": [],
   "execution_count": 15
  },
  {
   "metadata": {
    "ExecuteTime": {
     "end_time": "2024-06-04T03:57:30.295911Z",
     "start_time": "2024-06-04T03:57:30.293557Z"
    }
   },
   "cell_type": "code",
   "source": "print(th_list)",
   "id": "924e9d0c28c8412",
   "outputs": [
    {
     "name": "stdout",
     "output_type": "stream",
     "text": [
      "['DATE', 'TMIN', 'TAVG', 'TMAX', 'PRCP', 'SNOW', 'WDIR', 'WSPD', 'WPGT', 'PRES', 'TSUN']\n"
     ]
    }
   ],
   "execution_count": 16
  },
  {
   "metadata": {
    "ExecuteTime": {
     "end_time": "2024-06-04T03:57:30.965008Z",
     "start_time": "2024-06-04T03:57:30.938143Z"
    }
   },
   "cell_type": "code",
   "source": [
    "tbody_xpath = '//*[@id=\"details-modal\"]/div/div/div[2]/div[1]/table/tbody'\n",
    "tbody = driver.find_element(By.XPATH, tbody_xpath)\n",
    "tbody_tr_xpath = '//*[@id=\"details-modal\"]/div/div/div[2]/div[1]/table/tbody/tr'\n",
    "tbody_tr_list = tbody.find_elements(By.XPATH, tbody_tr_xpath)\n",
    "\n",
    "len(tbody_tr_list)"
   ],
   "id": "8e17dee2e1ff5470",
   "outputs": [
    {
     "data": {
      "text/plain": [
       "10"
      ]
     },
     "execution_count": 17,
     "metadata": {},
     "output_type": "execute_result"
    }
   ],
   "execution_count": 17
  },
  {
   "metadata": {
    "ExecuteTime": {
     "end_time": "2024-06-04T03:57:31.775116Z",
     "start_time": "2024-06-04T03:57:31.689494Z"
    }
   },
   "cell_type": "code",
   "source": [
    "for tr in tbody_tr_list:\n",
    "    print(tr.text)"
   ],
   "id": "fe984357f0167978",
   "outputs": [
    {
     "name": "stdout",
     "output_type": "stream",
     "text": [
      "2024-01-01 25 °C 28.2 °C 32 °C 0 mm — 6.2 km/h — 1011.3 hPa —\n",
      "2024-01-02 25 °C 28.6 °C 34 °C 0 mm — 6.3 km/h — 1010.9 hPa —\n",
      "2024-01-03 26 °C 28.6 °C 33 °C 0 mm — 7.1 km/h — 1010.8 hPa —\n",
      "2024-01-04 25 °C 28.2 °C 32 °C 0 mm — 6.8 km/h — 1011.4 hPa —\n",
      "2024-01-05 24 °C 27.7 °C 31 °C 0 mm — 5.1 km/h — 1012.1 hPa —\n",
      "2024-01-06 25 °C 28.7 °C 33 °C 0.3 mm — 6.1 km/h — 1011.7 hPa —\n",
      "2024-01-07 25 °C 28.8 °C 34 °C 0 mm — 6.9 km/h — 1012.3 hPa —\n",
      "2024-01-08 26 °C 28.6 °C 32 °C 0 mm — 5 km/h — 1012 hPa —\n",
      "2024-01-09 26 °C 28.8 °C 34 °C 0 mm — 7.3 km/h — 1011.3 hPa —\n",
      "2024-01-10 26 °C 29.3 °C 34 °C 0 mm — 9 km/h — 1010.5 hPa —\n"
     ]
    }
   ],
   "execution_count": 18
  },
  {
   "metadata": {
    "ExecuteTime": {
     "end_time": "2024-06-04T03:57:32.642503Z",
     "start_time": "2024-06-04T03:57:32.520935Z"
    }
   },
   "cell_type": "code",
   "source": [
    "tr0 = tbody_tr_list[0]\n",
    "tr0_col_list = tr0.find_elements(By.XPATH, './td')\n",
    "tr0_wdir = tr0_col_list[5]\n",
    "tr0_col_list = [col.text for col in tr0_col_list]\n",
    "\n",
    "print(tr0_col_list)"
   ],
   "id": "ac9d7fbb3535d89b",
   "outputs": [
    {
     "name": "stdout",
     "output_type": "stream",
     "text": [
      "['25 °C', '28.2 °C', '32 °C', '0 mm', '—', '', '6.2 km/h', '—', '1011.3 hPa', '—']\n"
     ]
    }
   ],
   "execution_count": 19
  },
  {
   "metadata": {
    "ExecuteTime": {
     "end_time": "2024-06-04T03:57:33.180801Z",
     "start_time": "2024-06-04T03:57:33.151947Z"
    }
   },
   "cell_type": "code",
   "source": "tr0_wdir_class = tr0_wdir.find_element(By.XPATH, './i').get_attribute('class')",
   "id": "adc10664262141c9",
   "outputs": [],
   "execution_count": 20
  },
  {
   "metadata": {
    "ExecuteTime": {
     "end_time": "2024-06-04T03:57:33.856843Z",
     "start_time": "2024-06-04T03:57:33.853963Z"
    }
   },
   "cell_type": "code",
   "source": "tr0_wdir_class.split('-')[-2]",
   "id": "8f0f389aec931d56",
   "outputs": [
    {
     "data": {
      "text/plain": [
       "'293'"
      ]
     },
     "execution_count": 21,
     "metadata": {},
     "output_type": "execute_result"
    }
   ],
   "execution_count": 21
  },
  {
   "metadata": {
    "ExecuteTime": {
     "end_time": "2024-06-04T03:57:34.541316Z",
     "start_time": "2024-06-04T03:57:34.451377Z"
    }
   },
   "cell_type": "code",
   "source": [
    "tr1 = tbody_tr_list[1]\n",
    "tr1_col_list = tr1.find_elements(By.XPATH, './td')\n",
    "tr1_col_list = [col.text for col in tr1_col_list]\n",
    "\n",
    "print(tr1_col_list)"
   ],
   "id": "7e0413b3088104f9",
   "outputs": [
    {
     "name": "stdout",
     "output_type": "stream",
     "text": [
      "['25 °C', '28.6 °C', '34 °C', '0 mm', '—', '', '6.3 km/h', '—', '1010.9 hPa', '—']\n"
     ]
    }
   ],
   "execution_count": 22
  },
  {
   "metadata": {
    "ExecuteTime": {
     "end_time": "2024-06-04T03:57:36.248193Z",
     "start_time": "2024-06-04T03:57:35.418017Z"
    }
   },
   "cell_type": "code",
   "source": [
    "td = list()\n",
    "for tr in tbody_tr_list:\n",
    "    # Extract row's ./th\n",
    "    tr_th = tr.find_element(By.XPATH, './th').text\n",
    "    \n",
    "    # Extract row's ./td\n",
    "    tr_td_list = tr.find_elements(By.XPATH, './td')\n",
    "    \n",
    "    # Extract wind direction from element's class\n",
    "    tr_wdir = tr_td_list[5]\n",
    "    tr_wdir_class = tr_wdir.find_element(By.XPATH, './i').get_attribute('class')\n",
    "    tr_wdir = tr_wdir_class.split('-')[-2]\n",
    "    \n",
    "    # Assemble row's data\n",
    "    tr_td_list = [tr_th] + [td.text for td in tr_td_list]\n",
    "    tr_td_list[6] = tr_wdir\n",
    "    td.append(tr_td_list)"
   ],
   "id": "b38bebfb2aa553a",
   "outputs": [],
   "execution_count": 23
  },
  {
   "metadata": {
    "ExecuteTime": {
     "end_time": "2024-06-04T03:57:36.358510Z",
     "start_time": "2024-06-04T03:57:36.355788Z"
    }
   },
   "cell_type": "code",
   "source": [
    "for i in td:\n",
    "    print(i)"
   ],
   "id": "e9597f918e3ac65c",
   "outputs": [
    {
     "name": "stdout",
     "output_type": "stream",
     "text": [
      "['2024-01-01', '25 °C', '28.2 °C', '32 °C', '0 mm', '—', '293', '6.2 km/h', '—', '1011.3 hPa', '—']\n",
      "['2024-01-02', '25 °C', '28.6 °C', '34 °C', '0 mm', '—', '304', '6.3 km/h', '—', '1010.9 hPa', '—']\n",
      "['2024-01-03', '26 °C', '28.6 °C', '33 °C', '0 mm', '—', '304', '7.1 km/h', '—', '1010.8 hPa', '—']\n",
      "['2024-01-04', '25 °C', '28.2 °C', '32 °C', '0 mm', '—', '340', '6.8 km/h', '—', '1011.4 hPa', '—']\n",
      "['2024-01-05', '24 °C', '27.7 °C', '31 °C', '0 mm', '—', '341', '5.1 km/h', '—', '1012.1 hPa', '—']\n",
      "['2024-01-06', '25 °C', '28.7 °C', '33 °C', '0.3 mm', '—', '333', '6.1 km/h', '—', '1011.7 hPa', '—']\n",
      "['2024-01-07', '25 °C', '28.8 °C', '34 °C', '0 mm', '—', '138', '6.9 km/h', '—', '1012.3 hPa', '—']\n",
      "['2024-01-08', '26 °C', '28.6 °C', '32 °C', '0 mm', '—', '87', '5 km/h', '—', '1012 hPa', '—']\n",
      "['2024-01-09', '26 °C', '28.8 °C', '34 °C', '0 mm', '—', '93', '7.3 km/h', '—', '1011.3 hPa', '—']\n",
      "['2024-01-10', '26 °C', '29.3 °C', '34 °C', '0 mm', '—', '128', '9 km/h', '—', '1010.5 hPa', '—']\n"
     ]
    }
   ],
   "execution_count": 24
  },
  {
   "metadata": {
    "ExecuteTime": {
     "end_time": "2024-06-04T03:57:37.343323Z",
     "start_time": "2024-06-04T03:57:37.072611Z"
    }
   },
   "cell_type": "code",
   "source": "import pandas as pd",
   "id": "73152268e4cc982b",
   "outputs": [],
   "execution_count": 25
  },
  {
   "metadata": {
    "ExecuteTime": {
     "end_time": "2024-06-04T03:57:38.736968Z",
     "start_time": "2024-06-04T03:57:38.733880Z"
    }
   },
   "cell_type": "code",
   "source": "meteostat_df = pd.DataFrame(td, columns=th_list)",
   "id": "fb956634fc8dc17c",
   "outputs": [],
   "execution_count": 26
  },
  {
   "metadata": {
    "ExecuteTime": {
     "end_time": "2024-06-04T03:57:39.169426Z",
     "start_time": "2024-06-04T03:57:39.154032Z"
    }
   },
   "cell_type": "code",
   "source": "meteostat_df",
   "id": "34f6919317788389",
   "outputs": [
    {
     "data": {
      "text/plain": [
       "         DATE   TMIN     TAVG   TMAX    PRCP SNOW WDIR      WSPD WPGT  \\\n",
       "0  2024-01-01  25 °C  28.2 °C  32 °C    0 mm    —  293  6.2 km/h    —   \n",
       "1  2024-01-02  25 °C  28.6 °C  34 °C    0 mm    —  304  6.3 km/h    —   \n",
       "2  2024-01-03  26 °C  28.6 °C  33 °C    0 mm    —  304  7.1 km/h    —   \n",
       "3  2024-01-04  25 °C  28.2 °C  32 °C    0 mm    —  340  6.8 km/h    —   \n",
       "4  2024-01-05  24 °C  27.7 °C  31 °C    0 mm    —  341  5.1 km/h    —   \n",
       "5  2024-01-06  25 °C  28.7 °C  33 °C  0.3 mm    —  333  6.1 km/h    —   \n",
       "6  2024-01-07  25 °C  28.8 °C  34 °C    0 mm    —  138  6.9 km/h    —   \n",
       "7  2024-01-08  26 °C  28.6 °C  32 °C    0 mm    —   87    5 km/h    —   \n",
       "8  2024-01-09  26 °C  28.8 °C  34 °C    0 mm    —   93  7.3 km/h    —   \n",
       "9  2024-01-10  26 °C  29.3 °C  34 °C    0 mm    —  128    9 km/h    —   \n",
       "\n",
       "         PRES TSUN  \n",
       "0  1011.3 hPa    —  \n",
       "1  1010.9 hPa    —  \n",
       "2  1010.8 hPa    —  \n",
       "3  1011.4 hPa    —  \n",
       "4  1012.1 hPa    —  \n",
       "5  1011.7 hPa    —  \n",
       "6  1012.3 hPa    —  \n",
       "7    1012 hPa    —  \n",
       "8  1011.3 hPa    —  \n",
       "9  1010.5 hPa    —  "
      ],
      "text/html": [
       "<div>\n",
       "<style scoped>\n",
       "    .dataframe tbody tr th:only-of-type {\n",
       "        vertical-align: middle;\n",
       "    }\n",
       "\n",
       "    .dataframe tbody tr th {\n",
       "        vertical-align: top;\n",
       "    }\n",
       "\n",
       "    .dataframe thead th {\n",
       "        text-align: right;\n",
       "    }\n",
       "</style>\n",
       "<table border=\"1\" class=\"dataframe\">\n",
       "  <thead>\n",
       "    <tr style=\"text-align: right;\">\n",
       "      <th></th>\n",
       "      <th>DATE</th>\n",
       "      <th>TMIN</th>\n",
       "      <th>TAVG</th>\n",
       "      <th>TMAX</th>\n",
       "      <th>PRCP</th>\n",
       "      <th>SNOW</th>\n",
       "      <th>WDIR</th>\n",
       "      <th>WSPD</th>\n",
       "      <th>WPGT</th>\n",
       "      <th>PRES</th>\n",
       "      <th>TSUN</th>\n",
       "    </tr>\n",
       "  </thead>\n",
       "  <tbody>\n",
       "    <tr>\n",
       "      <th>0</th>\n",
       "      <td>2024-01-01</td>\n",
       "      <td>25 °C</td>\n",
       "      <td>28.2 °C</td>\n",
       "      <td>32 °C</td>\n",
       "      <td>0 mm</td>\n",
       "      <td>—</td>\n",
       "      <td>293</td>\n",
       "      <td>6.2 km/h</td>\n",
       "      <td>—</td>\n",
       "      <td>1011.3 hPa</td>\n",
       "      <td>—</td>\n",
       "    </tr>\n",
       "    <tr>\n",
       "      <th>1</th>\n",
       "      <td>2024-01-02</td>\n",
       "      <td>25 °C</td>\n",
       "      <td>28.6 °C</td>\n",
       "      <td>34 °C</td>\n",
       "      <td>0 mm</td>\n",
       "      <td>—</td>\n",
       "      <td>304</td>\n",
       "      <td>6.3 km/h</td>\n",
       "      <td>—</td>\n",
       "      <td>1010.9 hPa</td>\n",
       "      <td>—</td>\n",
       "    </tr>\n",
       "    <tr>\n",
       "      <th>2</th>\n",
       "      <td>2024-01-03</td>\n",
       "      <td>26 °C</td>\n",
       "      <td>28.6 °C</td>\n",
       "      <td>33 °C</td>\n",
       "      <td>0 mm</td>\n",
       "      <td>—</td>\n",
       "      <td>304</td>\n",
       "      <td>7.1 km/h</td>\n",
       "      <td>—</td>\n",
       "      <td>1010.8 hPa</td>\n",
       "      <td>—</td>\n",
       "    </tr>\n",
       "    <tr>\n",
       "      <th>3</th>\n",
       "      <td>2024-01-04</td>\n",
       "      <td>25 °C</td>\n",
       "      <td>28.2 °C</td>\n",
       "      <td>32 °C</td>\n",
       "      <td>0 mm</td>\n",
       "      <td>—</td>\n",
       "      <td>340</td>\n",
       "      <td>6.8 km/h</td>\n",
       "      <td>—</td>\n",
       "      <td>1011.4 hPa</td>\n",
       "      <td>—</td>\n",
       "    </tr>\n",
       "    <tr>\n",
       "      <th>4</th>\n",
       "      <td>2024-01-05</td>\n",
       "      <td>24 °C</td>\n",
       "      <td>27.7 °C</td>\n",
       "      <td>31 °C</td>\n",
       "      <td>0 mm</td>\n",
       "      <td>—</td>\n",
       "      <td>341</td>\n",
       "      <td>5.1 km/h</td>\n",
       "      <td>—</td>\n",
       "      <td>1012.1 hPa</td>\n",
       "      <td>—</td>\n",
       "    </tr>\n",
       "    <tr>\n",
       "      <th>5</th>\n",
       "      <td>2024-01-06</td>\n",
       "      <td>25 °C</td>\n",
       "      <td>28.7 °C</td>\n",
       "      <td>33 °C</td>\n",
       "      <td>0.3 mm</td>\n",
       "      <td>—</td>\n",
       "      <td>333</td>\n",
       "      <td>6.1 km/h</td>\n",
       "      <td>—</td>\n",
       "      <td>1011.7 hPa</td>\n",
       "      <td>—</td>\n",
       "    </tr>\n",
       "    <tr>\n",
       "      <th>6</th>\n",
       "      <td>2024-01-07</td>\n",
       "      <td>25 °C</td>\n",
       "      <td>28.8 °C</td>\n",
       "      <td>34 °C</td>\n",
       "      <td>0 mm</td>\n",
       "      <td>—</td>\n",
       "      <td>138</td>\n",
       "      <td>6.9 km/h</td>\n",
       "      <td>—</td>\n",
       "      <td>1012.3 hPa</td>\n",
       "      <td>—</td>\n",
       "    </tr>\n",
       "    <tr>\n",
       "      <th>7</th>\n",
       "      <td>2024-01-08</td>\n",
       "      <td>26 °C</td>\n",
       "      <td>28.6 °C</td>\n",
       "      <td>32 °C</td>\n",
       "      <td>0 mm</td>\n",
       "      <td>—</td>\n",
       "      <td>87</td>\n",
       "      <td>5 km/h</td>\n",
       "      <td>—</td>\n",
       "      <td>1012 hPa</td>\n",
       "      <td>—</td>\n",
       "    </tr>\n",
       "    <tr>\n",
       "      <th>8</th>\n",
       "      <td>2024-01-09</td>\n",
       "      <td>26 °C</td>\n",
       "      <td>28.8 °C</td>\n",
       "      <td>34 °C</td>\n",
       "      <td>0 mm</td>\n",
       "      <td>—</td>\n",
       "      <td>93</td>\n",
       "      <td>7.3 km/h</td>\n",
       "      <td>—</td>\n",
       "      <td>1011.3 hPa</td>\n",
       "      <td>—</td>\n",
       "    </tr>\n",
       "    <tr>\n",
       "      <th>9</th>\n",
       "      <td>2024-01-10</td>\n",
       "      <td>26 °C</td>\n",
       "      <td>29.3 °C</td>\n",
       "      <td>34 °C</td>\n",
       "      <td>0 mm</td>\n",
       "      <td>—</td>\n",
       "      <td>128</td>\n",
       "      <td>9 km/h</td>\n",
       "      <td>—</td>\n",
       "      <td>1010.5 hPa</td>\n",
       "      <td>—</td>\n",
       "    </tr>\n",
       "  </tbody>\n",
       "</table>\n",
       "</div>"
      ]
     },
     "execution_count": 27,
     "metadata": {},
     "output_type": "execute_result"
    }
   ],
   "execution_count": 27
  },
  {
   "metadata": {
    "ExecuteTime": {
     "end_time": "2024-06-04T03:57:40.100587Z",
     "start_time": "2024-06-04T03:57:40.090812Z"
    }
   },
   "cell_type": "code",
   "source": [
    "button_showmore_xpath = '//*[@id=\"details-modal\"]/div/div/div[2]/div[2]/button'\n",
    "button_showmore = driver.find_element(By.XPATH, button_showmore_xpath)"
   ],
   "id": "b1838f6ce66e1544",
   "outputs": [],
   "execution_count": 28
  },
  {
   "metadata": {
    "ExecuteTime": {
     "end_time": "2024-06-04T03:58:58.540108Z",
     "start_time": "2024-06-04T03:58:58.532650Z"
    }
   },
   "cell_type": "code",
   "source": "driver.execute_script(\"arguments[0].click();\", button_showmore)",
   "id": "399726b814bd00d0",
   "outputs": [],
   "execution_count": 56
  },
  {
   "metadata": {
    "ExecuteTime": {
     "end_time": "2024-06-04T03:58:59.438594Z",
     "start_time": "2024-06-04T03:58:59.416683Z"
    }
   },
   "cell_type": "code",
   "source": [
    "tbody_after_showmore = driver.find_element(By.XPATH, tbody_xpath)\n",
    "tbody_tr_after_showmore_list = tbody.find_elements(By.XPATH, tbody_tr_xpath)\n",
    "len(tbody_tr_after_showmore_list)"
   ],
   "id": "3859e0c662f23694",
   "outputs": [
    {
     "data": {
      "text/plain": [
       "147"
      ]
     },
     "execution_count": 57,
     "metadata": {},
     "output_type": "execute_result"
    }
   ],
   "execution_count": 57
  },
  {
   "metadata": {
    "ExecuteTime": {
     "end_time": "2024-06-04T04:01:37.239205Z",
     "start_time": "2024-06-04T04:01:36.006510Z"
    }
   },
   "cell_type": "code",
   "source": [
    "for tr in tbody_tr_after_showmore_list:\n",
    "    print(tr.text)"
   ],
   "id": "7ce8613fa5fdd595",
   "outputs": [
    {
     "name": "stdout",
     "output_type": "stream",
     "text": [
      "2024-01-01 25 °C 28.2 °C 32 °C 0 mm — 6.2 km/h — 1011.3 hPa —\n",
      "2024-01-02 25 °C 28.6 °C 34 °C 0 mm — 6.3 km/h — 1010.9 hPa —\n",
      "2024-01-03 26 °C 28.6 °C 33 °C 0 mm — 7.1 km/h — 1010.8 hPa —\n",
      "2024-01-04 25 °C 28.2 °C 32 °C 0 mm — 6.8 km/h — 1011.4 hPa —\n",
      "2024-01-05 24 °C 27.7 °C 31 °C 0 mm — 5.1 km/h — 1012.1 hPa —\n",
      "2024-01-06 25 °C 28.7 °C 33 °C 0.3 mm — 6.1 km/h — 1011.7 hPa —\n",
      "2024-01-07 25 °C 28.8 °C 34 °C 0 mm — 6.9 km/h — 1012.3 hPa —\n",
      "2024-01-08 26 °C 28.6 °C 32 °C 0 mm — 5 km/h — 1012 hPa —\n",
      "2024-01-09 26 °C 28.8 °C 34 °C 0 mm — 7.3 km/h — 1011.3 hPa —\n",
      "2024-01-10 26 °C 29.3 °C 34 °C 0 mm — 9 km/h — 1010.5 hPa —\n",
      "2024-01-11 24 °C 28.5 °C 34 °C 0 mm — 7.9 km/h — 1011.2 hPa —\n",
      "2024-01-12 23 °C 27.5 °C 32 °C 0 mm — 7.9 km/h — 1011.1 hPa —\n",
      "2024-01-13 23 °C 27.1 °C 32 °C 0 mm — 5.1 km/h — 1011.3 hPa —\n",
      "2024-01-14 23 °C 27.3 °C 32 °C 0 mm — 5.3 km/h — 1012 hPa —\n",
      "2024-01-15 23 °C 27.8 °C 34 °C 0 mm — 6.8 km/h — 1011.5 hPa —\n",
      "2024-01-16 24 °C 28.3 °C 33 °C 0 mm — 6.3 km/h — 1011.3 hPa —\n",
      "2024-01-17 24 °C 29 °C 35 °C 0 mm — 6.7 km/h — 1011.3 hPa —\n",
      "2024-01-18 25 °C 29 °C 35 °C 0 mm — 6.7 km/h — 1010.8 hPa —\n",
      "2024-01-19 24 °C 28.6 °C 34 °C 0 mm — 7.5 km/h — 1010.9 hPa —\n",
      "2024-01-20 24 °C 27.9 °C 32 °C 0 mm — 8.5 km/h — 1011.5 hPa —\n",
      "2024-01-21 24 °C 28 °C 32 °C 0 mm — 9.2 km/h — 1012.5 hPa —\n",
      "2024-01-22 25 °C 29.3 °C 35 °C 0 mm — 10.9 km/h — 1012.5 hPa —\n",
      "2024-01-23 24 °C 28.8 °C 35 °C 0 mm — 8.3 km/h — 1013.4 hPa —\n",
      "2024-01-24 24 °C 28.7 °C 35 °C 0 mm — 8.9 km/h — 1013.7 hPa —\n",
      "2024-01-25 25 °C 29.1 °C 35 °C 0 mm — 8.3 km/h — 1015.3 hPa —\n",
      "2024-01-26 25 °C 28.9 °C 34 °C 0 mm — 8.1 km/h — 1016.1 hPa —\n",
      "2024-01-27 24 °C 28.6 °C 34 °C 0 mm — 9 km/h — 1015.3 hPa —\n",
      "2024-01-28 24 °C 28.9 °C 35 °C 0 mm — 10 km/h — 1015.4 hPa —\n",
      "2024-01-29 24 °C 29 °C 35 °C 0 mm — 8.2 km/h — 1014.6 hPa —\n",
      "2024-01-30 25 °C 29.2 °C 34 °C 0 mm — 11.2 km/h — 1014.3 hPa —\n",
      "2024-01-31 25 °C 29.1 °C 35 °C 0 mm — 11.3 km/h — 1013.9 hPa —\n",
      "2024-02-01 26 °C 28.8 °C 34 °C 0 mm — 9.9 km/h — 1014.3 hPa —\n",
      "2024-02-02 26 °C 28.1 °C 33 °C 0 mm — 12.4 km/h — 1013.4 hPa —\n",
      "2024-02-03 25 °C 28.6 °C 35 °C 0 mm — 12.1 km/h — 1013.5 hPa —\n",
      "2024-02-04 26 °C 28.9 °C 35 °C 0 mm — 9.4 km/h — 1013.7 hPa —\n",
      "2024-02-05 26 °C 28.5 °C 33 °C 0 mm — 9 km/h — 1013.8 hPa —\n",
      "2024-02-06 26 °C 29 °C 35 °C 0 mm — 11.8 km/h — 1014 hPa —\n",
      "2024-02-07 26 °C 28.7 °C 32 °C 0 mm — 10.7 km/h — 1012.7 hPa —\n",
      "2024-02-08 26 °C 28.1 °C 32 °C 0 mm — 10.9 km/h — 1012.2 hPa —\n",
      "2024-02-09 26 °C 29.4 °C 35 °C 0 mm — 13.8 km/h — 1013.4 hPa —\n",
      "2024-02-10 25 °C 29.3 °C 35 °C 0 mm — 8.5 km/h — 1014.8 hPa —\n",
      "2024-02-11 24 °C 29.1 °C 35 °C 0 mm — 9.3 km/h — 1016.2 hPa —\n",
      "2024-02-12 23 °C 28.4 °C 34 °C 0 mm — 8.3 km/h — 1015.5 hPa —\n",
      "2024-02-13 24 °C 29.5 °C 35 °C 0 mm — 10.8 km/h — 1014 hPa —\n",
      "2024-02-14 27 °C 30.5 °C 36 °C 0 mm — 12.3 km/h — 1012.9 hPa —\n",
      "2024-02-15 26 °C 30.8 °C 36 °C 0 mm — 13.7 km/h — 1013 hPa —\n",
      "2024-02-16 26 °C 30.1 °C 36 °C 0 mm — 12.3 km/h — 1012.8 hPa —\n",
      "2024-02-17 25 °C 29.5 °C 36 °C 0 mm — 12.7 km/h — 1012 hPa —\n",
      "2024-02-18 24 °C 29.3 °C 36 °C 0 mm — 12.2 km/h — 1012 hPa —\n",
      "2024-02-19 26 °C 29.2 °C 34 °C 0 mm — 14.1 km/h — 1012.3 hPa —\n",
      "2024-02-20 26 °C 28.9 °C 34 °C 0 mm — 12.2 km/h — 1011.9 hPa —\n",
      "2024-02-21 26 °C 28.7 °C 33 °C 0 mm — 12.6 km/h — 1011.6 hPa —\n",
      "2024-02-22 26 °C 29.3 °C 35 °C 0 mm — 13.5 km/h — 1012.4 hPa —\n",
      "2024-02-23 26 °C 29.5 °C 34 °C 0 mm — 14 km/h — 1012.7 hPa —\n",
      "2024-02-24 27 °C 30.1 °C 35 °C 0.2 mm — 15.8 km/h — 1012.4 hPa —\n",
      "2024-02-25 25 °C 29.8 °C 35 °C 0 mm — 10.3 km/h — 1011.7 hPa —\n",
      "2024-02-26 25 °C 30.4 °C 36 °C 0 mm — 11.2 km/h — 1011.7 hPa —\n",
      "2024-02-27 27 °C 30.1 °C 36 °C 1.2 mm — 13.1 km/h — 1011.2 hPa —\n",
      "2024-02-28 25 °C 30 °C 36 °C 0 mm — 13.3 km/h — 1010.3 hPa —\n",
      "2024-02-29 25 °C 30.1 °C 36 °C 0 mm — 14.6 km/h — 1010.7 hPa —\n",
      "2024-03-01 26 °C 30 °C 35 °C 0 mm — 13 km/h — 1011.2 hPa —\n",
      "2024-03-02 26 °C 29.9 °C 36 °C 0 mm — 10.4 km/h — 1011 hPa —\n",
      "2024-03-03 25 °C 29.4 °C 34 °C 0 mm — 10.7 km/h — 1011 hPa —\n",
      "2024-03-04 26 °C 29.3 °C 34 °C 0 mm — 15.5 km/h — 1010.5 hPa —\n",
      "2024-03-05 26 °C 29 °C 34 °C 0 mm — 9.4 km/h — 1009.9 hPa —\n",
      "2024-03-06 27 °C 29.2 °C 34 °C 0 mm — 9.9 km/h — 1008.9 hPa —\n",
      "2024-03-07 27 °C 29.5 °C 35 °C 0 mm — 12 km/h — 1008.9 hPa —\n",
      "2024-03-08 26 °C 30.3 °C 36 °C 0 mm — 18.8 km/h — 1010.3 hPa —\n",
      "2024-03-09 26 °C 30 °C 36 °C 0 mm — 12.1 km/h — 1010.6 hPa —\n",
      "2024-03-10 26 °C 30.1 °C 36 °C 0 mm — 16.3 km/h — 1012.3 hPa —\n",
      "2024-03-11 25 °C 30.5 °C 37 °C 0 mm — 12.9 km/h — 1012.9 hPa —\n",
      "2024-03-12 27 °C 30.8 °C 36 °C 0 mm — 11.5 km/h — 1012.6 hPa —\n",
      "2024-03-13 27 °C 30.1 °C 35 °C 0 mm — 12.1 km/h — 1012.3 hPa —\n",
      "2024-03-14 27 °C 29.8 °C 36 °C 0 mm — 13.7 km/h — 1011.9 hPa —\n",
      "2024-03-15 26 °C 29.4 °C 35 °C 0 mm — 16.1 km/h — 1012 hPa —\n",
      "2024-03-16 26 °C 30 °C 36 °C 0 mm — 13.9 km/h — 1012.6 hPa —\n",
      "2024-03-17 27 °C 30.3 °C 35 °C 0 mm — 12.9 km/h — 1011.9 hPa —\n",
      "2024-03-18 27 °C 29.9 °C 36 °C 0 mm — 14.5 km/h — 1010.8 hPa —\n",
      "2024-03-19 26 °C 29.9 °C 35 °C 0 mm — 16.6 km/h — 1011.6 hPa —\n",
      "2024-03-20 24 °C 30 °C 37 °C 0 mm — 11.1 km/h — 1012.4 hPa —\n",
      "2024-03-21 26 °C 30 °C 35 °C 0.6 mm — 10.2 km/h — 1011.2 hPa —\n",
      "2024-03-22 27 °C 30 °C 35 °C 0 mm — 15.2 km/h — 1009 hPa —\n",
      "2024-03-23 27 °C 29.6 °C 34 °C 0.5 mm — 15.3 km/h — 1010.1 hPa —\n",
      "2024-03-24 27 °C 29.9 °C 35 °C 0 mm — 15.2 km/h — 1011.2 hPa —\n",
      "2024-03-25 27 °C 30 °C 35 °C 0.2 mm — 13.8 km/h — 1011 hPa —\n",
      "2024-03-26 28 °C 31.1 °C 37 °C 0 mm — 17.9 km/h — 1011.9 hPa —\n",
      "2024-03-27 27.3 °C 30.9 °C 37 °C 0.1 mm — 13 km/h — 1012.6 hPa —\n",
      "2024-03-28 27 °C 30.3 °C 35 °C 0.1 mm — 13.7 km/h — 1011.5 hPa —\n",
      "2024-03-29 27 °C 30.3 °C 35 °C 0 mm — 13.1 km/h — 1011.5 hPa —\n",
      "2024-03-30 27 °C 30.9 °C 36 °C 0 mm — 14 km/h — 1012.4 hPa —\n",
      "2024-03-31 28 °C 31 °C 36 °C 0 mm — 10.8 km/h — 1011.8 hPa —\n",
      "2024-04-01 28 °C 31 °C 36 °C 0.2 mm — 10.2 km/h — 1009.6 hPa —\n",
      "2024-04-02 29 °C 30.8 °C 35 °C 0.2 mm — 13.1 km/h — 1009 hPa —\n",
      "2024-04-03 28 °C 31 °C 36 °C 0 mm — 12.1 km/h — 1009.4 hPa —\n",
      "2024-04-04 28 °C 31.1 °C 36 °C 0 mm — 11.4 km/h — 1008.7 hPa —\n",
      "2024-04-05 29 °C 30.9 °C 35 °C 0.2 mm — 13.9 km/h — 1008.4 hPa —\n",
      "2024-04-06 28 °C 30.7 °C 35 °C 0 mm — 14.6 km/h — 1008.9 hPa —\n",
      "2024-04-07 27 °C 30.8 °C 36 °C 0 mm — 12.9 km/h — 1008.3 hPa —\n",
      "2024-04-08 28 °C 31 °C 36 °C 0 mm — 12.6 km/h — 1008.9 hPa —\n",
      "2024-04-09 28 °C 31.7 °C 37 °C 0 mm — 15.9 km/h — 1009.2 hPa —\n",
      "2024-04-10 27 °C 31.9 °C 38 °C 0.4 mm — 14.5 km/h — 1010.5 hPa —\n",
      "2024-04-11 28 °C 32.1 °C 38 °C 0.7 mm — 14.3 km/h — 1009.7 hPa —\n",
      "2024-04-12 29 °C 32 °C 37 °C 0 mm — 13.4 km/h — 1009.5 hPa —\n",
      "2024-04-13 29 °C 31.2 °C 35 °C 0 mm — 16.3 km/h — 1009.5 hPa —\n",
      "2024-04-14 28 °C 30.8 °C 35 °C 0 mm — 14.5 km/h — 1010.3 hPa —\n",
      "2024-04-15 28 °C 31.2 °C 36 °C 0 mm — 13.9 km/h — 1010.7 hPa —\n",
      "2024-04-16 28 °C 31.7 °C 37 °C 0 mm — 16.1 km/h — 1009.2 hPa —\n",
      "2024-04-17 29 °C 31.4 °C 35 °C 0.1 mm — 13.8 km/h — 1009 hPa —\n",
      "2024-04-18 28 °C 31.4 °C 36 °C 0 mm — 10.6 km/h — 1008 hPa —\n",
      "2024-04-19 27 °C 31.4 °C 37 °C 0 mm — 12.6 km/h — 1006.9 hPa —\n",
      "2024-04-20 28 °C 31.1 °C 35 °C 0 mm — 13.5 km/h — 1007.4 hPa —\n",
      "2024-04-21 29 °C 31.8 °C 37 °C 0 mm — 12 km/h — 1007.7 hPa —\n",
      "2024-04-22 29 °C 31.5 °C 36 °C 0 mm — 12.4 km/h — 1007.8 hPa —\n",
      "2024-04-23 29 °C 31.8 °C 36 °C 0 mm — 11.9 km/h — 1007.3 hPa —\n",
      "2024-04-24 29 °C 31.9 °C 37 °C 1.5 mm — 12.8 km/h — 1007.3 hPa —\n",
      "2024-04-25 29 °C 32.5 °C 37 °C 2.8 mm — 13 km/h — 1007.2 hPa —\n",
      "2024-04-26 30 °C 32.6 °C 37 °C 0.8 mm — 12.9 km/h — 1007 hPa —\n",
      "2024-04-27 30 °C 32.7 °C 37 °C 0 mm — 12.5 km/h — 1006.7 hPa —\n",
      "2024-04-28 30 °C 33 °C 38 °C 0.7 mm — 12.6 km/h — 1008.1 hPa —\n",
      "2024-04-29 29 °C 33 °C 39 °C 0 mm — 10.9 km/h — 1008.2 hPa —\n",
      "2024-04-30 29 °C 32.5 °C 37 °C 0 mm — 12.7 km/h — 1006.4 hPa —\n",
      "2024-05-01 30 °C 32.9 °C 38 °C 0 mm — 12.9 km/h — 1005.5 hPa —\n",
      "2024-05-02 30 °C 32.8 °C 38 °C 0.9 mm — 13.3 km/h — 1006.8 hPa —\n",
      "2024-05-03 30 °C 32.8 °C 38 °C 0 mm — 13.3 km/h — 1007.6 hPa —\n",
      "2024-05-04 29 °C 32 °C 37 °C 4.8 mm — 9.9 km/h — 1007.8 hPa —\n",
      "2024-05-05 27 °C 29.9 °C 35 °C 7.9 mm — 7.4 km/h — 1007.8 hPa —\n",
      "2024-05-06 27 °C 31.4 °C 36 °C 0 mm — 11.4 km/h — 1008.4 hPa —\n",
      "2024-05-07 26 °C 30.9 °C 36 °C 13.9 mm — 11.7 km/h — 1009.7 hPa —\n",
      "2024-05-08 27 °C 31 °C 37 °C 0.5 mm — 11.9 km/h — 1009 hPa —\n",
      "2024-05-09 28 °C 31.3 °C 36 °C 4.2 mm — 15.1 km/h — 1008.7 hPa —\n",
      "2024-05-10 28 °C 32.1 °C 38 °C 2 mm — 13.9 km/h — 1009.2 hPa —\n",
      "2024-05-11 30 °C 32.2 °C 37 °C 10.8 mm — 13.5 km/h — 1010 hPa —\n",
      "2024-05-12 30 °C 32.4 °C 38 °C 4.6 mm — 12.8 km/h — 1009.3 hPa —\n",
      "2024-05-13 29 °C 32.2 °C 37 °C 5.2 mm — 11.8 km/h — 1008.5 hPa —\n",
      "2024-05-14 28 °C 31.6 °C 37 °C 0.9 mm — 8.5 km/h — 1008.7 hPa —\n",
      "2024-05-15 24 °C 30.8 °C 38 °C 10.9 mm — 13.6 km/h — 1009.3 hPa —\n",
      "2024-05-16 26 °C 29.3 °C 36 °C 4.5 mm — 7.5 km/h — 1009 hPa —\n",
      "2024-05-17 28 °C 30.7 °C 33 °C 9.6 mm — 9 km/h — 1008.5 hPa —\n",
      "2024-05-18 28 °C 31 °C 36 °C 0.8 mm — 7.1 km/h — 1007 hPa —\n",
      "2024-05-19 27 °C 31.2 °C 35 °C 7.1 mm — 9.2 km/h — 1005.8 hPa —\n",
      "2024-05-20 27 °C 30.2 °C 36 °C 6.3 mm — 11.5 km/h — 1006.1 hPa —\n",
      "2024-05-21 25 °C 28.7 °C 35 °C 17.8 mm — 8.8 km/h — 1007.4 hPa —\n",
      "2024-05-22 27 °C 30 °C 35 °C 5.7 mm — 6.6 km/h — 1007.5 hPa —\n",
      "2024-05-23 28 °C 29.3 °C 34 °C 13.6 mm — 5.9 km/h — 1007.5 hPa —\n",
      "2024-05-24 27 °C 31.1 °C 36 °C 0 mm — 5.8 km/h — 1007.4 hPa —\n",
      "2024-05-25 29 °C 32.3 °C 36 °C 2.6 mm — 10.3 km/h — 1007.9 hPa —\n",
      "2024-05-26 26 °C 30.5 °C 35 °C 2.6 mm — 7.9 km/h — 1008.8 hPa —\n"
     ]
    }
   ],
   "execution_count": 59
  },
  {
   "metadata": {
    "ExecuteTime": {
     "end_time": "2024-06-04T04:02:43.264792Z",
     "start_time": "2024-06-04T04:02:43.253107Z"
    }
   },
   "cell_type": "code",
   "source": "button_showmore.get_attribute('disabled')",
   "id": "17dcc717548367aa",
   "outputs": [
    {
     "data": {
      "text/plain": [
       "'true'"
      ]
     },
     "execution_count": 61,
     "metadata": {},
     "output_type": "execute_result"
    }
   ],
   "execution_count": 61
  },
  {
   "metadata": {},
   "cell_type": "code",
   "outputs": [],
   "execution_count": null,
   "source": "",
   "id": "f6ebf5113fcb30f2"
  }
 ],
 "metadata": {
  "kernelspec": {
   "display_name": "Python 3",
   "language": "python",
   "name": "python3"
  },
  "language_info": {
   "codemirror_mode": {
    "name": "ipython",
    "version": 2
   },
   "file_extension": ".py",
   "mimetype": "text/x-python",
   "name": "python",
   "nbconvert_exporter": "python",
   "pygments_lexer": "ipython2",
   "version": "2.7.6"
  }
 },
 "nbformat": 4,
 "nbformat_minor": 5
}
