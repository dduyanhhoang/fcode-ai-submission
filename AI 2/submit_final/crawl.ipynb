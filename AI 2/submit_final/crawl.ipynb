{
 "cells": [
  {
   "metadata": {
    "ExecuteTime": {
     "end_time": "2024-08-06T14:17:41.887564Z",
     "start_time": "2024-08-06T14:17:38.283352Z"
    }
   },
   "cell_type": "code",
   "source": [
    "from selenium import webdriver\n",
    "import undetected_chromedriver as uc\n",
    "from selenium.webdriver.common.by import By\n",
    "from selenium.webdriver.chrome.options import Options\n",
    "from selenium.webdriver.support.ui import WebDriverWait\n",
    "from selenium.webdriver.support import expected_conditions as EC\n",
    "from selenium.common.exceptions import NoSuchElementException, TimeoutException, StaleElementReferenceException\n",
    "import time\n",
    "from datetime import datetime, timedelta\n",
    "from itertools import combinations\n",
    "from loguru import logger\n",
    "from bs4 import BeautifulSoup\n",
    "import pandas as pd\n",
    "\n",
    "WAIT_TIMEOUT = 20  # Increased timeout\n",
    "\n",
    "# Setup loguru\n",
    "logger.remove()  # Remove default handler\n",
    "logger.add(\"scraping.log\", rotation=\"500 MB\", level=\"INFO\")\n",
    "logger.add(lambda msg: print(msg, end=\"\"), colorize=True, level=\"INFO\")\n",
    "\n",
    "# Setup\n",
    "chrome_options = Options()\n",
    "chrome_options.add_argument(\"--incognito\")\n",
    "driver = uc.Chrome(options=chrome_options)\n",
    "\n",
    "# Generate URLs\n",
    "airports = ['HAN', 'DAD', 'PQC', 'CXR', 'DLI', 'SGN']\n",
    "classes = ['ECONOMY', 'PREMIUM_ECONOMY', 'BUSINESS']\n",
    "start_date = datetime(2024, 8, 8)\n",
    "end_date = datetime(2024, 12, 31)\n",
    "base_url = \"https://www.traveloka.com/en-vn/flight/fullsearch?ap={}.{}&dt={}.NA&ps=1.0.0&sc={}\"\n",
    "\n",
    "urls = []\n",
    "for dep, arr in combinations(airports, 2):\n",
    "    for travel_class in classes:\n",
    "        current_date = start_date\n",
    "        while current_date <= end_date:\n",
    "            date_str = current_date.strftime(\"%d-%m-%Y\")\n",
    "            urls.append(base_url.format(dep, arr, date_str, travel_class))\n",
    "            urls.append(base_url.format(arr, dep, date_str, travel_class))\n",
    "            current_date += timedelta(days=1)"
   ],
   "id": "d57e2e56e0a12733",
   "outputs": [],
   "execution_count": 1
  },
  {
   "metadata": {
    "ExecuteTime": {
     "end_time": "2024-08-06T14:17:44.890681Z",
     "start_time": "2024-08-06T14:17:44.874164Z"
    }
   },
   "cell_type": "code",
   "source": [
    "def get_flights(driver):\n",
    "    flight_xpaths = [\n",
    "        '//*[@id=\"FLIGHT_SEARCH_RESULT_CONTENT\"]/div[5]/div[3]/div/div/div[@data-testid]',\n",
    "        '//*[@id=\"FLIGHT_SEARCH_RESULT_CONTENT\"]/div[6]/div[3]/div/div/div/div[@data-testid]'\n",
    "    ]\n",
    "    \n",
    "    for xpath in flight_xpaths:\n",
    "        flights = driver.find_elements(By.XPATH, xpath)\n",
    "        valid_flights = [flight for flight in flights if flight.get_attribute('data-testid').startswith('flight-inventory-card-container-')]\n",
    "        if valid_flights:\n",
    "            return valid_flights\n",
    "    return []"
   ],
   "id": "6f80b4b49c88cbf8",
   "outputs": [],
   "execution_count": 2
  },
  {
   "metadata": {
    "ExecuteTime": {
     "end_time": "2024-08-06T14:17:50.024663Z",
     "start_time": "2024-08-06T14:17:46.414579Z"
    }
   },
   "cell_type": "code",
   "source": "driver.get(urls[10])",
   "id": "86aaec7443a29082",
   "outputs": [],
   "execution_count": 3
  },
  {
   "metadata": {
    "ExecuteTime": {
     "end_time": "2024-08-06T14:17:56.867339Z",
     "start_time": "2024-08-06T14:17:56.605512Z"
    }
   },
   "cell_type": "code",
   "source": "flights = get_flights(driver)",
   "id": "20ae9e2626c57e20",
   "outputs": [],
   "execution_count": 4
  },
  {
   "metadata": {
    "ExecuteTime": {
     "end_time": "2024-08-06T14:17:59.150885Z",
     "start_time": "2024-08-06T14:17:57.654599Z"
    }
   },
   "cell_type": "code",
   "source": [
    "flight = flights[0]\n",
    "buttons_xpath = './/div/div/div/div/div[2]/div[1]/div'\n",
    "buttons = flight.find_elements(By.XPATH, buttons_xpath)\n",
    "driver.execute_script(\"arguments[0].click();\", buttons[0])\n",
    "\n",
    "details_area = flight.find_element(By.XPATH, './/div/div/div/div[3]/div/div')\n",
    "details_html = BeautifulSoup(details_area.get_attribute('innerHTML'), 'html.parser')\n",
    "\n",
    "if len(details_html.text) < 50:\n",
    "    details_area = flight.find_element(By.XPATH, './/div/div[1]/div[4]/div/div')\n",
    "    details_html = BeautifulSoup(details_area.get_attribute('innerHTML'), 'html.parser')"
   ],
   "id": "ed816053f1b23768",
   "outputs": [],
   "execution_count": 5
  },
  {
   "metadata": {
    "ExecuteTime": {
     "end_time": "2024-08-06T14:18:07.616666Z",
     "start_time": "2024-08-06T14:18:07.581039Z"
    }
   },
   "cell_type": "code",
   "source": "details_html",
   "id": "457a8b23e517cfc6",
   "outputs": [
    {
     "data": {
      "text/plain": [
       "<div class=\"css-1dbjc4n r-1ielgck r-1ivxbpt r-1i1ao36\"><div class=\"css-1dbjc4n r-1ielgck r-otx420 r-1i1ao36\"><div class=\"css-1dbjc4n r-e8mqni r-1habvwh r-18u37iz r-1h0z5md r-11c0sde\"><div class=\"css-1dbjc4n r-e8mqni r-1habvwh r-13awgt0 r-18u37iz r-1h0z5md r-88pszg\"><div class=\"css-1dbjc4n r-13awgt0 r-13qz1uu\"><div class=\"css-1dbjc4n r-1tuna9m r-1oszu61 r-18u37iz r-1h0z5md\"><div class=\"css-1dbjc4n r-e8mqni r-1d09ksm r-1h0z5md r-ttb5dx\"><div class=\"css-901oao r-t1w4ow r-1b43r93 r-majxgm r-rjixqe r-5oul0u r-fdjqy7\" dir=\"auto\" style=\"color: rgb(3, 18, 26);\">21:20</div><div class=\"css-901oao r-t1w4ow r-1enofrn r-majxgm r-1cwl3u0 r-fdjqy7\" dir=\"auto\" style=\"color: rgb(104, 113, 118);\">13 Aug</div></div><div class=\"css-1dbjc4n r-uia4a0 r-1awozwy r-1h0z5md r-13hce6t r-1mf7evn r-1jg9483\"><div class=\"css-1dbjc4n r-14lw9ot r-1naam9t r-sdzlij r-rs99b7 r-tbmifm r-1s2bzr4 r-16eto9q\"></div><div class=\"css-1dbjc4n r-p9fnmn r-13awgt0 r-92ng3h\"></div></div><div class=\"css-1dbjc4n r-e8mqni r-1habvwh r-13awgt0 r-1h0z5md\"><div class=\"css-901oao r-t1w4ow r-1b43r93 r-majxgm r-rjixqe r-5oul0u r-fdjqy7\" dir=\"auto\" style=\"color: rgb(3, 18, 26);\">Hanoi (HAN)</div><div class=\"css-901oao r-t1w4ow r-1enofrn r-majxgm r-1cwl3u0 r-fdjqy7\" dir=\"auto\" style=\"color: rgb(104, 113, 118);\">Noibai International Airport</div></div></div><div class=\"css-1dbjc4n r-1tuna9m r-1oszu61 r-18u37iz r-1h0z5md\"><div class=\"css-1dbjc4n r-uia4a0 r-1awozwy r-18u37iz r-1h0z5md r-1ifxtd0 r-1s2bzr4 r-ttb5dx\"><div class=\"css-901oao r-13awgt0 r-t1w4ow r-1enofrn r-majxgm r-1cwl3u0 r-fdjqy7\" dir=\"auto\" style=\"color: rgb(104, 113, 118);\">1h 20m</div></div><div class=\"css-1dbjc4n r-uia4a0 r-1awozwy r-1h0z5md r-13hce6t r-1mf7evn r-1jg9483\"><div class=\"css-1dbjc4n r-p9fnmn r-13awgt0 r-92ng3h\"></div></div><div class=\"css-1dbjc4n r-1ifxtd0 r-1s2bzr4 r-xd6kpl r-13qz1uu\"><div class=\"css-1dbjc4n r-18u37iz r-15zivkp r-1mf7evn\"><div class=\"css-1dbjc4n r-13awgt0 r-eqz5dr\"><div class=\"css-1dbjc4n r-1awozwy r-18u37iz\"><div class=\"css-901oao r-t1w4ow r-1b43r93 r-majxgm r-rjixqe r-fdjqy7\" dir=\"auto\" style=\"color: rgb(3, 18, 26);\">Vietravel Airlines </div><div class=\"css-1dbjc4n r-13hce6t r-1bymd8e\"><img alt=\"Vietravel Airlines\" decoding=\"async\" importance=\"low\" loading=\"lazy\" src=\"https://ik.imagekit.io/tvlk/image/imageResource/2021/03/08/1615183128719-eb20dcaed13e5b74629b222345995b7a.png?tr=q-75,w-28\" srcset=\"https://ik.imagekit.io/tvlk/image/imageResource/2021/03/08/1615183128719-eb20dcaed13e5b74629b222345995b7a.png?tr=q-75,w-28 1x, https://ik.imagekit.io/tvlk/image/imageResource/2021/03/08/1615183128719-eb20dcaed13e5b74629b222345995b7a.png?tr=dpr-2,q-75,w-28 2x, https://ik.imagekit.io/tvlk/image/imageResource/2021/03/08/1615183128719-eb20dcaed13e5b74629b222345995b7a.png?tr=dpr-3,q-75,w-28 3x\" style=\"object-fit: contain; object-position: 50% 50%;\" width=\"28\"/></div></div><div class=\"css-901oao r-t1w4ow r-1b43r93 r-majxgm r-rjixqe r-14gqq1x r-fdjqy7\" data-element=\"flightNumber\" dir=\"auto\" style=\"color: rgb(3, 18, 26);\">VU-659 • Promo</div></div></div><div class=\"css-1dbjc4n\"><div class=\"css-1dbjc4n r-15zivkp r-7xmw5f\"><div class=\"css-901oao r-1l31rp8 r-sdzlij r-rs99b7 r-t1w4ow r-1enofrn r-majxgm r-1cwl3u0 r-15zivkp r-ou255f r-1ozex9x r-fdjqy7\" dir=\"auto\" style=\"color: rgb(104, 113, 118);\">Flight upgrade available</div></div><div class=\"css-1dbjc4n r-18u37iz r-1w6e6rj\"><div class=\"css-1dbjc4n r-3691iy r-1rem5b8\"><div class=\"css-1dbjc4n r-18u37iz r-1w6e6rj r-1h0z5md r-6gpygo\"><img height=\"20\" src=\"https://d1785e74lyxkqq.cloudfront.net/_next/static/v2/8/8c1bcc90ebe8e4f79eafc4270ec3dbcb.svg\" width=\"20\"/><div class=\"css-1dbjc4n r-13awgt0\"><div class=\"css-1dbjc4n r-1mnahxq\"><div class=\"css-901oao r-13awgt0 r-t1w4ow r-1b43r93 r-majxgm r-rjixqe r-19u6a5r r-fdjqy7\" dir=\"auto\" style=\"color: rgb(104, 113, 118);\">Baggage 0kg (buy at booking)</div></div><div class=\"css-1dbjc4n r-14gqq1x\"><div class=\"css-901oao r-13awgt0 r-t1w4ow r-1b43r93 r-majxgm r-rjixqe r-19u6a5r r-fdjqy7\" dir=\"auto\" style=\"color: rgb(104, 113, 118);\">Cabin baggage 7 kg</div></div><div class=\"css-1dbjc4n r-1loqt21 r-1otgn73 r-1i6wzkk r-lrvibr\" style=\"transition-duration: 0s;\" tabindex=\"0\"><div class=\"css-1dbjc4n r-1habvwh r-13awgt0 r-18u37iz r-1h0z5md r-19u6a5r r-knv0ih\"><img alt=\"Baggage Prices\" height=\"12\" src=\"https://d1785e74lyxkqq.cloudfront.net/_next/static/v2/6/62628bf9641990d5998799e7ec570e1f.svg\" style=\"margin-top: 2px; margin-right: 4px;\" width=\"12\"/><div class=\"css-901oao r-1i6uqv8 r-13awgt0 r-t1w4ow r-1enofrn r-b88u0q r-1cwl3u0 r-fdjqy7\" dir=\"auto\">See Extra Baggage Prices</div></div></div></div></div></div><div class=\"css-1dbjc4n r-13awgt0\"><div class=\"css-1dbjc4n r-18u37iz r-1w6e6rj r-1h0z5md r-6gpygo\"><img height=\"20\" src=\"https://d1785e74lyxkqq.cloudfront.net/_next/static/v2/5/567f2962d08a29f3aba7367f2a1099e1.svg\" width=\"20\"/><div class=\"css-1dbjc4n r-13awgt0\"><div class=\"css-901oao r-t1w4ow r-1b43r93 r-majxgm r-rjixqe r-19u6a5r r-fdjqy7\" dir=\"auto\" style=\"color: rgb(104, 113, 118);\">Airbus A321-100/200</div></div></div></div></div></div></div></div><div class=\"css-1dbjc4n r-1tuna9m r-1oszu61 r-18u37iz r-1h0z5md\"><div class=\"css-1dbjc4n r-e8mqni r-1d09ksm r-1h0z5md r-q3we1 r-ttb5dx\"><div class=\"css-901oao r-t1w4ow r-1b43r93 r-majxgm r-rjixqe r-fdjqy7\" dir=\"auto\" style=\"color: rgb(3, 18, 26);\">22:40</div><div class=\"css-901oao r-t1w4ow r-1enofrn r-majxgm r-1cwl3u0 r-fdjqy7\" dir=\"auto\" style=\"color: rgb(104, 113, 118);\">13 Aug</div></div><div class=\"css-1dbjc4n r-uia4a0 r-1awozwy r-1h0z5md r-13hce6t r-1mf7evn r-1jg9483\"><div class=\"css-1dbjc4n r-1naam9t r-sdzlij r-rs99b7 r-tbmifm r-16eto9q\" style=\"background-color: rgb(1, 148, 243);\"></div></div><div class=\"css-1dbjc4n r-e8mqni r-1habvwh r-13awgt0 r-1h0z5md r-q3we1\"><div class=\"css-901oao r-t1w4ow r-1b43r93 r-majxgm r-rjixqe r-fdjqy7\" dir=\"auto\" style=\"color: rgb(3, 18, 26);\">Da Nang (DAD)</div><div class=\"css-901oao r-t1w4ow r-1enofrn r-majxgm r-1cwl3u0 r-fdjqy7\" dir=\"auto\" style=\"color: rgb(104, 113, 118);\">Da Nang Airport</div></div></div></div></div></div></div></div>"
      ]
     },
     "execution_count": 6,
     "metadata": {},
     "output_type": "execute_result"
    }
   ],
   "execution_count": 6
  },
  {
   "metadata": {
    "ExecuteTime": {
     "end_time": "2024-08-06T14:18:13.826676Z",
     "start_time": "2024-08-06T14:18:13.750084Z"
    }
   },
   "cell_type": "code",
   "source": [
    "flight = flights[1]\n",
    "buttons_xpath = './/div/div/div/div/div[2]/div[1]/div'\n",
    "buttons = flight.find_elements(By.XPATH, buttons_xpath)\n",
    "driver.execute_script(\"arguments[0].click();\", buttons[0])\n",
    "\n",
    "details_area = flight.find_element(By.XPATH, './/div/div/div/div[3]/div/div')\n",
    "details_html = BeautifulSoup(details_area.get_attribute('innerHTML'), 'html.parser')\n",
    "\n",
    "if len(details_html.text) < 50:\n",
    "    details_area = flight.find_element(By.XPATH, './/div/div[1]/div[4]/div/div')\n",
    "    details_html = BeautifulSoup(details_area.get_attribute('innerHTML'), 'html.parser')"
   ],
   "id": "a7276718261e2d2b",
   "outputs": [],
   "execution_count": 7
  },
  {
   "metadata": {
    "ExecuteTime": {
     "end_time": "2024-08-06T14:18:19.054738Z",
     "start_time": "2024-08-06T14:18:19.045987Z"
    }
   },
   "cell_type": "code",
   "source": "details_html",
   "id": "d05af970fc871630",
   "outputs": [
    {
     "data": {
      "text/plain": [
       "<div class=\"css-1dbjc4n r-1ielgck r-1ivxbpt r-1i1ao36\"><div class=\"css-1dbjc4n r-1ielgck r-otx420 r-1i1ao36\"><div class=\"css-1dbjc4n r-e8mqni r-1habvwh r-18u37iz r-1h0z5md r-11c0sde\"><div class=\"css-1dbjc4n r-e8mqni r-1habvwh r-13awgt0 r-18u37iz r-1h0z5md r-88pszg\"><div class=\"css-1dbjc4n r-13awgt0 r-13qz1uu\"><div class=\"css-1dbjc4n r-1tuna9m r-1oszu61 r-18u37iz r-1h0z5md\"><div class=\"css-1dbjc4n r-e8mqni r-1d09ksm r-1h0z5md r-ttb5dx\"><div class=\"css-901oao r-t1w4ow r-1b43r93 r-majxgm r-rjixqe r-5oul0u r-fdjqy7\" dir=\"auto\" style=\"color: rgb(3, 18, 26);\">20:55</div><div class=\"css-901oao r-t1w4ow r-1enofrn r-majxgm r-1cwl3u0 r-fdjqy7\" dir=\"auto\" style=\"color: rgb(104, 113, 118);\">13 Aug</div></div><div class=\"css-1dbjc4n r-uia4a0 r-1awozwy r-1h0z5md r-13hce6t r-1mf7evn r-1jg9483\"><div class=\"css-1dbjc4n r-14lw9ot r-1naam9t r-sdzlij r-rs99b7 r-tbmifm r-1s2bzr4 r-16eto9q\"></div><div class=\"css-1dbjc4n r-p9fnmn r-13awgt0 r-92ng3h\"></div></div><div class=\"css-1dbjc4n r-e8mqni r-1habvwh r-13awgt0 r-1h0z5md\"><div class=\"css-901oao r-t1w4ow r-1b43r93 r-majxgm r-rjixqe r-5oul0u r-fdjqy7\" dir=\"auto\" style=\"color: rgb(3, 18, 26);\">Hanoi (HAN)</div><div class=\"css-901oao r-t1w4ow r-1enofrn r-majxgm r-1cwl3u0 r-fdjqy7\" dir=\"auto\" style=\"color: rgb(104, 113, 118);\">Noibai International Airport</div><div class=\"css-901oao r-t1w4ow r-1enofrn r-majxgm r-1cwl3u0 r-fdjqy7\" dir=\"auto\" style=\"color: rgb(104, 113, 118);\">Terminal 1</div></div></div><div class=\"css-1dbjc4n r-1tuna9m r-1oszu61 r-18u37iz r-1h0z5md\"><div class=\"css-1dbjc4n r-uia4a0 r-1awozwy r-18u37iz r-1h0z5md r-1ifxtd0 r-1s2bzr4 r-ttb5dx\"><div class=\"css-901oao r-13awgt0 r-t1w4ow r-1enofrn r-majxgm r-1cwl3u0 r-fdjqy7\" dir=\"auto\" style=\"color: rgb(104, 113, 118);\">1h 20m</div></div><div class=\"css-1dbjc4n r-uia4a0 r-1awozwy r-1h0z5md r-13hce6t r-1mf7evn r-1jg9483\"><div class=\"css-1dbjc4n r-p9fnmn r-13awgt0 r-92ng3h\"></div></div><div class=\"css-1dbjc4n r-1ifxtd0 r-1s2bzr4 r-xd6kpl r-13qz1uu\"><div class=\"css-1dbjc4n r-18u37iz r-15zivkp r-1mf7evn\"><div class=\"css-1dbjc4n r-13awgt0 r-eqz5dr\"><div class=\"css-1dbjc4n r-1awozwy r-18u37iz\"><div class=\"css-901oao r-t1w4ow r-1b43r93 r-majxgm r-rjixqe r-fdjqy7\" dir=\"auto\" style=\"color: rgb(3, 18, 26);\">VietJet Air </div><div class=\"css-1dbjc4n r-13hce6t r-1bymd8e\"><img alt=\"VietJet Air\" decoding=\"async\" importance=\"low\" loading=\"lazy\" src=\"https://ik.imagekit.io/tvlk/image/imageResource/2022/11/29/1669692919958-81f0c812fcaa9551ef47319232a413c0.png?tr=q-75,w-28\" srcset=\"https://ik.imagekit.io/tvlk/image/imageResource/2022/11/29/1669692919958-81f0c812fcaa9551ef47319232a413c0.png?tr=q-75,w-28 1x, https://ik.imagekit.io/tvlk/image/imageResource/2022/11/29/1669692919958-81f0c812fcaa9551ef47319232a413c0.png?tr=dpr-2,q-75,w-28 2x, https://ik.imagekit.io/tvlk/image/imageResource/2022/11/29/1669692919958-81f0c812fcaa9551ef47319232a413c0.png?tr=dpr-3,q-75,w-28 3x\" style=\"object-fit: contain; object-position: 50% 50%;\" width=\"28\"/></div></div><div class=\"css-901oao r-t1w4ow r-1b43r93 r-majxgm r-rjixqe r-14gqq1x r-fdjqy7\" data-element=\"flightNumber\" dir=\"auto\" style=\"color: rgb(3, 18, 26);\">VJ-533 • Promo</div></div></div><div class=\"css-1dbjc4n\"><div class=\"css-1dbjc4n r-15zivkp r-7xmw5f\"><div class=\"css-901oao r-1l31rp8 r-sdzlij r-rs99b7 r-t1w4ow r-1enofrn r-majxgm r-1cwl3u0 r-15zivkp r-ou255f r-1ozex9x r-fdjqy7\" dir=\"auto\" style=\"color: rgb(104, 113, 118);\">Flight upgrade available</div></div><div class=\"css-1dbjc4n r-18u37iz r-1w6e6rj\"><div class=\"css-1dbjc4n r-3691iy r-1rem5b8\"><div class=\"css-1dbjc4n r-18u37iz r-1w6e6rj r-1h0z5md r-6gpygo\"><img height=\"20\" src=\"https://d1785e74lyxkqq.cloudfront.net/_next/static/v2/8/8c1bcc90ebe8e4f79eafc4270ec3dbcb.svg\" width=\"20\"/><div class=\"css-1dbjc4n r-13awgt0\"><div class=\"css-1dbjc4n r-1mnahxq\"><div class=\"css-901oao r-13awgt0 r-t1w4ow r-1b43r93 r-majxgm r-rjixqe r-19u6a5r r-fdjqy7\" dir=\"auto\" style=\"color: rgb(104, 113, 118);\">Baggage 0kg (buy at booking)</div></div><div class=\"css-1dbjc4n r-14gqq1x\"><div class=\"css-901oao r-13awgt0 r-t1w4ow r-1b43r93 r-majxgm r-rjixqe r-19u6a5r r-fdjqy7\" dir=\"auto\" style=\"color: rgb(104, 113, 118);\">Cabin baggage 7 kg</div></div><div class=\"css-1dbjc4n r-1loqt21 r-1otgn73 r-1i6wzkk r-lrvibr\" style=\"transition-duration: 0s;\" tabindex=\"0\"><div class=\"css-1dbjc4n r-1habvwh r-13awgt0 r-18u37iz r-1h0z5md r-19u6a5r r-knv0ih\"><img alt=\"Baggage Prices\" height=\"12\" src=\"https://d1785e74lyxkqq.cloudfront.net/_next/static/v2/6/62628bf9641990d5998799e7ec570e1f.svg\" style=\"margin-top: 2px; margin-right: 4px;\" width=\"12\"/><div class=\"css-901oao r-1i6uqv8 r-13awgt0 r-t1w4ow r-1enofrn r-b88u0q r-1cwl3u0 r-fdjqy7\" dir=\"auto\">See Extra Baggage Prices</div></div></div></div></div></div><div class=\"css-1dbjc4n r-13awgt0\"><div class=\"css-1dbjc4n r-18u37iz r-1w6e6rj r-1h0z5md r-6gpygo\"><img height=\"20\" src=\"https://d1785e74lyxkqq.cloudfront.net/_next/static/v2/5/567f2962d08a29f3aba7367f2a1099e1.svg\" width=\"20\"/><div class=\"css-1dbjc4n r-13awgt0\"><div class=\"css-901oao r-t1w4ow r-1b43r93 r-majxgm r-rjixqe r-19u6a5r r-fdjqy7\" dir=\"auto\" style=\"color: rgb(104, 113, 118);\">Airbus A321-100/200</div></div></div></div></div></div></div></div><div class=\"css-1dbjc4n r-1tuna9m r-1oszu61 r-18u37iz r-1h0z5md\"><div class=\"css-1dbjc4n r-e8mqni r-1d09ksm r-1h0z5md r-q3we1 r-ttb5dx\"><div class=\"css-901oao r-t1w4ow r-1b43r93 r-majxgm r-rjixqe r-fdjqy7\" dir=\"auto\" style=\"color: rgb(3, 18, 26);\">22:15</div><div class=\"css-901oao r-t1w4ow r-1enofrn r-majxgm r-1cwl3u0 r-fdjqy7\" dir=\"auto\" style=\"color: rgb(104, 113, 118);\">13 Aug</div></div><div class=\"css-1dbjc4n r-uia4a0 r-1awozwy r-1h0z5md r-13hce6t r-1mf7evn r-1jg9483\"><div class=\"css-1dbjc4n r-1naam9t r-sdzlij r-rs99b7 r-tbmifm r-16eto9q\" style=\"background-color: rgb(1, 148, 243);\"></div></div><div class=\"css-1dbjc4n r-e8mqni r-1habvwh r-13awgt0 r-1h0z5md r-q3we1\"><div class=\"css-901oao r-t1w4ow r-1b43r93 r-majxgm r-rjixqe r-fdjqy7\" dir=\"auto\" style=\"color: rgb(3, 18, 26);\">Da Nang (DAD)</div><div class=\"css-901oao r-t1w4ow r-1enofrn r-majxgm r-1cwl3u0 r-fdjqy7\" dir=\"auto\" style=\"color: rgb(104, 113, 118);\">Da Nang Airport</div></div></div></div></div></div></div></div>"
      ]
     },
     "execution_count": 8,
     "metadata": {},
     "output_type": "execute_result"
    }
   ],
   "execution_count": 8
  },
  {
   "metadata": {
    "ExecuteTime": {
     "end_time": "2024-08-06T14:18:22.638212Z",
     "start_time": "2024-08-06T14:18:22.411218Z"
    }
   },
   "cell_type": "code",
   "source": [
    "flight = flights[2]\n",
    "buttons_xpath = './/div/div/div/div/div[2]/div[1]/div'\n",
    "buttons = flight.find_elements(By.XPATH, buttons_xpath)\n",
    "driver.execute_script(\"arguments[0].click();\", buttons[0])\n",
    "\n",
    "details_area = flight.find_element(By.XPATH, './/div/div/div/div[3]/div/div')\n",
    "details_html = BeautifulSoup(details_area.get_attribute('innerHTML'), 'html.parser')\n",
    "\n",
    "if len(details_html.text) < 50:\n",
    "    details_area = flight.find_element(By.XPATH, './/div/div[1]/div[4]/div/div')\n",
    "    details_html = BeautifulSoup(details_area.get_attribute('innerHTML'), 'html.parser')"
   ],
   "id": "cadca65dbead100a",
   "outputs": [],
   "execution_count": 9
  },
  {
   "metadata": {
    "ExecuteTime": {
     "end_time": "2024-08-06T14:18:25.548848Z",
     "start_time": "2024-08-06T14:18:25.531923Z"
    }
   },
   "cell_type": "code",
   "source": "details_html",
   "id": "4c86540c86d6e51a",
   "outputs": [
    {
     "data": {
      "text/plain": [
       "<div class=\"css-1dbjc4n r-1ielgck r-1ivxbpt r-1i1ao36\"><div class=\"css-1dbjc4n r-1ielgck r-otx420 r-1i1ao36\"><div class=\"css-1dbjc4n r-e8mqni r-1habvwh r-18u37iz r-1h0z5md r-11c0sde\"><div class=\"css-1dbjc4n r-e8mqni r-1habvwh r-13awgt0 r-18u37iz r-1h0z5md r-88pszg\"><div class=\"css-1dbjc4n r-13awgt0 r-13qz1uu\"><div class=\"css-1dbjc4n r-1tuna9m r-1oszu61 r-18u37iz r-1h0z5md\"><div class=\"css-1dbjc4n r-e8mqni r-1d09ksm r-1h0z5md r-ttb5dx\"><div class=\"css-901oao r-t1w4ow r-1b43r93 r-majxgm r-rjixqe r-5oul0u r-fdjqy7\" dir=\"auto\" style=\"color: rgb(3, 18, 26);\">22:55</div><div class=\"css-901oao r-t1w4ow r-1enofrn r-majxgm r-1cwl3u0 r-fdjqy7\" dir=\"auto\" style=\"color: rgb(104, 113, 118);\">13 Aug</div></div><div class=\"css-1dbjc4n r-uia4a0 r-1awozwy r-1h0z5md r-13hce6t r-1mf7evn r-1jg9483\"><div class=\"css-1dbjc4n r-14lw9ot r-1naam9t r-sdzlij r-rs99b7 r-tbmifm r-1s2bzr4 r-16eto9q\"></div><div class=\"css-1dbjc4n r-p9fnmn r-13awgt0 r-92ng3h\"></div></div><div class=\"css-1dbjc4n r-e8mqni r-1habvwh r-13awgt0 r-1h0z5md\"><div class=\"css-901oao r-t1w4ow r-1b43r93 r-majxgm r-rjixqe r-5oul0u r-fdjqy7\" dir=\"auto\" style=\"color: rgb(3, 18, 26);\">Hanoi (HAN)</div><div class=\"css-901oao r-t1w4ow r-1enofrn r-majxgm r-1cwl3u0 r-fdjqy7\" dir=\"auto\" style=\"color: rgb(104, 113, 118);\">Noibai International Airport</div><div class=\"css-901oao r-t1w4ow r-1enofrn r-majxgm r-1cwl3u0 r-fdjqy7\" dir=\"auto\" style=\"color: rgb(104, 113, 118);\">Terminal 1</div></div></div><div class=\"css-1dbjc4n r-1tuna9m r-1oszu61 r-18u37iz r-1h0z5md\"><div class=\"css-1dbjc4n r-uia4a0 r-1awozwy r-18u37iz r-1h0z5md r-1ifxtd0 r-1s2bzr4 r-ttb5dx\"><div class=\"css-901oao r-13awgt0 r-t1w4ow r-1enofrn r-majxgm r-1cwl3u0 r-fdjqy7\" dir=\"auto\" style=\"color: rgb(104, 113, 118);\">1h 20m</div></div><div class=\"css-1dbjc4n r-uia4a0 r-1awozwy r-1h0z5md r-13hce6t r-1mf7evn r-1jg9483\"><div class=\"css-1dbjc4n r-p9fnmn r-13awgt0 r-92ng3h\"></div></div><div class=\"css-1dbjc4n r-1ifxtd0 r-1s2bzr4 r-xd6kpl r-13qz1uu\"><div class=\"css-1dbjc4n r-18u37iz r-15zivkp r-1mf7evn\"><div class=\"css-1dbjc4n r-13awgt0 r-eqz5dr\"><div class=\"css-1dbjc4n r-1awozwy r-18u37iz\"><div class=\"css-901oao r-t1w4ow r-1b43r93 r-majxgm r-rjixqe r-fdjqy7\" dir=\"auto\" style=\"color: rgb(3, 18, 26);\">VietJet Air </div><div class=\"css-1dbjc4n r-13hce6t r-1bymd8e\"><img alt=\"VietJet Air\" decoding=\"async\" importance=\"low\" loading=\"lazy\" src=\"https://ik.imagekit.io/tvlk/image/imageResource/2022/11/29/1669692919958-81f0c812fcaa9551ef47319232a413c0.png?tr=q-75,w-28\" srcset=\"https://ik.imagekit.io/tvlk/image/imageResource/2022/11/29/1669692919958-81f0c812fcaa9551ef47319232a413c0.png?tr=q-75,w-28 1x, https://ik.imagekit.io/tvlk/image/imageResource/2022/11/29/1669692919958-81f0c812fcaa9551ef47319232a413c0.png?tr=dpr-2,q-75,w-28 2x, https://ik.imagekit.io/tvlk/image/imageResource/2022/11/29/1669692919958-81f0c812fcaa9551ef47319232a413c0.png?tr=dpr-3,q-75,w-28 3x\" style=\"object-fit: contain; object-position: 50% 50%;\" width=\"28\"/></div></div><div class=\"css-901oao r-t1w4ow r-1b43r93 r-majxgm r-rjixqe r-14gqq1x r-fdjqy7\" data-element=\"flightNumber\" dir=\"auto\" style=\"color: rgb(3, 18, 26);\">VJ-519 • Promo</div></div></div><div class=\"css-1dbjc4n\"><div class=\"css-1dbjc4n r-15zivkp r-7xmw5f\"><div class=\"css-901oao r-1l31rp8 r-sdzlij r-rs99b7 r-t1w4ow r-1enofrn r-majxgm r-1cwl3u0 r-15zivkp r-ou255f r-1ozex9x r-fdjqy7\" dir=\"auto\" style=\"color: rgb(104, 113, 118);\">Flight upgrade available</div></div><div class=\"css-1dbjc4n r-18u37iz r-1w6e6rj\"><div class=\"css-1dbjc4n r-3691iy r-1rem5b8\"><div class=\"css-1dbjc4n r-18u37iz r-1w6e6rj r-1h0z5md r-6gpygo\"><img height=\"20\" src=\"https://d1785e74lyxkqq.cloudfront.net/_next/static/v2/8/8c1bcc90ebe8e4f79eafc4270ec3dbcb.svg\" width=\"20\"/><div class=\"css-1dbjc4n r-13awgt0\"><div class=\"css-1dbjc4n r-1mnahxq\"><div class=\"css-901oao r-13awgt0 r-t1w4ow r-1b43r93 r-majxgm r-rjixqe r-19u6a5r r-fdjqy7\" dir=\"auto\" style=\"color: rgb(104, 113, 118);\">Baggage 0kg (buy at booking)</div></div><div class=\"css-1dbjc4n r-14gqq1x\"><div class=\"css-901oao r-13awgt0 r-t1w4ow r-1b43r93 r-majxgm r-rjixqe r-19u6a5r r-fdjqy7\" dir=\"auto\" style=\"color: rgb(104, 113, 118);\">Cabin baggage 7 kg</div></div><div class=\"css-1dbjc4n r-1loqt21 r-1otgn73 r-1i6wzkk r-lrvibr\" style=\"transition-duration: 0s;\" tabindex=\"0\"><div class=\"css-1dbjc4n r-1habvwh r-13awgt0 r-18u37iz r-1h0z5md r-19u6a5r r-knv0ih\"><img alt=\"Baggage Prices\" height=\"12\" src=\"https://d1785e74lyxkqq.cloudfront.net/_next/static/v2/6/62628bf9641990d5998799e7ec570e1f.svg\" style=\"margin-top: 2px; margin-right: 4px;\" width=\"12\"/><div class=\"css-901oao r-1i6uqv8 r-13awgt0 r-t1w4ow r-1enofrn r-b88u0q r-1cwl3u0 r-fdjqy7\" dir=\"auto\">See Extra Baggage Prices</div></div></div></div></div></div><div class=\"css-1dbjc4n r-13awgt0\"><div class=\"css-1dbjc4n r-18u37iz r-1w6e6rj r-1h0z5md r-6gpygo\"><img height=\"20\" src=\"https://d1785e74lyxkqq.cloudfront.net/_next/static/v2/5/567f2962d08a29f3aba7367f2a1099e1.svg\" width=\"20\"/><div class=\"css-1dbjc4n r-13awgt0\"><div class=\"css-901oao r-t1w4ow r-1b43r93 r-majxgm r-rjixqe r-19u6a5r r-fdjqy7\" dir=\"auto\" style=\"color: rgb(104, 113, 118);\">Airbus A320-100/200</div></div></div></div></div></div></div></div><div class=\"css-1dbjc4n r-1tuna9m r-1oszu61 r-18u37iz r-1h0z5md\"><div class=\"css-1dbjc4n r-e8mqni r-1d09ksm r-1h0z5md r-q3we1 r-ttb5dx\"><div class=\"css-901oao r-t1w4ow r-1b43r93 r-majxgm r-rjixqe r-fdjqy7\" dir=\"auto\" style=\"color: rgb(3, 18, 26);\">00:15</div><div class=\"css-901oao r-t1w4ow r-1enofrn r-majxgm r-1cwl3u0 r-fdjqy7\" dir=\"auto\" style=\"color: rgb(104, 113, 118);\">14 Aug</div></div><div class=\"css-1dbjc4n r-uia4a0 r-1awozwy r-1h0z5md r-13hce6t r-1mf7evn r-1jg9483\"><div class=\"css-1dbjc4n r-1naam9t r-sdzlij r-rs99b7 r-tbmifm r-16eto9q\" style=\"background-color: rgb(1, 148, 243);\"></div></div><div class=\"css-1dbjc4n r-e8mqni r-1habvwh r-13awgt0 r-1h0z5md r-q3we1\"><div class=\"css-901oao r-t1w4ow r-1b43r93 r-majxgm r-rjixqe r-fdjqy7\" dir=\"auto\" style=\"color: rgb(3, 18, 26);\">Da Nang (DAD)</div><div class=\"css-901oao r-t1w4ow r-1enofrn r-majxgm r-1cwl3u0 r-fdjqy7\" dir=\"auto\" style=\"color: rgb(104, 113, 118);\">Da Nang Airport</div></div></div></div></div></div></div></div>"
      ]
     },
     "execution_count": 10,
     "metadata": {},
     "output_type": "execute_result"
    }
   ],
   "execution_count": 10
  },
  {
   "metadata": {
    "ExecuteTime": {
     "end_time": "2024-08-06T14:18:28.362333Z",
     "start_time": "2024-08-06T14:18:28.179109Z"
    }
   },
   "cell_type": "code",
   "source": [
    "flight = flights[3]\n",
    "buttons_xpath = './/div/div/div/div/div[2]/div[1]/div'\n",
    "buttons = flight.find_elements(By.XPATH, buttons_xpath)\n",
    "driver.execute_script(\"arguments[0].click();\", buttons[0])\n",
    "\n",
    "details_area = flight.find_element(By.XPATH, './/div/div/div/div[3]/div/div')\n",
    "details_html = BeautifulSoup(details_area.get_attribute('innerHTML'), 'html.parser')\n",
    "\n",
    "if len(details_html.text) < 50:\n",
    "    details_area = flight.find_element(By.XPATH, './/div/div[1]/div[4]/div/div')\n",
    "    details_html = BeautifulSoup(details_area.get_attribute('innerHTML'), 'html.parser')"
   ],
   "id": "9d8a6fdae4399e03",
   "outputs": [],
   "execution_count": 11
  },
  {
   "metadata": {
    "ExecuteTime": {
     "end_time": "2024-08-06T14:18:32.659240Z",
     "start_time": "2024-08-06T14:18:32.647865Z"
    }
   },
   "cell_type": "code",
   "source": "details_html",
   "id": "ca154a9aea625302",
   "outputs": [
    {
     "data": {
      "text/plain": [
       "<div class=\"css-1dbjc4n r-1ielgck r-1ivxbpt r-1i1ao36\"><div class=\"css-1dbjc4n r-1ielgck r-otx420 r-1i1ao36\"><div class=\"css-1dbjc4n r-e8mqni r-1habvwh r-18u37iz r-1h0z5md r-11c0sde\"><div class=\"css-1dbjc4n r-e8mqni r-1habvwh r-13awgt0 r-18u37iz r-1h0z5md r-88pszg\"><div class=\"css-1dbjc4n r-13awgt0 r-13qz1uu\"><div class=\"css-1dbjc4n r-1tuna9m r-1oszu61 r-18u37iz r-1h0z5md\"><div class=\"css-1dbjc4n r-e8mqni r-1d09ksm r-1h0z5md r-ttb5dx\"><div class=\"css-901oao r-t1w4ow r-1b43r93 r-majxgm r-rjixqe r-5oul0u r-fdjqy7\" dir=\"auto\" style=\"color: rgb(3, 18, 26);\">18:30</div><div class=\"css-901oao r-t1w4ow r-1enofrn r-majxgm r-1cwl3u0 r-fdjqy7\" dir=\"auto\" style=\"color: rgb(104, 113, 118);\">13 Aug</div></div><div class=\"css-1dbjc4n r-uia4a0 r-1awozwy r-1h0z5md r-13hce6t r-1mf7evn r-1jg9483\"><div class=\"css-1dbjc4n r-14lw9ot r-1naam9t r-sdzlij r-rs99b7 r-tbmifm r-1s2bzr4 r-16eto9q\"></div><div class=\"css-1dbjc4n r-p9fnmn r-13awgt0 r-92ng3h\"></div></div><div class=\"css-1dbjc4n r-e8mqni r-1habvwh r-13awgt0 r-1h0z5md\"><div class=\"css-901oao r-t1w4ow r-1b43r93 r-majxgm r-rjixqe r-5oul0u r-fdjqy7\" dir=\"auto\" style=\"color: rgb(3, 18, 26);\">Hanoi (HAN)</div><div class=\"css-901oao r-t1w4ow r-1enofrn r-majxgm r-1cwl3u0 r-fdjqy7\" dir=\"auto\" style=\"color: rgb(104, 113, 118);\">Noibai International Airport</div></div></div><div class=\"css-1dbjc4n r-1tuna9m r-1oszu61 r-18u37iz r-1h0z5md\"><div class=\"css-1dbjc4n r-uia4a0 r-1awozwy r-18u37iz r-1h0z5md r-1ifxtd0 r-1s2bzr4 r-ttb5dx\"><div class=\"css-901oao r-13awgt0 r-t1w4ow r-1enofrn r-majxgm r-1cwl3u0 r-fdjqy7\" dir=\"auto\" style=\"color: rgb(104, 113, 118);\">1h 20m</div></div><div class=\"css-1dbjc4n r-uia4a0 r-1awozwy r-1h0z5md r-13hce6t r-1mf7evn r-1jg9483\"><div class=\"css-1dbjc4n r-p9fnmn r-13awgt0 r-92ng3h\"></div></div><div class=\"css-1dbjc4n r-1ifxtd0 r-1s2bzr4 r-xd6kpl r-13qz1uu\"><div class=\"css-1dbjc4n r-18u37iz r-15zivkp r-1mf7evn\"><div class=\"css-1dbjc4n r-13awgt0 r-eqz5dr\"><div class=\"css-1dbjc4n r-1awozwy r-18u37iz\"><div class=\"css-901oao r-t1w4ow r-1b43r93 r-majxgm r-rjixqe r-fdjqy7\" dir=\"auto\" style=\"color: rgb(3, 18, 26);\">Bamboo Airways </div><div class=\"css-1dbjc4n r-13hce6t r-1bymd8e\"><img alt=\"Bamboo Airways\" decoding=\"async\" importance=\"low\" loading=\"lazy\" src=\"https://ik.imagekit.io/tvlk/image/imageResource/2020/02/19/1582084897287-d2de240a06eac5e3a70126425b62ee0b.png?tr=q-75,w-28\" srcset=\"https://ik.imagekit.io/tvlk/image/imageResource/2020/02/19/1582084897287-d2de240a06eac5e3a70126425b62ee0b.png?tr=q-75,w-28 1x, https://ik.imagekit.io/tvlk/image/imageResource/2020/02/19/1582084897287-d2de240a06eac5e3a70126425b62ee0b.png?tr=dpr-2,q-75,w-28 2x, https://ik.imagekit.io/tvlk/image/imageResource/2020/02/19/1582084897287-d2de240a06eac5e3a70126425b62ee0b.png?tr=dpr-3,q-75,w-28 3x\" style=\"object-fit: contain; object-position: 50% 50%;\" width=\"28\"/></div></div><div class=\"css-901oao r-t1w4ow r-1b43r93 r-majxgm r-rjixqe r-14gqq1x r-fdjqy7\" data-element=\"flightNumber\" dir=\"auto\" style=\"color: rgb(3, 18, 26);\">QH-125 • Promo</div></div></div><div class=\"css-1dbjc4n\"><div class=\"css-1dbjc4n r-15zivkp r-7xmw5f\"><div class=\"css-901oao r-1l31rp8 r-sdzlij r-rs99b7 r-t1w4ow r-1enofrn r-majxgm r-1cwl3u0 r-15zivkp r-ou255f r-1ozex9x r-fdjqy7\" dir=\"auto\" style=\"color: rgb(104, 113, 118);\">Flight upgrade available</div></div><div class=\"css-1dbjc4n r-18u37iz r-1w6e6rj\"><div class=\"css-1dbjc4n r-3691iy r-1rem5b8\"><div class=\"css-1dbjc4n r-18u37iz r-1w6e6rj r-1h0z5md r-6gpygo\"><svg height=\"20\" viewbox=\"0 0 24 24\" width=\"20\" xmlns=\"http://www.w3.org/2000/svg\"><g fill=\"none\" fill-rule=\"evenodd\"><rect height=\"24\" width=\"24\"></rect><path d=\"M9,5 L15,5 C15.5522847,5 16,5.44771525 16,6 L16,8 L8,8 L8,6 C8,5.44771525 8.44771525,5 9,5 Z M4.5638852,8 L19.4361148,8 C20.3276335,8 20.6509198,8.09282561 20.9768457,8.2671327 C21.3027716,8.4414398 21.5585602,8.69722837 21.7328673,9.0231543 C21.9071744,9.34908022 22,9.67236646 22,10.5638852 L22,17.4361148 C22,18.3276335 21.9071744,18.6509198 21.7328673,18.9768457 C21.5585602,19.3027716 21.3027716,19.5585602 20.9768457,19.7328673 C20.6509198,19.9071744 20.3276335,20 19.4361148,20 L4.5638852,20 C3.67236646,20 3.34908022,19.9071744 3.0231543,19.7328673 C2.69722837,19.5585602 2.4414398,19.3027716 2.2671327,18.9768457 C2.09282561,18.6509198 2,18.3276335 2,17.4361148 L2,10.5638852 C2,9.67236646 2.09282561,9.34908022 2.2671327,9.0231543 C2.4414398,8.69722837 2.69722837,8.4414398 3.0231543,8.2671327 C3.34908022,8.09282561 3.67236646,8 4.5638852,8 Z\" stroke=\"#687176\" stroke-width=\"2\"></path><text fill=\"#687176\" font-family=\"Godwit, MuseoSans, -apple-system, BlinkMacSystemFont, Segoe UI, Roboto, Helvetica, Arial, sans-serif, Apple Color Emoji, Segoe UI Emoji, Segoe UI Symbol\" font-size=\"11\" font-weight=\"900\" x=\"8.5\" y=\"18\"><tspan>0</tspan></text></g></svg><div class=\"css-1dbjc4n r-13awgt0\"><div class=\"css-1dbjc4n r-1mnahxq\"><div class=\"css-901oao r-13awgt0 r-t1w4ow r-1b43r93 r-majxgm r-rjixqe r-19u6a5r r-fdjqy7\" dir=\"auto\" style=\"color: rgb(104, 113, 118);\">Baggage 0 kg</div></div><div class=\"css-1dbjc4n r-14gqq1x\"><div class=\"css-901oao r-13awgt0 r-t1w4ow r-1b43r93 r-majxgm r-rjixqe r-19u6a5r r-fdjqy7\" dir=\"auto\" style=\"color: rgb(104, 113, 118);\">Cabin baggage 7 kg</div></div></div></div><div class=\"css-1dbjc4n r-18u37iz r-1w6e6rj r-1h0z5md r-6gpygo\"><img height=\"20\" src=\"https://d1785e74lyxkqq.cloudfront.net/_next/static/v2/9/9a04279cc3ee0da496346b8275644fca.svg\" width=\"20\"/><div class=\"css-1dbjc4n r-13awgt0\"><div class=\"css-901oao r-13awgt0 r-t1w4ow r-1b43r93 r-majxgm r-rjixqe r-19u6a5r r-fdjqy7\" dir=\"auto\" style=\"color: rgb(104, 113, 118);\">In-flight entertainment</div></div></div></div><div class=\"css-1dbjc4n r-13awgt0\"><div class=\"css-1dbjc4n r-18u37iz r-1w6e6rj r-1h0z5md r-6gpygo\"><img height=\"20\" src=\"https://d1785e74lyxkqq.cloudfront.net/_next/static/v2/5/567f2962d08a29f3aba7367f2a1099e1.svg\" width=\"20\"/><div class=\"css-1dbjc4n r-13awgt0\"><div class=\"css-901oao r-t1w4ow r-1b43r93 r-majxgm r-rjixqe r-19u6a5r r-fdjqy7\" dir=\"auto\" style=\"color: rgb(104, 113, 118);\">Airbus A321</div><div class=\"css-901oao r-t1w4ow r-1b43r93 r-majxgm r-rjixqe r-19u6a5r r-fdjqy7\" dir=\"auto\" style=\"color: rgb(104, 113, 118);\"><span class=\"css-901oao css-16my406 r-t1w4ow r-1b43r93 r-majxgm r-rjixqe r-1d4mawv r-fdjqy7\" style=\"color: rgb(104, 113, 118);\">3-3</span>Seat layout</div><div class=\"css-901oao r-t1w4ow r-1b43r93 r-majxgm r-rjixqe r-19u6a5r r-fdjqy7\" dir=\"auto\" style=\"color: rgb(104, 113, 118);\"><span class=\"css-901oao css-16my406 r-t1w4ow r-1b43r93 r-majxgm r-rjixqe r-1d4mawv r-fdjqy7\" style=\"color: rgb(104, 113, 118);\">29-inches </span>Seat pitch (standard)</div></div></div></div></div></div></div></div><div class=\"css-1dbjc4n r-1tuna9m r-1oszu61 r-18u37iz r-1h0z5md\"><div class=\"css-1dbjc4n r-e8mqni r-1d09ksm r-1h0z5md r-q3we1 r-ttb5dx\"><div class=\"css-901oao r-t1w4ow r-1b43r93 r-majxgm r-rjixqe r-fdjqy7\" dir=\"auto\" style=\"color: rgb(3, 18, 26);\">19:50</div><div class=\"css-901oao r-t1w4ow r-1enofrn r-majxgm r-1cwl3u0 r-fdjqy7\" dir=\"auto\" style=\"color: rgb(104, 113, 118);\">13 Aug</div></div><div class=\"css-1dbjc4n r-uia4a0 r-1awozwy r-1h0z5md r-13hce6t r-1mf7evn r-1jg9483\"><div class=\"css-1dbjc4n r-1naam9t r-sdzlij r-rs99b7 r-tbmifm r-16eto9q\" style=\"background-color: rgb(1, 148, 243);\"></div></div><div class=\"css-1dbjc4n r-e8mqni r-1habvwh r-13awgt0 r-1h0z5md r-q3we1\"><div class=\"css-901oao r-t1w4ow r-1b43r93 r-majxgm r-rjixqe r-fdjqy7\" dir=\"auto\" style=\"color: rgb(3, 18, 26);\">Da Nang (DAD)</div><div class=\"css-901oao r-t1w4ow r-1enofrn r-majxgm r-1cwl3u0 r-fdjqy7\" dir=\"auto\" style=\"color: rgb(104, 113, 118);\">Da Nang Airport</div></div></div></div></div></div></div></div>"
      ]
     },
     "execution_count": 12,
     "metadata": {},
     "output_type": "execute_result"
    }
   ],
   "execution_count": 12
  },
  {
   "metadata": {},
   "cell_type": "code",
   "outputs": [],
   "execution_count": null,
   "source": "",
   "id": "502ec55be81170d1"
  }
 ],
 "metadata": {
  "kernelspec": {
   "display_name": "Python 3",
   "language": "python",
   "name": "python3"
  },
  "language_info": {
   "codemirror_mode": {
    "name": "ipython",
    "version": 2
   },
   "file_extension": ".py",
   "mimetype": "text/x-python",
   "name": "python",
   "nbconvert_exporter": "python",
   "pygments_lexer": "ipython2",
   "version": "2.7.6"
  }
 },
 "nbformat": 4,
 "nbformat_minor": 5
}
